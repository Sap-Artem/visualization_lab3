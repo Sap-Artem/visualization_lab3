{
  "nbformat": 4,
  "nbformat_minor": 0,
  "metadata": {
    "colab": {
      "provenance": [],
      "name": "lab3.ipynb",
      "include_colab_link": true
    },
    "kernelspec": {
      "name": "python3",
      "display_name": "Python 3"
    },
    "language_info": {
      "name": "python"
    }
  },
  "cells": [
    {
      "cell_type": "markdown",
      "metadata": {
        "id": "view-in-github",
        "colab_type": "text"
      },
      "source": [
        "<a href=\"https://colab.research.google.com/github/Sap-Artem/visualization_lab3/blob/main/lab3.ipynb\" target=\"_parent\"><img src=\"https://colab.research.google.com/assets/colab-badge.svg\" alt=\"Open In Colab\"/></a>"
      ]
    },
    {
      "cell_type": "markdown",
      "source": [
        "# Постановка задачи\n"
      ],
      "metadata": {
        "id": "Mx1V6rkZLGNJ"
      }
    },
    {
      "cell_type": "markdown",
      "source": [
        "**Цель работы:** исследование и обработка данных для повышения их качества.\n",
        "\n",
        "**Краткое описание:** в лабораторной работе приводится поэтапный план изучения и обработки намеренно не предобработанных данных. Необходимо выполнить все этапы плана и оценить результаты преобразований."
      ],
      "metadata": {
        "id": "BPzgy4tKLP-x"
      }
    },
    {
      "cell_type": "markdown",
      "metadata": {
        "id": "xjvL0IIG8Jd0"
      },
      "source": [
        "# Данные\n"
      ]
    },
    {
      "cell_type": "markdown",
      "metadata": {
        "id": "oP3lX9xC8Jd8"
      },
      "source": [
        "\n",
        "В папке [Data/lab3](https://drive.google.com/drive/folders/1437z7m5Ut4WUJOhJg1oZz13dtBpxgFKs?usp=share_link) расположена таблица `monster_com_job_sample.com` с данными о вакансиях. Также эти данные с описанием и примерами обработки можно найти на [kaggle](https://www.kaggle.com/code/ankkur13/perfect-dataset-to-get-the-hands-dirty/data#).\n",
        "\n",
        "##### **Формат данных**\n",
        "\n",
        "```\n",
        "country,country_code,date_added,has_expired,job_board,job_description,job_title,job_type,location,organization,page_url,salary,sector,uniq_id\n",
        "United States of America,US,\"\",No,jobs.monster.com,\"TeamSoft is seeing an IT Support Specialist to join our client in Madison, WI. The ideal candidate must have at least 6 years of experience in the field. They need to be familiar with a variety of the field's concepts, practices, and procedures as this position relies on extensive experience and judgment to plan and accomplish goals. Required Skills:вАҐ Call tracking softwareвАҐ Phone based technical supportвАҐ Problem documentation and communicationвАҐ Remote Desktop Management ToolsвАҐ Respond to customer requestsвАҐ General understanding of LANDeskвАҐ Microsoft Office 2007 SuiteFind out why TeamSoft is the Madison area's technology leader with over 200 IT consultants. Owned, operated, and managed by IT consultants, TeamSoft is the clear choice for your career. Join the TeamSoft family today!Did you know?вАҐ TeamSoft offers salaried options for many positions that include 5 weeks PTO and great benefits!вАҐ TeamSoft has been in business since 1996вАҐ TeamSoft's owners are local IT professionals who possess a wealth of experience in application development, business analysis, and project managementвАҐ TeamSoft's Recruiters are knowledgeable, friendly, and ready to help you make your next great career moveвАҐ TeamSoft offers a full benefits suite to all of our W2 consultants, including a 401k plan with a 100% vested 4% dollar for dollar matchвАҐ Our targeted selection process is designed to get to know your strengths and career interests and provide you with the best chance for success in your new positionвАҐ Our longest running consultant has been with us for 16 yearsвАҐ Consultants can participate in our charitable giving committee. To date, TeamSoft's charitable giving committee has donated over $100,000!TeamSoft is owned by local IT professionals. Our team also has deep experience with IT staffing. Our clients understand this and rely on our expertise. That is why TeamSoft is the Madison Area's largest privately owned IT consulting firm, with more than 200 current consultants! With over 50 active clients, TeamSoft will give you the greatest exposure to the widest range of IT careers.Our owners possess a combined 60+ years of IT consulting experience. Our recruiting and Account Management staff are very well-versed in our client markets. We get you. We know you. We know what you do every day. And we know what you deal with on the job.You take your career seriously and so do we. At TeamSoft you are not just a resume or number. Our goal is to create long-term partnerships with each of our consultants, and according to feedback from many of them, we are very good at this. Click HERE to see what our consultants have to say about working with TeamSoft.TeamSoft -- Promote yourself!TeamSoft is an equal employment opportunity employer functioning under an Affirmative Action Plan.\",IT Support Technician Job in Madison,Full Time Employee,\"Madison, WI 53702\",\"\",http://jobview.monster.com/it-support-technician-job-madison-wi-us-167855963.aspx?mescoid=1500134001001&jobPosition=20,\"\",IT/Software Development,11d599f229a80023d2f40e7c52cd941e\n",
        "United States of America,US,\"\",No,jobs.monster.com,\"The Wisconsin State Journal is seeking a flexible and motivated reporter/editor to lead its three-person business desk. WeвАЩre looking for an experienced journalist able to spot trends, be a watchdog and reflect the Madison areaвАЩs vibrant entrepreneurial community. This is a hybrid reporting and editing position that calls for a fleet-footed, multimedia storyteller able to maximize the newspaperвАЩs online presentation while also editing two sections a week. Candidates must have strong news judgment, be well versed in business news and trends and be able to quickly prioritize coverage.At least five yearsвАЩ experience reporting or editing for digital and print platforms desired. To be considered for the position, applicants must apply online.¬†As part of your online application, please attach five samples of your work or links to five recent stories.Wisconsin State Journal, 1901 Fish Hatchery Road, Madison, WI 53713Affirmative Action/Equal Opportunity Employer/Pre-employment drug testing appliesPI94338362Apply Here\",Business Reporter/Editor Job in Madison,Full Time,\"Madison, WI 53708\",Printing and Publishing,http://jobview.monster.com/business-reporter-editor-job-madison-wi-us-167830105.aspx?mescoid=2700437001001&jobPosition=7,\"\",\"\",e4cbb126dabf22159aff90223243ff2a\n",
        "...\n",
        "```"
      ]
    },
    {
      "cell_type": "markdown",
      "source": [
        "##### **Описание полей**\n",
        " - ```country``` — наименование страны;\n",
        " - ```country_code``` — код страны;\n",
        " - ```date_added``` — дата размещения вакансии;\n",
        " - ```has_expired``` — актуальность вакансии;\n",
        " - ```job_board``` — агрегатор вакансий, с которого собраны данные;\n",
        " - ```job_description``` — описание вакансии;\n",
        " - ```job_title``` — наименование должности;\n",
        " - ```job_type``` — вид занятости;\n",
        " - ```location``` — метоположение организации;\n",
        " - ```organization``` — наименование организации;\n",
        " - ```page_url``` — ссылка на страницу с вакансией;\n",
        " - ```salary``` — заработная плата;\n",
        " - ```sector``` — сфера деятельности;\n",
        " - ```uniq_id``` — уникальный идентификатор записи о вакансии."
      ],
      "metadata": {
        "id": "6lEBcXdWuhD3"
      }
    },
    {
      "cell_type": "markdown",
      "source": [
        "# Понимание данных"
      ],
      "metadata": {
        "id": "SA63ZXNBkUde"
      }
    },
    {
      "cell_type": "code",
      "execution_count": 35,
      "metadata": {
        "id": "eZIcPcPutJ7k"
      },
      "outputs": [],
      "source": [
        "import re\n",
        "import numpy as np\n",
        "import pandas as pd\n",
        "import missingno as msno\n",
        "from matplotlib import pyplot as plt\n",
        "import seaborn as sns"
      ]
    },
    {
      "cell_type": "markdown",
      "source": [
        "В датасете есть несколько столбцов, в каждой ячейке которых записано одно и то же значение. Есть столбцы, в которых формат записи значений не стандартизирован. А есть такие, где указана информация, не соответствующая названию столбца.\n",
        "\n",
        "**Первый этап изучения данных** – понять, какие основные проблемы предстоит решить для каждого из столбцов. Для этого загрузите датасет и выведите случайные несколько строк из него. Постарайтесь понять, что из себя представляют данные в столбцах."
      ],
      "metadata": {
        "id": "Fy8Z7sNYyJdO"
      }
    },
    {
      "cell_type": "code",
      "source": [
        "data = pd.read_csv('monster_com_job_sample.csv')\n",
        "data.head()"
      ],
      "metadata": {
        "id": "Pg3YapMnEEDH",
        "colab": {
          "base_uri": "https://localhost:8080/",
          "height": 521
        },
        "outputId": "259353ed-48a1-4382-99f7-e70dd14ad7df"
      },
      "execution_count": 36,
      "outputs": [
        {
          "output_type": "execute_result",
          "data": {
            "text/plain": [
              "                    country country_code date_added has_expired  \\\n",
              "0  United States of America           US        NaN          No   \n",
              "1  United States of America           US        NaN          No   \n",
              "2  United States of America           US        NaN          No   \n",
              "3  United States of America           US        NaN          No   \n",
              "4  United States of America           US        NaN          No   \n",
              "\n",
              "          job_board                                    job_description  \\\n",
              "0  jobs.monster.com  TeamSoft is seeing an IT Support Specialist to...   \n",
              "1  jobs.monster.com  The Wisconsin State Journal is seeking a flexi...   \n",
              "2  jobs.monster.com  Report this job About the Job DePuy Synthes Co...   \n",
              "3  jobs.monster.com  Why Join Altec? If you’re considering a career...   \n",
              "4  jobs.monster.com  Position ID#  76162 # Positions  1 State  CT C...   \n",
              "\n",
              "                                           job_title             job_type  \\\n",
              "0               IT Support Technician Job in Madison   Full Time Employee   \n",
              "1            Business Reporter/Editor Job in Madison            Full Time   \n",
              "2  Johnson & Johnson Family of Companies Job Appl...  Full Time, Employee   \n",
              "3                    Engineer - Quality Job in Dixon            Full Time   \n",
              "4       Shift Supervisor - Part-Time Job in Camphill   Full Time Employee   \n",
              "\n",
              "                                            location  \\\n",
              "0                                  Madison, WI 53702   \n",
              "1                                  Madison, WI 53708   \n",
              "2  DePuy Synthes Companies is a member of Johnson...   \n",
              "3                                          Dixon, CA   \n",
              "4                                       Camphill, PA   \n",
              "\n",
              "                      organization  \\\n",
              "0                              NaN   \n",
              "1          Printing and Publishing   \n",
              "2  Personal and Household Services   \n",
              "3                 Altec Industries   \n",
              "4                           Retail   \n",
              "\n",
              "                                            page_url salary  \\\n",
              "0  http://jobview.monster.com/it-support-technici...    NaN   \n",
              "1  http://jobview.monster.com/business-reporter-e...    NaN   \n",
              "2  http://jobview.monster.com/senior-training-lea...    NaN   \n",
              "3  http://jobview.monster.com/engineer-quality-jo...    NaN   \n",
              "4  http://jobview.monster.com/shift-supervisor-pa...    NaN   \n",
              "\n",
              "                       sector                           uniq_id  \n",
              "0     IT/Software Development  11d599f229a80023d2f40e7c52cd941e  \n",
              "1                         NaN  e4cbb126dabf22159aff90223243ff2a  \n",
              "2                         NaN  839106b353877fa3d896ffb9c1fe01c0  \n",
              "3   Experienced (Non-Manager)  58435fcab804439efdcaa7ecca0fd783  \n",
              "4  Project/Program Management  64d0272dc8496abfd9523a8df63c184c  "
            ],
            "text/html": [
              "\n",
              "  <div id=\"df-c0ea8ca4-8712-430a-9e77-212e85b845f1\" class=\"colab-df-container\">\n",
              "    <div>\n",
              "<style scoped>\n",
              "    .dataframe tbody tr th:only-of-type {\n",
              "        vertical-align: middle;\n",
              "    }\n",
              "\n",
              "    .dataframe tbody tr th {\n",
              "        vertical-align: top;\n",
              "    }\n",
              "\n",
              "    .dataframe thead th {\n",
              "        text-align: right;\n",
              "    }\n",
              "</style>\n",
              "<table border=\"1\" class=\"dataframe\">\n",
              "  <thead>\n",
              "    <tr style=\"text-align: right;\">\n",
              "      <th></th>\n",
              "      <th>country</th>\n",
              "      <th>country_code</th>\n",
              "      <th>date_added</th>\n",
              "      <th>has_expired</th>\n",
              "      <th>job_board</th>\n",
              "      <th>job_description</th>\n",
              "      <th>job_title</th>\n",
              "      <th>job_type</th>\n",
              "      <th>location</th>\n",
              "      <th>organization</th>\n",
              "      <th>page_url</th>\n",
              "      <th>salary</th>\n",
              "      <th>sector</th>\n",
              "      <th>uniq_id</th>\n",
              "    </tr>\n",
              "  </thead>\n",
              "  <tbody>\n",
              "    <tr>\n",
              "      <th>0</th>\n",
              "      <td>United States of America</td>\n",
              "      <td>US</td>\n",
              "      <td>NaN</td>\n",
              "      <td>No</td>\n",
              "      <td>jobs.monster.com</td>\n",
              "      <td>TeamSoft is seeing an IT Support Specialist to...</td>\n",
              "      <td>IT Support Technician Job in Madison</td>\n",
              "      <td>Full Time Employee</td>\n",
              "      <td>Madison, WI 53702</td>\n",
              "      <td>NaN</td>\n",
              "      <td>http://jobview.monster.com/it-support-technici...</td>\n",
              "      <td>NaN</td>\n",
              "      <td>IT/Software Development</td>\n",
              "      <td>11d599f229a80023d2f40e7c52cd941e</td>\n",
              "    </tr>\n",
              "    <tr>\n",
              "      <th>1</th>\n",
              "      <td>United States of America</td>\n",
              "      <td>US</td>\n",
              "      <td>NaN</td>\n",
              "      <td>No</td>\n",
              "      <td>jobs.monster.com</td>\n",
              "      <td>The Wisconsin State Journal is seeking a flexi...</td>\n",
              "      <td>Business Reporter/Editor Job in Madison</td>\n",
              "      <td>Full Time</td>\n",
              "      <td>Madison, WI 53708</td>\n",
              "      <td>Printing and Publishing</td>\n",
              "      <td>http://jobview.monster.com/business-reporter-e...</td>\n",
              "      <td>NaN</td>\n",
              "      <td>NaN</td>\n",
              "      <td>e4cbb126dabf22159aff90223243ff2a</td>\n",
              "    </tr>\n",
              "    <tr>\n",
              "      <th>2</th>\n",
              "      <td>United States of America</td>\n",
              "      <td>US</td>\n",
              "      <td>NaN</td>\n",
              "      <td>No</td>\n",
              "      <td>jobs.monster.com</td>\n",
              "      <td>Report this job About the Job DePuy Synthes Co...</td>\n",
              "      <td>Johnson &amp; Johnson Family of Companies Job Appl...</td>\n",
              "      <td>Full Time, Employee</td>\n",
              "      <td>DePuy Synthes Companies is a member of Johnson...</td>\n",
              "      <td>Personal and Household Services</td>\n",
              "      <td>http://jobview.monster.com/senior-training-lea...</td>\n",
              "      <td>NaN</td>\n",
              "      <td>NaN</td>\n",
              "      <td>839106b353877fa3d896ffb9c1fe01c0</td>\n",
              "    </tr>\n",
              "    <tr>\n",
              "      <th>3</th>\n",
              "      <td>United States of America</td>\n",
              "      <td>US</td>\n",
              "      <td>NaN</td>\n",
              "      <td>No</td>\n",
              "      <td>jobs.monster.com</td>\n",
              "      <td>Why Join Altec? If you’re considering a career...</td>\n",
              "      <td>Engineer - Quality Job in Dixon</td>\n",
              "      <td>Full Time</td>\n",
              "      <td>Dixon, CA</td>\n",
              "      <td>Altec Industries</td>\n",
              "      <td>http://jobview.monster.com/engineer-quality-jo...</td>\n",
              "      <td>NaN</td>\n",
              "      <td>Experienced (Non-Manager)</td>\n",
              "      <td>58435fcab804439efdcaa7ecca0fd783</td>\n",
              "    </tr>\n",
              "    <tr>\n",
              "      <th>4</th>\n",
              "      <td>United States of America</td>\n",
              "      <td>US</td>\n",
              "      <td>NaN</td>\n",
              "      <td>No</td>\n",
              "      <td>jobs.monster.com</td>\n",
              "      <td>Position ID#  76162 # Positions  1 State  CT C...</td>\n",
              "      <td>Shift Supervisor - Part-Time Job in Camphill</td>\n",
              "      <td>Full Time Employee</td>\n",
              "      <td>Camphill, PA</td>\n",
              "      <td>Retail</td>\n",
              "      <td>http://jobview.monster.com/shift-supervisor-pa...</td>\n",
              "      <td>NaN</td>\n",
              "      <td>Project/Program Management</td>\n",
              "      <td>64d0272dc8496abfd9523a8df63c184c</td>\n",
              "    </tr>\n",
              "  </tbody>\n",
              "</table>\n",
              "</div>\n",
              "    <div class=\"colab-df-buttons\">\n",
              "\n",
              "  <div class=\"colab-df-container\">\n",
              "    <button class=\"colab-df-convert\" onclick=\"convertToInteractive('df-c0ea8ca4-8712-430a-9e77-212e85b845f1')\"\n",
              "            title=\"Convert this dataframe to an interactive table.\"\n",
              "            style=\"display:none;\">\n",
              "\n",
              "  <svg xmlns=\"http://www.w3.org/2000/svg\" height=\"24px\" viewBox=\"0 -960 960 960\">\n",
              "    <path d=\"M120-120v-720h720v720H120Zm60-500h600v-160H180v160Zm220 220h160v-160H400v160Zm0 220h160v-160H400v160ZM180-400h160v-160H180v160Zm440 0h160v-160H620v160ZM180-180h160v-160H180v160Zm440 0h160v-160H620v160Z\"/>\n",
              "  </svg>\n",
              "    </button>\n",
              "\n",
              "  <style>\n",
              "    .colab-df-container {\n",
              "      display:flex;\n",
              "      gap: 12px;\n",
              "    }\n",
              "\n",
              "    .colab-df-convert {\n",
              "      background-color: #E8F0FE;\n",
              "      border: none;\n",
              "      border-radius: 50%;\n",
              "      cursor: pointer;\n",
              "      display: none;\n",
              "      fill: #1967D2;\n",
              "      height: 32px;\n",
              "      padding: 0 0 0 0;\n",
              "      width: 32px;\n",
              "    }\n",
              "\n",
              "    .colab-df-convert:hover {\n",
              "      background-color: #E2EBFA;\n",
              "      box-shadow: 0px 1px 2px rgba(60, 64, 67, 0.3), 0px 1px 3px 1px rgba(60, 64, 67, 0.15);\n",
              "      fill: #174EA6;\n",
              "    }\n",
              "\n",
              "    .colab-df-buttons div {\n",
              "      margin-bottom: 4px;\n",
              "    }\n",
              "\n",
              "    [theme=dark] .colab-df-convert {\n",
              "      background-color: #3B4455;\n",
              "      fill: #D2E3FC;\n",
              "    }\n",
              "\n",
              "    [theme=dark] .colab-df-convert:hover {\n",
              "      background-color: #434B5C;\n",
              "      box-shadow: 0px 1px 3px 1px rgba(0, 0, 0, 0.15);\n",
              "      filter: drop-shadow(0px 1px 2px rgba(0, 0, 0, 0.3));\n",
              "      fill: #FFFFFF;\n",
              "    }\n",
              "  </style>\n",
              "\n",
              "    <script>\n",
              "      const buttonEl =\n",
              "        document.querySelector('#df-c0ea8ca4-8712-430a-9e77-212e85b845f1 button.colab-df-convert');\n",
              "      buttonEl.style.display =\n",
              "        google.colab.kernel.accessAllowed ? 'block' : 'none';\n",
              "\n",
              "      async function convertToInteractive(key) {\n",
              "        const element = document.querySelector('#df-c0ea8ca4-8712-430a-9e77-212e85b845f1');\n",
              "        const dataTable =\n",
              "          await google.colab.kernel.invokeFunction('convertToInteractive',\n",
              "                                                    [key], {});\n",
              "        if (!dataTable) return;\n",
              "\n",
              "        const docLinkHtml = 'Like what you see? Visit the ' +\n",
              "          '<a target=\"_blank\" href=https://colab.research.google.com/notebooks/data_table.ipynb>data table notebook</a>'\n",
              "          + ' to learn more about interactive tables.';\n",
              "        element.innerHTML = '';\n",
              "        dataTable['output_type'] = 'display_data';\n",
              "        await google.colab.output.renderOutput(dataTable, element);\n",
              "        const docLink = document.createElement('div');\n",
              "        docLink.innerHTML = docLinkHtml;\n",
              "        element.appendChild(docLink);\n",
              "      }\n",
              "    </script>\n",
              "  </div>\n",
              "\n",
              "\n",
              "<div id=\"df-4285f8ec-13c2-4d48-8e5f-f239e73a8dd3\">\n",
              "  <button class=\"colab-df-quickchart\" onclick=\"quickchart('df-4285f8ec-13c2-4d48-8e5f-f239e73a8dd3')\"\n",
              "            title=\"Suggest charts\"\n",
              "            style=\"display:none;\">\n",
              "\n",
              "<svg xmlns=\"http://www.w3.org/2000/svg\" height=\"24px\"viewBox=\"0 0 24 24\"\n",
              "     width=\"24px\">\n",
              "    <g>\n",
              "        <path d=\"M19 3H5c-1.1 0-2 .9-2 2v14c0 1.1.9 2 2 2h14c1.1 0 2-.9 2-2V5c0-1.1-.9-2-2-2zM9 17H7v-7h2v7zm4 0h-2V7h2v10zm4 0h-2v-4h2v4z\"/>\n",
              "    </g>\n",
              "</svg>\n",
              "  </button>\n",
              "\n",
              "<style>\n",
              "  .colab-df-quickchart {\n",
              "      --bg-color: #E8F0FE;\n",
              "      --fill-color: #1967D2;\n",
              "      --hover-bg-color: #E2EBFA;\n",
              "      --hover-fill-color: #174EA6;\n",
              "      --disabled-fill-color: #AAA;\n",
              "      --disabled-bg-color: #DDD;\n",
              "  }\n",
              "\n",
              "  [theme=dark] .colab-df-quickchart {\n",
              "      --bg-color: #3B4455;\n",
              "      --fill-color: #D2E3FC;\n",
              "      --hover-bg-color: #434B5C;\n",
              "      --hover-fill-color: #FFFFFF;\n",
              "      --disabled-bg-color: #3B4455;\n",
              "      --disabled-fill-color: #666;\n",
              "  }\n",
              "\n",
              "  .colab-df-quickchart {\n",
              "    background-color: var(--bg-color);\n",
              "    border: none;\n",
              "    border-radius: 50%;\n",
              "    cursor: pointer;\n",
              "    display: none;\n",
              "    fill: var(--fill-color);\n",
              "    height: 32px;\n",
              "    padding: 0;\n",
              "    width: 32px;\n",
              "  }\n",
              "\n",
              "  .colab-df-quickchart:hover {\n",
              "    background-color: var(--hover-bg-color);\n",
              "    box-shadow: 0 1px 2px rgba(60, 64, 67, 0.3), 0 1px 3px 1px rgba(60, 64, 67, 0.15);\n",
              "    fill: var(--button-hover-fill-color);\n",
              "  }\n",
              "\n",
              "  .colab-df-quickchart-complete:disabled,\n",
              "  .colab-df-quickchart-complete:disabled:hover {\n",
              "    background-color: var(--disabled-bg-color);\n",
              "    fill: var(--disabled-fill-color);\n",
              "    box-shadow: none;\n",
              "  }\n",
              "\n",
              "  .colab-df-spinner {\n",
              "    border: 2px solid var(--fill-color);\n",
              "    border-color: transparent;\n",
              "    border-bottom-color: var(--fill-color);\n",
              "    animation:\n",
              "      spin 1s steps(1) infinite;\n",
              "  }\n",
              "\n",
              "  @keyframes spin {\n",
              "    0% {\n",
              "      border-color: transparent;\n",
              "      border-bottom-color: var(--fill-color);\n",
              "      border-left-color: var(--fill-color);\n",
              "    }\n",
              "    20% {\n",
              "      border-color: transparent;\n",
              "      border-left-color: var(--fill-color);\n",
              "      border-top-color: var(--fill-color);\n",
              "    }\n",
              "    30% {\n",
              "      border-color: transparent;\n",
              "      border-left-color: var(--fill-color);\n",
              "      border-top-color: var(--fill-color);\n",
              "      border-right-color: var(--fill-color);\n",
              "    }\n",
              "    40% {\n",
              "      border-color: transparent;\n",
              "      border-right-color: var(--fill-color);\n",
              "      border-top-color: var(--fill-color);\n",
              "    }\n",
              "    60% {\n",
              "      border-color: transparent;\n",
              "      border-right-color: var(--fill-color);\n",
              "    }\n",
              "    80% {\n",
              "      border-color: transparent;\n",
              "      border-right-color: var(--fill-color);\n",
              "      border-bottom-color: var(--fill-color);\n",
              "    }\n",
              "    90% {\n",
              "      border-color: transparent;\n",
              "      border-bottom-color: var(--fill-color);\n",
              "    }\n",
              "  }\n",
              "</style>\n",
              "\n",
              "  <script>\n",
              "    async function quickchart(key) {\n",
              "      const quickchartButtonEl =\n",
              "        document.querySelector('#' + key + ' button');\n",
              "      quickchartButtonEl.disabled = true;  // To prevent multiple clicks.\n",
              "      quickchartButtonEl.classList.add('colab-df-spinner');\n",
              "      try {\n",
              "        const charts = await google.colab.kernel.invokeFunction(\n",
              "            'suggestCharts', [key], {});\n",
              "      } catch (error) {\n",
              "        console.error('Error during call to suggestCharts:', error);\n",
              "      }\n",
              "      quickchartButtonEl.classList.remove('colab-df-spinner');\n",
              "      quickchartButtonEl.classList.add('colab-df-quickchart-complete');\n",
              "    }\n",
              "    (() => {\n",
              "      let quickchartButtonEl =\n",
              "        document.querySelector('#df-4285f8ec-13c2-4d48-8e5f-f239e73a8dd3 button');\n",
              "      quickchartButtonEl.style.display =\n",
              "        google.colab.kernel.accessAllowed ? 'block' : 'none';\n",
              "    })();\n",
              "  </script>\n",
              "</div>\n",
              "    </div>\n",
              "  </div>\n"
            ],
            "application/vnd.google.colaboratory.intrinsic+json": {
              "type": "dataframe",
              "variable_name": "data",
              "summary": "{\n  \"name\": \"data\",\n  \"rows\": 22000,\n  \"fields\": [\n    {\n      \"column\": \"country\",\n      \"properties\": {\n        \"dtype\": \"category\",\n        \"num_unique_values\": 1,\n        \"samples\": [\n          \"United States of America\"\n        ],\n        \"semantic_type\": \"\",\n        \"description\": \"\"\n      }\n    },\n    {\n      \"column\": \"country_code\",\n      \"properties\": {\n        \"dtype\": \"category\",\n        \"num_unique_values\": 1,\n        \"samples\": [\n          \"US\"\n        ],\n        \"semantic_type\": \"\",\n        \"description\": \"\"\n      }\n    },\n    {\n      \"column\": \"date_added\",\n      \"properties\": {\n        \"dtype\": \"date\",\n        \"min\": \"2016-02-29 00:00:00\",\n        \"max\": \"2017-01-16 00:00:00\",\n        \"num_unique_values\": 78,\n        \"samples\": [\n          \"4/7/2016\"\n        ],\n        \"semantic_type\": \"\",\n        \"description\": \"\"\n      }\n    },\n    {\n      \"column\": \"has_expired\",\n      \"properties\": {\n        \"dtype\": \"category\",\n        \"num_unique_values\": 1,\n        \"samples\": [\n          \"No\"\n        ],\n        \"semantic_type\": \"\",\n        \"description\": \"\"\n      }\n    },\n    {\n      \"column\": \"job_board\",\n      \"properties\": {\n        \"dtype\": \"category\",\n        \"num_unique_values\": 1,\n        \"samples\": [\n          \"jobs.monster.com\"\n        ],\n        \"semantic_type\": \"\",\n        \"description\": \"\"\n      }\n    },\n    {\n      \"column\": \"job_description\",\n      \"properties\": {\n        \"dtype\": \"string\",\n        \"num_unique_values\": 18744,\n        \"samples\": [\n          \"A Direct Hire Debt Finance Associate Job is now available through Parker + Lynch in the Los Angeles, CA area! \\u00a0If you have one or more years of debt finance experience at a large firm, then this could be an ideal position for you. This is a fantastic opportunity to work for a notable law firm! \\u00a0Qualifications: At least one year of experience in either: structuring, documentation and negotiation of secured and unsecured financing transactions for both borrowers and lenders, including senior, mezzanine and subordinated debt transactions; acquisition financings; and loan workouts.Transferable M&A and leveraged finance skillsExcellent academics and a J.D. from a top-tier law school preferredCA bar preferred, but not required \\u00a0If you are interested in the Direct Hire Debt Finance Associate Job in the Los Angeles, California area offered through Parker + Lynch, please apply below. If you are interested in other legal positions in the Los Angeles area, you can go to our website to look at job opportunities.** Please ensure your resume includes the name and phone number of two professional references who we are authorized to call.\\u00a0\"\n        ],\n        \"semantic_type\": \"\",\n        \"description\": \"\"\n      }\n    },\n    {\n      \"column\": \"job_title\",\n      \"properties\": {\n        \"dtype\": \"string\",\n        \"num_unique_values\": 18759,\n        \"samples\": [\n          \"Financial Auditor II Job in Framingham\"\n        ],\n        \"semantic_type\": \"\",\n        \"description\": \"\"\n      }\n    },\n    {\n      \"column\": \"job_type\",\n      \"properties\": {\n        \"dtype\": \"category\",\n        \"num_unique_values\": 39,\n        \"samples\": [\n          \"Per Diem, Temporary/Contract/Project\"\n        ],\n        \"semantic_type\": \"\",\n        \"description\": \"\"\n      }\n    },\n    {\n      \"column\": \"location\",\n      \"properties\": {\n        \"dtype\": \"category\",\n        \"num_unique_values\": 8423,\n        \"samples\": [\n          \"Casper, WY 82602\"\n        ],\n        \"semantic_type\": \"\",\n        \"description\": \"\"\n      }\n    },\n    {\n      \"column\": \"organization\",\n      \"properties\": {\n        \"dtype\": \"category\",\n        \"num_unique_values\": 738,\n        \"samples\": [\n          \"Consumer Packaged Goods Manufacturing; Manufacturing - Other; Food and Beverage Production\"\n        ],\n        \"semantic_type\": \"\",\n        \"description\": \"\"\n      }\n    },\n    {\n      \"column\": \"page_url\",\n      \"properties\": {\n        \"dtype\": \"string\",\n        \"num_unique_values\": 22000,\n        \"samples\": [\n          \"http://jobview.monster.com/Quality-Control-Lead-Job-Santa-Cruz-CA-US-164370398.aspx?mescoid=1900306001001&jobPosition=19\"\n        ],\n        \"semantic_type\": \"\",\n        \"description\": \"\"\n      }\n    },\n    {\n      \"column\": \"salary\",\n      \"properties\": {\n        \"dtype\": \"category\",\n        \"num_unique_values\": 1737,\n        \"samples\": [\n          \"95,000.00 - 125,000.00 $ /year\"\n        ],\n        \"semantic_type\": \"\",\n        \"description\": \"\"\n      }\n    },\n    {\n      \"column\": \"sector\",\n      \"properties\": {\n        \"dtype\": \"category\",\n        \"num_unique_values\": 163,\n        \"samples\": [\n          \"Equipment Install/Maintain/RepairFacilities Management/MaintenanceGeneral/Other: Installation/Maintenance/Repair\"\n        ],\n        \"semantic_type\": \"\",\n        \"description\": \"\"\n      }\n    },\n    {\n      \"column\": \"uniq_id\",\n      \"properties\": {\n        \"dtype\": \"string\",\n        \"num_unique_values\": 22000,\n        \"samples\": [\n          \"c44af81ceb38d2b6fe00baf15d0dffe6\"\n        ],\n        \"semantic_type\": \"\",\n        \"description\": \"\"\n      }\n    }\n  ]\n}"
            }
          },
          "metadata": {},
          "execution_count": 36
        }
      ]
    },
    {
      "cell_type": "code",
      "source": [
        "data.info()"
      ],
      "metadata": {
        "id": "Jg2-YRnxOmwi",
        "outputId": "e1b7d257-61bb-4e1a-f776-ce82d3e7117d",
        "colab": {
          "base_uri": "https://localhost:8080/"
        }
      },
      "execution_count": 37,
      "outputs": [
        {
          "output_type": "stream",
          "name": "stdout",
          "text": [
            "<class 'pandas.core.frame.DataFrame'>\n",
            "RangeIndex: 22000 entries, 0 to 21999\n",
            "Data columns (total 14 columns):\n",
            " #   Column           Non-Null Count  Dtype \n",
            "---  ------           --------------  ----- \n",
            " 0   country          22000 non-null  object\n",
            " 1   country_code     22000 non-null  object\n",
            " 2   date_added       122 non-null    object\n",
            " 3   has_expired      22000 non-null  object\n",
            " 4   job_board        22000 non-null  object\n",
            " 5   job_description  22000 non-null  object\n",
            " 6   job_title        22000 non-null  object\n",
            " 7   job_type         20372 non-null  object\n",
            " 8   location         22000 non-null  object\n",
            " 9   organization     15133 non-null  object\n",
            " 10  page_url         22000 non-null  object\n",
            " 11  salary           3446 non-null   object\n",
            " 12  sector           16806 non-null  object\n",
            " 13  uniq_id          22000 non-null  object\n",
            "dtypes: object(14)\n",
            "memory usage: 2.3+ MB\n"
          ]
        }
      ]
    },
    {
      "cell_type": "code",
      "source": [
        "data.nunique()"
      ],
      "metadata": {
        "id": "DreH-1FmPlWM",
        "outputId": "e53727db-e471-4954-bb4b-55415bc26468",
        "colab": {
          "base_uri": "https://localhost:8080/",
          "height": 523
        }
      },
      "execution_count": 38,
      "outputs": [
        {
          "output_type": "execute_result",
          "data": {
            "text/plain": [
              "country                1\n",
              "country_code           1\n",
              "date_added            78\n",
              "has_expired            1\n",
              "job_board              1\n",
              "job_description    18744\n",
              "job_title          18759\n",
              "job_type              39\n",
              "location            8423\n",
              "organization         738\n",
              "page_url           22000\n",
              "salary              1737\n",
              "sector               163\n",
              "uniq_id            22000\n",
              "dtype: int64"
            ],
            "text/html": [
              "<div>\n",
              "<style scoped>\n",
              "    .dataframe tbody tr th:only-of-type {\n",
              "        vertical-align: middle;\n",
              "    }\n",
              "\n",
              "    .dataframe tbody tr th {\n",
              "        vertical-align: top;\n",
              "    }\n",
              "\n",
              "    .dataframe thead th {\n",
              "        text-align: right;\n",
              "    }\n",
              "</style>\n",
              "<table border=\"1\" class=\"dataframe\">\n",
              "  <thead>\n",
              "    <tr style=\"text-align: right;\">\n",
              "      <th></th>\n",
              "      <th>0</th>\n",
              "    </tr>\n",
              "  </thead>\n",
              "  <tbody>\n",
              "    <tr>\n",
              "      <th>country</th>\n",
              "      <td>1</td>\n",
              "    </tr>\n",
              "    <tr>\n",
              "      <th>country_code</th>\n",
              "      <td>1</td>\n",
              "    </tr>\n",
              "    <tr>\n",
              "      <th>date_added</th>\n",
              "      <td>78</td>\n",
              "    </tr>\n",
              "    <tr>\n",
              "      <th>has_expired</th>\n",
              "      <td>1</td>\n",
              "    </tr>\n",
              "    <tr>\n",
              "      <th>job_board</th>\n",
              "      <td>1</td>\n",
              "    </tr>\n",
              "    <tr>\n",
              "      <th>job_description</th>\n",
              "      <td>18744</td>\n",
              "    </tr>\n",
              "    <tr>\n",
              "      <th>job_title</th>\n",
              "      <td>18759</td>\n",
              "    </tr>\n",
              "    <tr>\n",
              "      <th>job_type</th>\n",
              "      <td>39</td>\n",
              "    </tr>\n",
              "    <tr>\n",
              "      <th>location</th>\n",
              "      <td>8423</td>\n",
              "    </tr>\n",
              "    <tr>\n",
              "      <th>organization</th>\n",
              "      <td>738</td>\n",
              "    </tr>\n",
              "    <tr>\n",
              "      <th>page_url</th>\n",
              "      <td>22000</td>\n",
              "    </tr>\n",
              "    <tr>\n",
              "      <th>salary</th>\n",
              "      <td>1737</td>\n",
              "    </tr>\n",
              "    <tr>\n",
              "      <th>sector</th>\n",
              "      <td>163</td>\n",
              "    </tr>\n",
              "    <tr>\n",
              "      <th>uniq_id</th>\n",
              "      <td>22000</td>\n",
              "    </tr>\n",
              "  </tbody>\n",
              "</table>\n",
              "</div><br><label><b>dtype:</b> int64</label>"
            ]
          },
          "metadata": {},
          "execution_count": 38
        }
      ]
    },
    {
      "cell_type": "markdown",
      "source": [
        "**Задание**\n",
        "\n",
        "Составьте таблицу, в которой будет содержаться название столбца, тип данных в нем и краткое описание проблем, которые вы заметили при первом взгляде на данные.\n",
        "\n",
        "\n",
        "Название столбца | Тип данных | Проблемы\n",
        "--- | --- | ---\n",
        "```country``` | ```object``` | Столбец бесполезен, так как его значение для всех строк одинаковое\n",
        "```country_code``` | ```object``` | Столбец бесполезен, так как его значение для всех строк одинаковое\n",
        "```date_added``` | ```object``` | Огромное количество NaN-значение, также неверный тип данных (должен быть datetime64)\n",
        "```has_expired``` | ```object``` | Столбец бесполезен, так как его значение для всех строк одинаковое, также неверный тип данных (должен быть bool)\n",
        "```job_board``` | ```object``` | Столбец бесполезен, так как его значение для всех строк одинаковое\n",
        "```job_description``` | ```object``` | Слишком длинное описание\n",
        "```job_title``` | ```object``` | С первого взгляда, всё нормально\n",
        "```job_type``` | ```object``` | Есть нулевые значения\n",
        "```location``` | ```object``` | С первого взгляда, всё нормально\n",
        "```organization``` | ```object``` | Есть нулевые значения\n",
        "```page_url``` | ```object``` | С первого взгляда, всё нормально\n",
        "```salary``` | ```object``` | Много нулевых значений, также неверный тип данных (должен быть int64)\n",
        "```sector``` | ```object``` | Есть нулевые значения\n",
        "```uniq_id``` | ```object``` | С первого взгляда, всё нормально"
      ],
      "metadata": {
        "id": "YLByumEvRyO2"
      }
    },
    {
      "cell_type": "markdown",
      "source": [
        "### Оценка пустых ячеек в датасете"
      ],
      "metadata": {
        "id": "iUV-fNE6Js4w"
      }
    },
    {
      "cell_type": "markdown",
      "source": [
        "Выясните, в каких столбцах, строках и в каком количестве отсутствуют данные:\n",
        "1. С помощью модуля `pandas` составьте таблицу, где каждому названию столбца будет сопоставлено общее количество ячеек и количество пустых ячеек.\n",
        "2. Подсчитайте количество строк датасета, в которых пустыми являются более 75% ячеек.\n",
        "3. Визуализируйте число пропусков в датасете с помощью модуля, построив столбчатую диаграмму. Для удобства можно воспользоваться модулем `missingno`.\n"
      ],
      "metadata": {
        "id": "qMPChGv8SO2a"
      }
    },
    {
      "cell_type": "code",
      "source": [
        "data_null = pd.DataFrame({'Columns': data.columns, 'Quantity': len(data), 'Quantity_null': data.isna().sum(), 'Percent': data.isna().sum()/len(data)})\n",
        "print(data_null)\n",
        "msno.matrix(data, figsize=(10, 6), color=(0.25, 0.25, 0.25))"
      ],
      "metadata": {
        "id": "D0dHrjUYHl9f",
        "outputId": "0e901c6f-48e6-4f6e-8fbb-3c54fc9b6276",
        "colab": {
          "base_uri": "https://localhost:8080/",
          "height": 938
        }
      },
      "execution_count": 39,
      "outputs": [
        {
          "output_type": "stream",
          "name": "stdout",
          "text": [
            "                         Columns  Quantity  Quantity_null   Percent\n",
            "country                  country     22000              0  0.000000\n",
            "country_code        country_code     22000              0  0.000000\n",
            "date_added            date_added     22000          21878  0.994455\n",
            "has_expired          has_expired     22000              0  0.000000\n",
            "job_board              job_board     22000              0  0.000000\n",
            "job_description  job_description     22000              0  0.000000\n",
            "job_title              job_title     22000              0  0.000000\n",
            "job_type                job_type     22000           1628  0.074000\n",
            "location                location     22000              0  0.000000\n",
            "organization        organization     22000           6867  0.312136\n",
            "page_url                page_url     22000              0  0.000000\n",
            "salary                    salary     22000          18554  0.843364\n",
            "sector                    sector     22000           5194  0.236091\n",
            "uniq_id                  uniq_id     22000              0  0.000000\n"
          ]
        },
        {
          "output_type": "execute_result",
          "data": {
            "text/plain": [
              "<Axes: >"
            ]
          },
          "metadata": {},
          "execution_count": 39
        },
        {
          "output_type": "display_data",
          "data": {
            "text/plain": [
              "<Figure size 1000x600 with 2 Axes>"
            ],
            "image/png": "[encoded data removed]"
          },
          "metadata": {}
        }
      ]
    },
    {
      "cell_type": "code",
      "source": [
        "num_cols = data.shape[1]\n",
        "num_nan_per_row = data.isna().sum(axis=1)\n",
        "rows_with_mostly_nan = num_nan_per_row[num_nan_per_row > num_cols * 0.75]\n",
        "print(rows_with_mostly_nan.size)"
      ],
      "metadata": {
        "id": "52Xq3ksQb9WH",
        "outputId": "78d56805-9e0d-455d-8232-e8823655858a",
        "colab": {
          "base_uri": "https://localhost:8080/"
        }
      },
      "execution_count": 40,
      "outputs": [
        {
          "output_type": "stream",
          "name": "stdout",
          "text": [
            "0\n"
          ]
        }
      ]
    },
    {
      "cell_type": "markdown",
      "source": [
        "Проверьте, как изменится размер датасета, если принять решение удалить все строки, где есть пустые значения. Сделайте выводы."
      ],
      "metadata": {
        "id": "7_wex_yPS2t_"
      }
    },
    {
      "cell_type": "code",
      "source": [
        "clear_data = data.dropna()\n",
        "len(clear_data)"
      ],
      "metadata": {
        "id": "H2anBRV8NezM",
        "outputId": "f5f250b2-4767-4305-80b5-89105727b1fa",
        "colab": {
          "base_uri": "https://localhost:8080/"
        }
      },
      "execution_count": 41,
      "outputs": [
        {
          "output_type": "execute_result",
          "data": {
            "text/plain": [
              "5"
            ]
          },
          "metadata": {},
          "execution_count": 41
        }
      ]
    },
    {
      "cell_type": "markdown",
      "source": [
        "### Первичная оценка данных в столбцах"
      ],
      "metadata": {
        "id": "msyy7idiKbax"
      }
    },
    {
      "cell_type": "markdown",
      "source": [
        "Изучите данные в столбцах датасета, ответив на следующие вопросы:\n",
        "1. Есть ли столбцы, в которых встречается всего одно значение? Как их можно использовать в анализе?\n",
        "2. Есть ли такие значения, которые встречаются более чем в одном столбце?\n",
        "3. Есть ли столбцы, данные в которых не соответствуют названию столбца?"
      ],
      "metadata": {
        "id": "1Vx9OuX_TcVy"
      }
    },
    {
      "cell_type": "code",
      "source": [
        "for col in data.columns:\n",
        "    print(f\"Столбец: {col}\")\n",
        "    print(data[col].dropna().apply(type).value_counts(), \"\\n\")"
      ],
      "metadata": {
        "id": "GJiwpAMNodOP",
        "outputId": "598f2a2b-c471-44a9-91f3-1b19570d0c93",
        "colab": {
          "base_uri": "https://localhost:8080/"
        }
      },
      "execution_count": 42,
      "outputs": [
        {
          "output_type": "stream",
          "name": "stdout",
          "text": [
            "Столбец: country\n",
            "country\n",
            "<class 'str'>    22000\n",
            "Name: count, dtype: int64 \n",
            "\n",
            "Столбец: country_code\n",
            "country_code\n",
            "<class 'str'>    22000\n",
            "Name: count, dtype: int64 \n",
            "\n",
            "Столбец: date_added\n",
            "date_added\n",
            "<class 'str'>    122\n",
            "Name: count, dtype: int64 \n",
            "\n",
            "Столбец: has_expired\n",
            "has_expired\n",
            "<class 'str'>    22000\n",
            "Name: count, dtype: int64 \n",
            "\n",
            "Столбец: job_board\n",
            "job_board\n",
            "<class 'str'>    22000\n",
            "Name: count, dtype: int64 \n",
            "\n",
            "Столбец: job_description\n",
            "job_description\n",
            "<class 'str'>    22000\n",
            "Name: count, dtype: int64 \n",
            "\n",
            "Столбец: job_title\n",
            "job_title\n",
            "<class 'str'>    22000\n",
            "Name: count, dtype: int64 \n",
            "\n",
            "Столбец: job_type\n",
            "job_type\n",
            "<class 'str'>    20372\n",
            "Name: count, dtype: int64 \n",
            "\n",
            "Столбец: location\n",
            "location\n",
            "<class 'str'>    22000\n",
            "Name: count, dtype: int64 \n",
            "\n",
            "Столбец: organization\n",
            "organization\n",
            "<class 'str'>    15133\n",
            "Name: count, dtype: int64 \n",
            "\n",
            "Столбец: page_url\n",
            "page_url\n",
            "<class 'str'>    22000\n",
            "Name: count, dtype: int64 \n",
            "\n",
            "Столбец: salary\n",
            "salary\n",
            "<class 'str'>    3446\n",
            "Name: count, dtype: int64 \n",
            "\n",
            "Столбец: sector\n",
            "sector\n",
            "<class 'str'>    16806\n",
            "Name: count, dtype: int64 \n",
            "\n",
            "Столбец: uniq_id\n",
            "uniq_id\n",
            "<class 'str'>    22000\n",
            "Name: count, dtype: int64 \n",
            "\n"
          ]
        }
      ]
    },
    {
      "cell_type": "code",
      "source": [
        "#В date_added тип данных str вместо date\n",
        "#В has_expired тип данных str вместо bool\n",
        "#В salary тип данных str вместо int (float)"
      ],
      "metadata": {
        "id": "xjooS9ecqUV_"
      },
      "execution_count": null,
      "outputs": []
    },
    {
      "cell_type": "markdown",
      "source": [
        "### Дублирование данных"
      ],
      "metadata": {
        "id": "AnlzCkfNL9Zp"
      }
    },
    {
      "cell_type": "markdown",
      "source": [
        "Для поиска дублирующихся строк выполните следующие действия:\n",
        "1. В таблице есть столбец `uniq_id`, значения которого, как сказано в описании данных, являются уникальными идентификаторами записей. Проверьте, действительно ли в этом столбце все значения различны.\n",
        "2. Проверьте, есть ли в таблице другие столбцы, значения которых в каждой строке различны.\n",
        "3. Если игнорировать столбцы, где все значения различны, найдутся ли такие строки, для которых значения по всем остальным столбцам будут совпадать?\n",
        "\n",
        "Оцените результаты поиска дубликатов."
      ],
      "metadata": {
        "id": "o5ee6oWjUPrt"
      }
    },
    {
      "cell_type": "code",
      "source": [
        "data.nunique()"
      ],
      "metadata": {
        "id": "xdOZaPBXNO-4",
        "outputId": "6dcd5507-73f0-4e65-c6f5-5987dd47091d",
        "colab": {
          "base_uri": "https://localhost:8080/",
          "height": 523
        }
      },
      "execution_count": 43,
      "outputs": [
        {
          "output_type": "execute_result",
          "data": {
            "text/plain": [
              "country                1\n",
              "country_code           1\n",
              "date_added            78\n",
              "has_expired            1\n",
              "job_board              1\n",
              "job_description    18744\n",
              "job_title          18759\n",
              "job_type              39\n",
              "location            8423\n",
              "organization         738\n",
              "page_url           22000\n",
              "salary              1737\n",
              "sector               163\n",
              "uniq_id            22000\n",
              "dtype: int64"
            ],
            "text/html": [
              "<div>\n",
              "<style scoped>\n",
              "    .dataframe tbody tr th:only-of-type {\n",
              "        vertical-align: middle;\n",
              "    }\n",
              "\n",
              "    .dataframe tbody tr th {\n",
              "        vertical-align: top;\n",
              "    }\n",
              "\n",
              "    .dataframe thead th {\n",
              "        text-align: right;\n",
              "    }\n",
              "</style>\n",
              "<table border=\"1\" class=\"dataframe\">\n",
              "  <thead>\n",
              "    <tr style=\"text-align: right;\">\n",
              "      <th></th>\n",
              "      <th>0</th>\n",
              "    </tr>\n",
              "  </thead>\n",
              "  <tbody>\n",
              "    <tr>\n",
              "      <th>country</th>\n",
              "      <td>1</td>\n",
              "    </tr>\n",
              "    <tr>\n",
              "      <th>country_code</th>\n",
              "      <td>1</td>\n",
              "    </tr>\n",
              "    <tr>\n",
              "      <th>date_added</th>\n",
              "      <td>78</td>\n",
              "    </tr>\n",
              "    <tr>\n",
              "      <th>has_expired</th>\n",
              "      <td>1</td>\n",
              "    </tr>\n",
              "    <tr>\n",
              "      <th>job_board</th>\n",
              "      <td>1</td>\n",
              "    </tr>\n",
              "    <tr>\n",
              "      <th>job_description</th>\n",
              "      <td>18744</td>\n",
              "    </tr>\n",
              "    <tr>\n",
              "      <th>job_title</th>\n",
              "      <td>18759</td>\n",
              "    </tr>\n",
              "    <tr>\n",
              "      <th>job_type</th>\n",
              "      <td>39</td>\n",
              "    </tr>\n",
              "    <tr>\n",
              "      <th>location</th>\n",
              "      <td>8423</td>\n",
              "    </tr>\n",
              "    <tr>\n",
              "      <th>organization</th>\n",
              "      <td>738</td>\n",
              "    </tr>\n",
              "    <tr>\n",
              "      <th>page_url</th>\n",
              "      <td>22000</td>\n",
              "    </tr>\n",
              "    <tr>\n",
              "      <th>salary</th>\n",
              "      <td>1737</td>\n",
              "    </tr>\n",
              "    <tr>\n",
              "      <th>sector</th>\n",
              "      <td>163</td>\n",
              "    </tr>\n",
              "    <tr>\n",
              "      <th>uniq_id</th>\n",
              "      <td>22000</td>\n",
              "    </tr>\n",
              "  </tbody>\n",
              "</table>\n",
              "</div><br><label><b>dtype:</b> int64</label>"
            ]
          },
          "metadata": {},
          "execution_count": 43
        }
      ]
    },
    {
      "cell_type": "code",
      "source": [
        "data = data.drop_duplicates(subset=[column for column in data.columns if column not in ['page_url', 'uniq_id']])\n",
        "data.info()"
      ],
      "metadata": {
        "id": "vWra6z2ZtsiH",
        "outputId": "ba30b53f-5245-4ade-9a0d-94e4e1c07ae2",
        "colab": {
          "base_uri": "https://localhost:8080/"
        }
      },
      "execution_count": 44,
      "outputs": [
        {
          "output_type": "stream",
          "name": "stdout",
          "text": [
            "<class 'pandas.core.frame.DataFrame'>\n",
            "Index: 20832 entries, 0 to 21999\n",
            "Data columns (total 14 columns):\n",
            " #   Column           Non-Null Count  Dtype \n",
            "---  ------           --------------  ----- \n",
            " 0   country          20832 non-null  object\n",
            " 1   country_code     20832 non-null  object\n",
            " 2   date_added       119 non-null    object\n",
            " 3   has_expired      20832 non-null  object\n",
            " 4   job_board        20832 non-null  object\n",
            " 5   job_description  20832 non-null  object\n",
            " 6   job_title        20832 non-null  object\n",
            " 7   job_type         19311 non-null  object\n",
            " 8   location         20832 non-null  object\n",
            " 9   organization     14227 non-null  object\n",
            " 10  page_url         20832 non-null  object\n",
            " 11  salary           3299 non-null   object\n",
            " 12  sector           15909 non-null  object\n",
            " 13  uniq_id          20832 non-null  object\n",
            "dtypes: object(14)\n",
            "memory usage: 2.4+ MB\n"
          ]
        }
      ]
    },
    {
      "cell_type": "markdown",
      "source": [
        "# Практические задания"
      ],
      "metadata": {
        "id": "KfnT9b7KkbGV"
      }
    },
    {
      "cell_type": "markdown",
      "source": [
        "В этом разделе необходимо обработать значения в трех столбцах датасета: `location`, `salary` и `job_type`. Цель обработки – стандартизировать данные в каждом из столбцов так, чтобы их можно было анализировать."
      ],
      "metadata": {
        "id": "mLi_dNBw7vYH"
      }
    },
    {
      "cell_type": "markdown",
      "source": [
        "### Задание 1\n",
        "\n",
        "В задании 1 необходимо провести обработку столбца `location`."
      ],
      "metadata": {
        "id": "bysSIV-E6Qo2"
      }
    },
    {
      "cell_type": "markdown",
      "source": [
        "#### Задание 1.1\n",
        "\n",
        "В столбце `location` представлена информация о местоположении организации, в которой открыта вакансия. Каждое значение столбца `location` содержит информацию о городе, коде штата и почтовом индексе.\n",
        "\n",
        "Однако не в каждой строке есть все три характеристики местоположения, а также могут встречаться разные комбинации из них, записанные в виде строки в произвольном порядке и с разными разделителями.\n",
        "\n",
        "Например, может быть указан только код штата, только название города или только индекс. Могут быть указаны любые две характеристики из трех.\n",
        "\n",
        "**Формулировка задания:**\n",
        "1. Определите, какие форматы встречаются.\n",
        "2. Напишите одно или несколько регулярных выражений для поиска выявленных форматов.\n",
        "3. Визуализируйте количество найденных форматов на столбчатой или круговой диаграмме. Также покажите на ней количество строк, в которых формат определить не удалось. Какие форматы встречаются чаще всего?\n",
        "\n",
        "Ознакомиться с теоретическим материалом по работе с регулярными выражениями можно [по ссылке](https://colab.research.google.com/drive/1eFHdmt9OROLEDJRNc2wNmz0gpE1O3sKU?usp=sharing)."
      ],
      "metadata": {
        "id": "XFGxe_V0-RJH"
      }
    },
    {
      "cell_type": "code",
      "source": [
        "patterns = {\n",
        "    'city_state_zip': r'^([\\w\\s]+),\\s*(\\w{2})\\s*(\\d{5})$',\n",
        "    'city_state': r'^([\\w\\s]+),\\s*(\\w{2})$',\n",
        "    'city_zip': r'^([\\w\\s]+)\\s*(\\d{5})$',\n",
        "    'state_zip': r'^(\\w{2})\\s*(\\d{5})$',\n",
        "    'only_city': r'^([\\w\\s]+)$',\n",
        "    'only_state': r'^(\\w{2})$',\n",
        "    'only_zip': r'^(\\d{5})$'\n",
        "}\n",
        "\n",
        "data['format'] = ''\n",
        "\n",
        "for index, row in data.iterrows():\n",
        "    for format_name, pattern in patterns.items():\n",
        "        match = re.match(pattern, row['location'])\n",
        "        if match:\n",
        "            data.at[index, 'format'] = format_name\n",
        "            break\n",
        "    else:\n",
        "        data.at[index, 'format'] = 'unknown'\n",
        "format_counts = data['format'].value_counts()\n",
        "print(format_counts)"
      ],
      "metadata": {
        "id": "cn1chn2Y7MFK",
        "colab": {
          "base_uri": "https://localhost:8080/"
        },
        "outputId": "b41e3916-69e3-4e40-d234-90f24f33b3b0"
      },
      "execution_count": 45,
      "outputs": [
        {
          "output_type": "stream",
          "name": "stdout",
          "text": [
            "format\n",
            "city_state_zip    10941\n",
            "city_state         6590\n",
            "unknown            1811\n",
            "only_city          1145\n",
            "city_zip            345\n",
            "Name: count, dtype: int64\n"
          ]
        }
      ]
    },
    {
      "cell_type": "code",
      "source": [
        "unknown_rows = data[data['format'] == 'unknown']\n",
        "print(unknown_rows.head())"
      ],
      "metadata": {
        "colab": {
          "base_uri": "https://localhost:8080/"
        },
        "id": "9Ky8W6FzxpXI",
        "outputId": "01be1d4d-e5b3-4bad-8d77-b4ed60ec4376"
      },
      "execution_count": 46,
      "outputs": [
        {
          "output_type": "stream",
          "name": "stdout",
          "text": [
            "                     country country_code date_added has_expired  \\\n",
            "2   United States of America           US        NaN          No   \n",
            "29  United States of America           US        NaN          No   \n",
            "36  United States of America           US        NaN          No   \n",
            "38  United States of America           US        NaN          No   \n",
            "45  United States of America           US        NaN          No   \n",
            "\n",
            "           job_board                                    job_description  \\\n",
            "2   jobs.monster.com  Report this job About the Job DePuy Synthes Co...   \n",
            "29  jobs.monster.com  Experis is working with a Pharmaceutical start...   \n",
            "36  jobs.monster.com  POSITION TITLE: RF System Technician, Field Se...   \n",
            "38  jobs.monster.com  **MUST be able to work as a W2 employee for AN...   \n",
            "45  jobs.monster.com  Respiratory Therapist PRN Nights - Kindred Hos...   \n",
            "\n",
            "                                            job_title  \\\n",
            "2   Johnson & Johnson Family of Companies Job Appl...   \n",
            "29                               Sr. Process Engineer   \n",
            "36                               RF System Technician   \n",
            "38  Bi-Lingual Editorial Strategist Job in San Fra...   \n",
            "45  Respiratory Therapist PRN Nights - Kindred Hos...   \n",
            "\n",
            "                                job_type  \\\n",
            "2                    Full Time, Employee   \n",
            "29                    Full Time Employee   \n",
            "36  Full Time Temporary/Contract/Project   \n",
            "38  Full Time Temporary/Contract/Project   \n",
            "45                   Full Time, Employee   \n",
            "\n",
            "                                             location  \\\n",
            "2   DePuy Synthes Companies is a member of Johnson...   \n",
            "29                Sr. Process Engineer, Manufacturing   \n",
            "36                RF System Technician, Field Service   \n",
            "38                    Bi-Lingual Editorial Strategist   \n",
            "45  Respiratory Therapist PRN Nights - Kindred Hos...   \n",
            "\n",
            "                       organization  \\\n",
            "2   Personal and Household Services   \n",
            "29                      Chicago, IL   \n",
            "36                Oklahoma City, OK   \n",
            "38                San Francisco, CA   \n",
            "45              Healthcare Services   \n",
            "\n",
            "                                             page_url  \\\n",
            "2   http://jobview.monster.com/senior-training-lea...   \n",
            "29  http://jobview.monster.com/Sr-Process-Engineer...   \n",
            "36  http://jobview.monster.com/RF-System-Technicia...   \n",
            "38  http://jobview.monster.com/Bi-Lingual-Editoria...   \n",
            "45  http://jobview.monster.com/Respiratory-Therapi...   \n",
            "\n",
            "                            salary             sector  \\\n",
            "2                              NaN                NaN   \n",
            "29  70,000.00 - 100,000.00 $ /year        Engineering   \n",
            "36   68,000.00 - 72,000.00 $ /year        Engineering   \n",
            "38                             NaN  Editorial/Writing   \n",
            "45                             NaN     Medical/Health   \n",
            "\n",
            "                             uniq_id   format  \n",
            "2   839106b353877fa3d896ffb9c1fe01c0  unknown  \n",
            "29  779bb4c9bf038b7fb775134736d36fd4  unknown  \n",
            "36  ceb44cca7cd280adcb0c84c20f3c6c21  unknown  \n",
            "38  4e195c4c6d72e738a1e13aea51005398  unknown  \n",
            "45  562eeb3d055f4483cf7f1750a4b66f61  unknown  \n"
          ]
        }
      ]
    },
    {
      "cell_type": "code",
      "source": [
        "plt.figure(figsize=(10, 6))\n",
        "plt.bar(format_counts.index, format_counts.values)\n",
        "plt.title('Распределение форматов в столбце Location')\n",
        "plt.xlabel('Форматы')\n",
        "plt.ylabel('Частота встречаемости')\n",
        "plt.show()"
      ],
      "metadata": {
        "colab": {
          "base_uri": "https://localhost:8080/",
          "height": 564
        },
        "id": "z7z6TkR0zEkq",
        "outputId": "4aaa8b77-f045-4e5e-e602-4cd4a74bad96"
      },
      "execution_count": 47,
      "outputs": [
        {
          "output_type": "display_data",
          "data": {
            "text/plain": [
              "<Figure size 1000x600 with 1 Axes>"
            ],
            "image/png": "[encoded data removed]"
          },
          "metadata": {}
        }
      ]
    },
    {
      "cell_type": "markdown",
      "source": [
        "#### Задание 1.2\n",
        "\n",
        "В большей части строк удалось извлечь данные из ячейки столбца `location`, но остались и такие, где это не получилось. Вынесите в отдельный датасет записи, в которых не удалось определить формат записи информации о местоположении.\n",
        "\n",
        "Над оставшимися строками проведите следующие преобразования:\n",
        "1. Данные о местоположении разделите на 3 столбца: город, код штата, почтовый индекс.\n",
        "2. Так как значения в столбце `почтовый индекс` являются пятизначными числами, преобразуйте их в целочисленный формат."
      ],
      "metadata": {
        "id": "F3U7JkFM_OvP"
      }
    },
    {
      "cell_type": "code",
      "source": [
        "unparsed_data = data[data['format'] == 'unknown'].copy()\n",
        "data = data[data['format'] != 'unknown']\n",
        "extracted_data = pd.DataFrame(index=data.index, columns=['city', 'state', 'zip_code'])\n",
        "for index, row in data.iterrows():\n",
        "    for pattern_name, pattern in patterns.items():\n",
        "        match = re.match(pattern, row['location'])\n",
        "        if match:\n",
        "            groups = match.groups()\n",
        "            extracted_data.loc[index, 'city'] = groups[0] if len(groups) > 0 else None\n",
        "            extracted_data.loc[index, 'state'] = groups[1] if len(groups) > 1 else None\n",
        "            extracted_data.loc[index, 'zip_code'] = groups[2] if len(groups) > 2 else None\n",
        "            break\n",
        "extracted_data['zip_code'] = pd.to_numeric(extracted_data['zip_code'], errors='coerce').astype('Int32')\n",
        "data[['city', 'state', 'zip_code']] = extracted_data\n",
        "data.head()\n",
        "data.info()"
      ],
      "metadata": {
        "id": "Jhfk2VbV86Wi",
        "colab": {
          "base_uri": "https://localhost:8080/"
        },
        "outputId": "bdb2e4d2-d66e-4bf2-8547-b0cc451e3b70"
      },
      "execution_count": 48,
      "outputs": [
        {
          "output_type": "stream",
          "name": "stdout",
          "text": [
            "<class 'pandas.core.frame.DataFrame'>\n",
            "Index: 19021 entries, 0 to 21999\n",
            "Data columns (total 18 columns):\n",
            " #   Column           Non-Null Count  Dtype \n",
            "---  ------           --------------  ----- \n",
            " 0   country          19021 non-null  object\n",
            " 1   country_code     19021 non-null  object\n",
            " 2   date_added       116 non-null    object\n",
            " 3   has_expired      19021 non-null  object\n",
            " 4   job_board        19021 non-null  object\n",
            " 5   job_description  19021 non-null  object\n",
            " 6   job_title        19021 non-null  object\n",
            " 7   job_type         17766 non-null  object\n",
            " 8   location         19021 non-null  object\n",
            " 9   organization     12969 non-null  object\n",
            " 10  page_url         19021 non-null  object\n",
            " 11  salary           3240 non-null   object\n",
            " 12  sector           14850 non-null  object\n",
            " 13  uniq_id          19021 non-null  object\n",
            " 14  format           19021 non-null  object\n",
            " 15  city             19021 non-null  object\n",
            " 16  state            17876 non-null  object\n",
            " 17  zip_code         10941 non-null  Int32 \n",
            "dtypes: Int32(1), object(17)\n",
            "memory usage: 3.2+ MB\n"
          ]
        }
      ]
    },
    {
      "cell_type": "markdown",
      "source": [
        "Рассмотрите отложенную часть выборки (ту, где не удалось данные из столбца `location` разделить на три поля) и сделайте выводы о возможности извлечь из данных город, код штата и почтовый индекс. Извлеките все, что возможно. Что невозможно – оставьте пустым."
      ],
      "metadata": {
        "id": "aXtr78WJ_cyH"
      }
    },
    {
      "cell_type": "code",
      "source": [
        "unparsed_data.head()"
      ],
      "metadata": {
        "id": "bDtcb5brlmUL",
        "outputId": "8c637451-b670-4873-fa3f-535a81df2a0d",
        "colab": {
          "base_uri": "https://localhost:8080/",
          "height": 556
        }
      },
      "execution_count": 49,
      "outputs": [
        {
          "output_type": "execute_result",
          "data": {
            "text/plain": [
              "                     country country_code date_added has_expired  \\\n",
              "2   United States of America           US        NaN          No   \n",
              "29  United States of America           US        NaN          No   \n",
              "36  United States of America           US        NaN          No   \n",
              "38  United States of America           US        NaN          No   \n",
              "45  United States of America           US        NaN          No   \n",
              "\n",
              "           job_board                                    job_description  \\\n",
              "2   jobs.monster.com  Report this job About the Job DePuy Synthes Co...   \n",
              "29  jobs.monster.com  Experis is working with a Pharmaceutical start...   \n",
              "36  jobs.monster.com  POSITION TITLE: RF System Technician, Field Se...   \n",
              "38  jobs.monster.com  **MUST be able to work as a W2 employee for AN...   \n",
              "45  jobs.monster.com  Respiratory Therapist PRN Nights - Kindred Hos...   \n",
              "\n",
              "                                            job_title  \\\n",
              "2   Johnson & Johnson Family of Companies Job Appl...   \n",
              "29                               Sr. Process Engineer   \n",
              "36                               RF System Technician   \n",
              "38  Bi-Lingual Editorial Strategist Job in San Fra...   \n",
              "45  Respiratory Therapist PRN Nights - Kindred Hos...   \n",
              "\n",
              "                                job_type  \\\n",
              "2                    Full Time, Employee   \n",
              "29                    Full Time Employee   \n",
              "36  Full Time Temporary/Contract/Project   \n",
              "38  Full Time Temporary/Contract/Project   \n",
              "45                   Full Time, Employee   \n",
              "\n",
              "                                             location  \\\n",
              "2   DePuy Synthes Companies is a member of Johnson...   \n",
              "29                Sr. Process Engineer, Manufacturing   \n",
              "36                RF System Technician, Field Service   \n",
              "38                    Bi-Lingual Editorial Strategist   \n",
              "45  Respiratory Therapist PRN Nights - Kindred Hos...   \n",
              "\n",
              "                       organization  \\\n",
              "2   Personal and Household Services   \n",
              "29                      Chicago, IL   \n",
              "36                Oklahoma City, OK   \n",
              "38                San Francisco, CA   \n",
              "45              Healthcare Services   \n",
              "\n",
              "                                             page_url  \\\n",
              "2   http://jobview.monster.com/senior-training-lea...   \n",
              "29  http://jobview.monster.com/Sr-Process-Engineer...   \n",
              "36  http://jobview.monster.com/RF-System-Technicia...   \n",
              "38  http://jobview.monster.com/Bi-Lingual-Editoria...   \n",
              "45  http://jobview.monster.com/Respiratory-Therapi...   \n",
              "\n",
              "                            salary             sector  \\\n",
              "2                              NaN                NaN   \n",
              "29  70,000.00 - 100,000.00 $ /year        Engineering   \n",
              "36   68,000.00 - 72,000.00 $ /year        Engineering   \n",
              "38                             NaN  Editorial/Writing   \n",
              "45                             NaN     Medical/Health   \n",
              "\n",
              "                             uniq_id   format  \n",
              "2   839106b353877fa3d896ffb9c1fe01c0  unknown  \n",
              "29  779bb4c9bf038b7fb775134736d36fd4  unknown  \n",
              "36  ceb44cca7cd280adcb0c84c20f3c6c21  unknown  \n",
              "38  4e195c4c6d72e738a1e13aea51005398  unknown  \n",
              "45  562eeb3d055f4483cf7f1750a4b66f61  unknown  "
            ],
            "text/html": [
              "\n",
              "  <div id=\"df-e32c5467-c72c-460c-ac14-06ac0e56b270\" class=\"colab-df-container\">\n",
              "    <div>\n",
              "<style scoped>\n",
              "    .dataframe tbody tr th:only-of-type {\n",
              "        vertical-align: middle;\n",
              "    }\n",
              "\n",
              "    .dataframe tbody tr th {\n",
              "        vertical-align: top;\n",
              "    }\n",
              "\n",
              "    .dataframe thead th {\n",
              "        text-align: right;\n",
              "    }\n",
              "</style>\n",
              "<table border=\"1\" class=\"dataframe\">\n",
              "  <thead>\n",
              "    <tr style=\"text-align: right;\">\n",
              "      <th></th>\n",
              "      <th>country</th>\n",
              "      <th>country_code</th>\n",
              "      <th>date_added</th>\n",
              "      <th>has_expired</th>\n",
              "      <th>job_board</th>\n",
              "      <th>job_description</th>\n",
              "      <th>job_title</th>\n",
              "      <th>job_type</th>\n",
              "      <th>location</th>\n",
              "      <th>organization</th>\n",
              "      <th>page_url</th>\n",
              "      <th>salary</th>\n",
              "      <th>sector</th>\n",
              "      <th>uniq_id</th>\n",
              "      <th>format</th>\n",
              "    </tr>\n",
              "  </thead>\n",
              "  <tbody>\n",
              "    <tr>\n",
              "      <th>2</th>\n",
              "      <td>United States of America</td>\n",
              "      <td>US</td>\n",
              "      <td>NaN</td>\n",
              "      <td>No</td>\n",
              "      <td>jobs.monster.com</td>\n",
              "      <td>Report this job About the Job DePuy Synthes Co...</td>\n",
              "      <td>Johnson &amp; Johnson Family of Companies Job Appl...</td>\n",
              "      <td>Full Time, Employee</td>\n",
              "      <td>DePuy Synthes Companies is a member of Johnson...</td>\n",
              "      <td>Personal and Household Services</td>\n",
              "      <td>http://jobview.monster.com/senior-training-lea...</td>\n",
              "      <td>NaN</td>\n",
              "      <td>NaN</td>\n",
              "      <td>839106b353877fa3d896ffb9c1fe01c0</td>\n",
              "      <td>unknown</td>\n",
              "    </tr>\n",
              "    <tr>\n",
              "      <th>29</th>\n",
              "      <td>United States of America</td>\n",
              "      <td>US</td>\n",
              "      <td>NaN</td>\n",
              "      <td>No</td>\n",
              "      <td>jobs.monster.com</td>\n",
              "      <td>Experis is working with a Pharmaceutical start...</td>\n",
              "      <td>Sr. Process Engineer</td>\n",
              "      <td>Full Time Employee</td>\n",
              "      <td>Sr. Process Engineer, Manufacturing</td>\n",
              "      <td>Chicago, IL</td>\n",
              "      <td>http://jobview.monster.com/Sr-Process-Engineer...</td>\n",
              "      <td>70,000.00 - 100,000.00 $ /year</td>\n",
              "      <td>Engineering</td>\n",
              "      <td>779bb4c9bf038b7fb775134736d36fd4</td>\n",
              "      <td>unknown</td>\n",
              "    </tr>\n",
              "    <tr>\n",
              "      <th>36</th>\n",
              "      <td>United States of America</td>\n",
              "      <td>US</td>\n",
              "      <td>NaN</td>\n",
              "      <td>No</td>\n",
              "      <td>jobs.monster.com</td>\n",
              "      <td>POSITION TITLE: RF System Technician, Field Se...</td>\n",
              "      <td>RF System Technician</td>\n",
              "      <td>Full Time Temporary/Contract/Project</td>\n",
              "      <td>RF System Technician, Field Service</td>\n",
              "      <td>Oklahoma City, OK</td>\n",
              "      <td>http://jobview.monster.com/RF-System-Technicia...</td>\n",
              "      <td>68,000.00 - 72,000.00 $ /year</td>\n",
              "      <td>Engineering</td>\n",
              "      <td>ceb44cca7cd280adcb0c84c20f3c6c21</td>\n",
              "      <td>unknown</td>\n",
              "    </tr>\n",
              "    <tr>\n",
              "      <th>38</th>\n",
              "      <td>United States of America</td>\n",
              "      <td>US</td>\n",
              "      <td>NaN</td>\n",
              "      <td>No</td>\n",
              "      <td>jobs.monster.com</td>\n",
              "      <td>**MUST be able to work as a W2 employee for AN...</td>\n",
              "      <td>Bi-Lingual Editorial Strategist Job in San Fra...</td>\n",
              "      <td>Full Time Temporary/Contract/Project</td>\n",
              "      <td>Bi-Lingual Editorial Strategist</td>\n",
              "      <td>San Francisco, CA</td>\n",
              "      <td>http://jobview.monster.com/Bi-Lingual-Editoria...</td>\n",
              "      <td>NaN</td>\n",
              "      <td>Editorial/Writing</td>\n",
              "      <td>4e195c4c6d72e738a1e13aea51005398</td>\n",
              "      <td>unknown</td>\n",
              "    </tr>\n",
              "    <tr>\n",
              "      <th>45</th>\n",
              "      <td>United States of America</td>\n",
              "      <td>US</td>\n",
              "      <td>NaN</td>\n",
              "      <td>No</td>\n",
              "      <td>jobs.monster.com</td>\n",
              "      <td>Respiratory Therapist PRN Nights - Kindred Hos...</td>\n",
              "      <td>Respiratory Therapist PRN Nights - Kindred Hos...</td>\n",
              "      <td>Full Time, Employee</td>\n",
              "      <td>Respiratory Therapist PRN Nights - Kindred Hos...</td>\n",
              "      <td>Healthcare Services</td>\n",
              "      <td>http://jobview.monster.com/Respiratory-Therapi...</td>\n",
              "      <td>NaN</td>\n",
              "      <td>Medical/Health</td>\n",
              "      <td>562eeb3d055f4483cf7f1750a4b66f61</td>\n",
              "      <td>unknown</td>\n",
              "    </tr>\n",
              "  </tbody>\n",
              "</table>\n",
              "</div>\n",
              "    <div class=\"colab-df-buttons\">\n",
              "\n",
              "  <div class=\"colab-df-container\">\n",
              "    <button class=\"colab-df-convert\" onclick=\"convertToInteractive('df-e32c5467-c72c-460c-ac14-06ac0e56b270')\"\n",
              "            title=\"Convert this dataframe to an interactive table.\"\n",
              "            style=\"display:none;\">\n",
              "\n",
              "  <svg xmlns=\"http://www.w3.org/2000/svg\" height=\"24px\" viewBox=\"0 -960 960 960\">\n",
              "    <path d=\"M120-120v-720h720v720H120Zm60-500h600v-160H180v160Zm220 220h160v-160H400v160Zm0 220h160v-160H400v160ZM180-400h160v-160H180v160Zm440 0h160v-160H620v160ZM180-180h160v-160H180v160Zm440 0h160v-160H620v160Z\"/>\n",
              "  </svg>\n",
              "    </button>\n",
              "\n",
              "  <style>\n",
              "    .colab-df-container {\n",
              "      display:flex;\n",
              "      gap: 12px;\n",
              "    }\n",
              "\n",
              "    .colab-df-convert {\n",
              "      background-color: #E8F0FE;\n",
              "      border: none;\n",
              "      border-radius: 50%;\n",
              "      cursor: pointer;\n",
              "      display: none;\n",
              "      fill: #1967D2;\n",
              "      height: 32px;\n",
              "      padding: 0 0 0 0;\n",
              "      width: 32px;\n",
              "    }\n",
              "\n",
              "    .colab-df-convert:hover {\n",
              "      background-color: #E2EBFA;\n",
              "      box-shadow: 0px 1px 2px rgba(60, 64, 67, 0.3), 0px 1px 3px 1px rgba(60, 64, 67, 0.15);\n",
              "      fill: #174EA6;\n",
              "    }\n",
              "\n",
              "    .colab-df-buttons div {\n",
              "      margin-bottom: 4px;\n",
              "    }\n",
              "\n",
              "    [theme=dark] .colab-df-convert {\n",
              "      background-color: #3B4455;\n",
              "      fill: #D2E3FC;\n",
              "    }\n",
              "\n",
              "    [theme=dark] .colab-df-convert:hover {\n",
              "      background-color: #434B5C;\n",
              "      box-shadow: 0px 1px 3px 1px rgba(0, 0, 0, 0.15);\n",
              "      filter: drop-shadow(0px 1px 2px rgba(0, 0, 0, 0.3));\n",
              "      fill: #FFFFFF;\n",
              "    }\n",
              "  </style>\n",
              "\n",
              "    <script>\n",
              "      const buttonEl =\n",
              "        document.querySelector('#df-e32c5467-c72c-460c-ac14-06ac0e56b270 button.colab-df-convert');\n",
              "      buttonEl.style.display =\n",
              "        google.colab.kernel.accessAllowed ? 'block' : 'none';\n",
              "\n",
              "      async function convertToInteractive(key) {\n",
              "        const element = document.querySelector('#df-e32c5467-c72c-460c-ac14-06ac0e56b270');\n",
              "        const dataTable =\n",
              "          await google.colab.kernel.invokeFunction('convertToInteractive',\n",
              "                                                    [key], {});\n",
              "        if (!dataTable) return;\n",
              "\n",
              "        const docLinkHtml = 'Like what you see? Visit the ' +\n",
              "          '<a target=\"_blank\" href=https://colab.research.google.com/notebooks/data_table.ipynb>data table notebook</a>'\n",
              "          + ' to learn more about interactive tables.';\n",
              "        element.innerHTML = '';\n",
              "        dataTable['output_type'] = 'display_data';\n",
              "        await google.colab.output.renderOutput(dataTable, element);\n",
              "        const docLink = document.createElement('div');\n",
              "        docLink.innerHTML = docLinkHtml;\n",
              "        element.appendChild(docLink);\n",
              "      }\n",
              "    </script>\n",
              "  </div>\n",
              "\n",
              "\n",
              "<div id=\"df-a093df0b-0bae-4276-a78c-2bcd75aaf049\">\n",
              "  <button class=\"colab-df-quickchart\" onclick=\"quickchart('df-a093df0b-0bae-4276-a78c-2bcd75aaf049')\"\n",
              "            title=\"Suggest charts\"\n",
              "            style=\"display:none;\">\n",
              "\n",
              "<svg xmlns=\"http://www.w3.org/2000/svg\" height=\"24px\"viewBox=\"0 0 24 24\"\n",
              "     width=\"24px\">\n",
              "    <g>\n",
              "        <path d=\"M19 3H5c-1.1 0-2 .9-2 2v14c0 1.1.9 2 2 2h14c1.1 0 2-.9 2-2V5c0-1.1-.9-2-2-2zM9 17H7v-7h2v7zm4 0h-2V7h2v10zm4 0h-2v-4h2v4z\"/>\n",
              "    </g>\n",
              "</svg>\n",
              "  </button>\n",
              "\n",
              "<style>\n",
              "  .colab-df-quickchart {\n",
              "      --bg-color: #E8F0FE;\n",
              "      --fill-color: #1967D2;\n",
              "      --hover-bg-color: #E2EBFA;\n",
              "      --hover-fill-color: #174EA6;\n",
              "      --disabled-fill-color: #AAA;\n",
              "      --disabled-bg-color: #DDD;\n",
              "  }\n",
              "\n",
              "  [theme=dark] .colab-df-quickchart {\n",
              "      --bg-color: #3B4455;\n",
              "      --fill-color: #D2E3FC;\n",
              "      --hover-bg-color: #434B5C;\n",
              "      --hover-fill-color: #FFFFFF;\n",
              "      --disabled-bg-color: #3B4455;\n",
              "      --disabled-fill-color: #666;\n",
              "  }\n",
              "\n",
              "  .colab-df-quickchart {\n",
              "    background-color: var(--bg-color);\n",
              "    border: none;\n",
              "    border-radius: 50%;\n",
              "    cursor: pointer;\n",
              "    display: none;\n",
              "    fill: var(--fill-color);\n",
              "    height: 32px;\n",
              "    padding: 0;\n",
              "    width: 32px;\n",
              "  }\n",
              "\n",
              "  .colab-df-quickchart:hover {\n",
              "    background-color: var(--hover-bg-color);\n",
              "    box-shadow: 0 1px 2px rgba(60, 64, 67, 0.3), 0 1px 3px 1px rgba(60, 64, 67, 0.15);\n",
              "    fill: var(--button-hover-fill-color);\n",
              "  }\n",
              "\n",
              "  .colab-df-quickchart-complete:disabled,\n",
              "  .colab-df-quickchart-complete:disabled:hover {\n",
              "    background-color: var(--disabled-bg-color);\n",
              "    fill: var(--disabled-fill-color);\n",
              "    box-shadow: none;\n",
              "  }\n",
              "\n",
              "  .colab-df-spinner {\n",
              "    border: 2px solid var(--fill-color);\n",
              "    border-color: transparent;\n",
              "    border-bottom-color: var(--fill-color);\n",
              "    animation:\n",
              "      spin 1s steps(1) infinite;\n",
              "  }\n",
              "\n",
              "  @keyframes spin {\n",
              "    0% {\n",
              "      border-color: transparent;\n",
              "      border-bottom-color: var(--fill-color);\n",
              "      border-left-color: var(--fill-color);\n",
              "    }\n",
              "    20% {\n",
              "      border-color: transparent;\n",
              "      border-left-color: var(--fill-color);\n",
              "      border-top-color: var(--fill-color);\n",
              "    }\n",
              "    30% {\n",
              "      border-color: transparent;\n",
              "      border-left-color: var(--fill-color);\n",
              "      border-top-color: var(--fill-color);\n",
              "      border-right-color: var(--fill-color);\n",
              "    }\n",
              "    40% {\n",
              "      border-color: transparent;\n",
              "      border-right-color: var(--fill-color);\n",
              "      border-top-color: var(--fill-color);\n",
              "    }\n",
              "    60% {\n",
              "      border-color: transparent;\n",
              "      border-right-color: var(--fill-color);\n",
              "    }\n",
              "    80% {\n",
              "      border-color: transparent;\n",
              "      border-right-color: var(--fill-color);\n",
              "      border-bottom-color: var(--fill-color);\n",
              "    }\n",
              "    90% {\n",
              "      border-color: transparent;\n",
              "      border-bottom-color: var(--fill-color);\n",
              "    }\n",
              "  }\n",
              "</style>\n",
              "\n",
              "  <script>\n",
              "    async function quickchart(key) {\n",
              "      const quickchartButtonEl =\n",
              "        document.querySelector('#' + key + ' button');\n",
              "      quickchartButtonEl.disabled = true;  // To prevent multiple clicks.\n",
              "      quickchartButtonEl.classList.add('colab-df-spinner');\n",
              "      try {\n",
              "        const charts = await google.colab.kernel.invokeFunction(\n",
              "            'suggestCharts', [key], {});\n",
              "      } catch (error) {\n",
              "        console.error('Error during call to suggestCharts:', error);\n",
              "      }\n",
              "      quickchartButtonEl.classList.remove('colab-df-spinner');\n",
              "      quickchartButtonEl.classList.add('colab-df-quickchart-complete');\n",
              "    }\n",
              "    (() => {\n",
              "      let quickchartButtonEl =\n",
              "        document.querySelector('#df-a093df0b-0bae-4276-a78c-2bcd75aaf049 button');\n",
              "      quickchartButtonEl.style.display =\n",
              "        google.colab.kernel.accessAllowed ? 'block' : 'none';\n",
              "    })();\n",
              "  </script>\n",
              "</div>\n",
              "    </div>\n",
              "  </div>\n"
            ],
            "application/vnd.google.colaboratory.intrinsic+json": {
              "type": "dataframe",
              "variable_name": "unparsed_data",
              "repr_error": "0"
            }
          },
          "metadata": {},
          "execution_count": 49
        }
      ]
    },
    {
      "cell_type": "code",
      "source": [
        "unparsed_data.sample()"
      ],
      "metadata": {
        "id": "q4S6RjAR_rk-",
        "colab": {
          "base_uri": "https://localhost:8080/",
          "height": 153
        },
        "outputId": "9631a25b-3aea-45b9-e79a-57851366b682"
      },
      "execution_count": 50,
      "outputs": [
        {
          "output_type": "execute_result",
          "data": {
            "text/plain": [
              "                       country country_code date_added has_expired  \\\n",
              "1262  United States of America           US        NaN          No   \n",
              "\n",
              "             job_board                                    job_description  \\\n",
              "1262  jobs.monster.com  Full Stack Java Software Engineer Location: No...   \n",
              "\n",
              "     job_title job_type                                           location  \\\n",
              "1262   Monster      NaN  Full Stack Java Software Engineer Location: No...   \n",
              "\n",
              "     organization                                           page_url salary  \\\n",
              "1262          NaN  http://jobview.monster.com/mk-11240-full-stack...    NaN   \n",
              "\n",
              "     sector                           uniq_id   format  \n",
              "1262    NaN  d0a87864afb46d8701650482a6d5aefd  unknown  "
            ],
            "text/html": [
              "\n",
              "  <div id=\"df-50371951-d5cc-4c07-a700-222953694510\" class=\"colab-df-container\">\n",
              "    <div>\n",
              "<style scoped>\n",
              "    .dataframe tbody tr th:only-of-type {\n",
              "        vertical-align: middle;\n",
              "    }\n",
              "\n",
              "    .dataframe tbody tr th {\n",
              "        vertical-align: top;\n",
              "    }\n",
              "\n",
              "    .dataframe thead th {\n",
              "        text-align: right;\n",
              "    }\n",
              "</style>\n",
              "<table border=\"1\" class=\"dataframe\">\n",
              "  <thead>\n",
              "    <tr style=\"text-align: right;\">\n",
              "      <th></th>\n",
              "      <th>country</th>\n",
              "      <th>country_code</th>\n",
              "      <th>date_added</th>\n",
              "      <th>has_expired</th>\n",
              "      <th>job_board</th>\n",
              "      <th>job_description</th>\n",
              "      <th>job_title</th>\n",
              "      <th>job_type</th>\n",
              "      <th>location</th>\n",
              "      <th>organization</th>\n",
              "      <th>page_url</th>\n",
              "      <th>salary</th>\n",
              "      <th>sector</th>\n",
              "      <th>uniq_id</th>\n",
              "      <th>format</th>\n",
              "    </tr>\n",
              "  </thead>\n",
              "  <tbody>\n",
              "    <tr>\n",
              "      <th>1262</th>\n",
              "      <td>United States of America</td>\n",
              "      <td>US</td>\n",
              "      <td>NaN</td>\n",
              "      <td>No</td>\n",
              "      <td>jobs.monster.com</td>\n",
              "      <td>Full Stack Java Software Engineer Location: No...</td>\n",
              "      <td>Monster</td>\n",
              "      <td>NaN</td>\n",
              "      <td>Full Stack Java Software Engineer Location: No...</td>\n",
              "      <td>NaN</td>\n",
              "      <td>http://jobview.monster.com/mk-11240-full-stack...</td>\n",
              "      <td>NaN</td>\n",
              "      <td>NaN</td>\n",
              "      <td>d0a87864afb46d8701650482a6d5aefd</td>\n",
              "      <td>unknown</td>\n",
              "    </tr>\n",
              "  </tbody>\n",
              "</table>\n",
              "</div>\n",
              "    <div class=\"colab-df-buttons\">\n",
              "\n",
              "  <div class=\"colab-df-container\">\n",
              "    <button class=\"colab-df-convert\" onclick=\"convertToInteractive('df-50371951-d5cc-4c07-a700-222953694510')\"\n",
              "            title=\"Convert this dataframe to an interactive table.\"\n",
              "            style=\"display:none;\">\n",
              "\n",
              "  <svg xmlns=\"http://www.w3.org/2000/svg\" height=\"24px\" viewBox=\"0 -960 960 960\">\n",
              "    <path d=\"M120-120v-720h720v720H120Zm60-500h600v-160H180v160Zm220 220h160v-160H400v160Zm0 220h160v-160H400v160ZM180-400h160v-160H180v160Zm440 0h160v-160H620v160ZM180-180h160v-160H180v160Zm440 0h160v-160H620v160Z\"/>\n",
              "  </svg>\n",
              "    </button>\n",
              "\n",
              "  <style>\n",
              "    .colab-df-container {\n",
              "      display:flex;\n",
              "      gap: 12px;\n",
              "    }\n",
              "\n",
              "    .colab-df-convert {\n",
              "      background-color: #E8F0FE;\n",
              "      border: none;\n",
              "      border-radius: 50%;\n",
              "      cursor: pointer;\n",
              "      display: none;\n",
              "      fill: #1967D2;\n",
              "      height: 32px;\n",
              "      padding: 0 0 0 0;\n",
              "      width: 32px;\n",
              "    }\n",
              "\n",
              "    .colab-df-convert:hover {\n",
              "      background-color: #E2EBFA;\n",
              "      box-shadow: 0px 1px 2px rgba(60, 64, 67, 0.3), 0px 1px 3px 1px rgba(60, 64, 67, 0.15);\n",
              "      fill: #174EA6;\n",
              "    }\n",
              "\n",
              "    .colab-df-buttons div {\n",
              "      margin-bottom: 4px;\n",
              "    }\n",
              "\n",
              "    [theme=dark] .colab-df-convert {\n",
              "      background-color: #3B4455;\n",
              "      fill: #D2E3FC;\n",
              "    }\n",
              "\n",
              "    [theme=dark] .colab-df-convert:hover {\n",
              "      background-color: #434B5C;\n",
              "      box-shadow: 0px 1px 3px 1px rgba(0, 0, 0, 0.15);\n",
              "      filter: drop-shadow(0px 1px 2px rgba(0, 0, 0, 0.3));\n",
              "      fill: #FFFFFF;\n",
              "    }\n",
              "  </style>\n",
              "\n",
              "    <script>\n",
              "      const buttonEl =\n",
              "        document.querySelector('#df-50371951-d5cc-4c07-a700-222953694510 button.colab-df-convert');\n",
              "      buttonEl.style.display =\n",
              "        google.colab.kernel.accessAllowed ? 'block' : 'none';\n",
              "\n",
              "      async function convertToInteractive(key) {\n",
              "        const element = document.querySelector('#df-50371951-d5cc-4c07-a700-222953694510');\n",
              "        const dataTable =\n",
              "          await google.colab.kernel.invokeFunction('convertToInteractive',\n",
              "                                                    [key], {});\n",
              "        if (!dataTable) return;\n",
              "\n",
              "        const docLinkHtml = 'Like what you see? Visit the ' +\n",
              "          '<a target=\"_blank\" href=https://colab.research.google.com/notebooks/data_table.ipynb>data table notebook</a>'\n",
              "          + ' to learn more about interactive tables.';\n",
              "        element.innerHTML = '';\n",
              "        dataTable['output_type'] = 'display_data';\n",
              "        await google.colab.output.renderOutput(dataTable, element);\n",
              "        const docLink = document.createElement('div');\n",
              "        docLink.innerHTML = docLinkHtml;\n",
              "        element.appendChild(docLink);\n",
              "      }\n",
              "    </script>\n",
              "  </div>\n",
              "\n",
              "    </div>\n",
              "  </div>\n"
            ],
            "application/vnd.google.colaboratory.intrinsic+json": {
              "type": "dataframe",
              "repr_error": "0"
            }
          },
          "metadata": {},
          "execution_count": 50
        }
      ]
    },
    {
      "cell_type": "code",
      "source": [
        "# Можем заменить, что много строчек почти стандартные, но имеют приписку \"Address\" в самом начале"
      ],
      "metadata": {
        "id": "7aA-Rp_s45K0"
      },
      "execution_count": null,
      "outputs": []
    },
    {
      "cell_type": "code",
      "source": [
        "patterns_bonus = {\n",
        "    'city_state_zip': r'^(?:Address\\s+:?\\s*)?([\\w\\s\\-]+),\\s*(\\w\\w)\\s*(\\d{5}(?:-\\d{4})?)$',\n",
        "    'city_state': r'^(?:Address\\s+:?\\s*)?([\\w\\s\\-]+),\\s*(\\w\\w)$',\n",
        "    'city_zip': r'^(?:Address\\s+:?\\s*)?([\\w\\s\\-]+)\\s*(\\d{5}(?:-\\d{4})?)$',\n",
        "    'state_zip': r'^(?:Address\\s+:?\\s*)?(\\w\\w)\\s*(\\d{5}(?:-\\d{4})?)$',\n",
        "    'only_city': r'^(?:Address\\s+:?\\s*)?([\\w\\s\\-]+)$',\n",
        "    'only_state': r'^(?:Address\\s+:?\\s*)?(\\w\\w)$',\n",
        "    'only_zip': r'^(?:Address\\s+:?\\s*)?(\\d{5}(?:-\\d{4})?)$'\n",
        "}\n",
        "extracted_data = pd.DataFrame(index=unparsed_data.index, columns=['city', 'state', 'zip_code'])\n",
        "for index, row in unparsed_data.iterrows():\n",
        "    for pattern_name, pattern in patterns_bonus.items():\n",
        "        match = re.match(pattern, row['location'])\n",
        "        if match:\n",
        "            groups = match.groups()\n",
        "            extracted_data.loc[index, 'city'] = groups[0].strip() if len(groups) > 0 else None\n",
        "            extracted_data.loc[index, 'state'] = groups[1].strip() if len(groups) > 1 else None\n",
        "            extracted_data.loc[index, 'zip_code'] = groups[2] if len(groups) > 2 else None\n",
        "            data.at[index, 'format'] = pattern_name\n",
        "            break\n",
        "\n",
        "extracted_data['zip_code'] = pd.to_numeric(extracted_data['zip_code'], errors='coerce').astype('Int32')\n",
        "unparsed_data[['city', 'state', 'zip_code']] = extracted_data\n",
        "unparsed_data.info()"
      ],
      "metadata": {
        "colab": {
          "base_uri": "https://localhost:8080/"
        },
        "id": "ZTh5VLizG5jy",
        "outputId": "bb151c41-1968-4255-d2dc-d9ddd9c0b874"
      },
      "execution_count": 51,
      "outputs": [
        {
          "output_type": "stream",
          "name": "stdout",
          "text": [
            "<class 'pandas.core.frame.DataFrame'>\n",
            "Index: 1811 entries, 2 to 21983\n",
            "Data columns (total 18 columns):\n",
            " #   Column           Non-Null Count  Dtype \n",
            "---  ------           --------------  ----- \n",
            " 0   country          1811 non-null   object\n",
            " 1   country_code     1811 non-null   object\n",
            " 2   date_added       3 non-null      object\n",
            " 3   has_expired      1811 non-null   object\n",
            " 4   job_board        1811 non-null   object\n",
            " 5   job_description  1811 non-null   object\n",
            " 6   job_title        1811 non-null   object\n",
            " 7   job_type         1545 non-null   object\n",
            " 8   location         1811 non-null   object\n",
            " 9   organization     1258 non-null   object\n",
            " 10  page_url         1811 non-null   object\n",
            " 11  salary           59 non-null     object\n",
            " 12  sector           1059 non-null   object\n",
            " 13  uniq_id          1811 non-null   object\n",
            " 14  format           1811 non-null   object\n",
            " 15  city             165 non-null    object\n",
            " 16  state            70 non-null     object\n",
            " 17  zip_code         54 non-null     Int32 \n",
            "dtypes: Int32(1), object(17)\n",
            "memory usage: 328.1+ KB\n"
          ]
        }
      ]
    },
    {
      "cell_type": "code",
      "source": [
        "data = pd.concat([data, unparsed_data], ignore_index=True)\n",
        "data.info()"
      ],
      "metadata": {
        "colab": {
          "base_uri": "https://localhost:8080/"
        },
        "id": "bx_xUYpNH53F",
        "outputId": "fd726d7c-62c2-45f9-ffe5-341edc874a10"
      },
      "execution_count": 52,
      "outputs": [
        {
          "output_type": "stream",
          "name": "stdout",
          "text": [
            "<class 'pandas.core.frame.DataFrame'>\n",
            "RangeIndex: 20997 entries, 0 to 20996\n",
            "Data columns (total 18 columns):\n",
            " #   Column           Non-Null Count  Dtype \n",
            "---  ------           --------------  ----- \n",
            " 0   country          20832 non-null  object\n",
            " 1   country_code     20832 non-null  object\n",
            " 2   date_added       119 non-null    object\n",
            " 3   has_expired      20832 non-null  object\n",
            " 4   job_board        20832 non-null  object\n",
            " 5   job_description  20832 non-null  object\n",
            " 6   job_title        20832 non-null  object\n",
            " 7   job_type         19311 non-null  object\n",
            " 8   location         20832 non-null  object\n",
            " 9   organization     14227 non-null  object\n",
            " 10  page_url         20832 non-null  object\n",
            " 11  salary           3299 non-null   object\n",
            " 12  sector           15909 non-null  object\n",
            " 13  uniq_id          20832 non-null  object\n",
            " 14  format           20997 non-null  object\n",
            " 15  city             19186 non-null  object\n",
            " 16  state            17946 non-null  object\n",
            " 17  zip_code         10995 non-null  Int32 \n",
            "dtypes: Int32(1), object(17)\n",
            "memory usage: 2.8+ MB\n"
          ]
        }
      ]
    },
    {
      "cell_type": "markdown",
      "source": [
        "### Задание 2\n",
        "\n",
        "В задании 2 необходимо провести обработку столбца `salary`."
      ],
      "metadata": {
        "id": "jnaCe7umCrCM"
      }
    },
    {
      "cell_type": "markdown",
      "source": [
        "#### Задание 2.1\n",
        "\n",
        "В столбце `salary`, как и в `location`, данные не стандатизированы. В нем в основном можно встретить записи в следующих форматах:\n",
        "\n",
        "* 10.00 - 20.00 &dollar; &sol;hour\n",
        "* 10,000.00 - 20,000.00 &dollar; &sol;year\n",
        "* &dollar;10.00 &sol;hour\n",
        "* &dollar;10,000.00+ &sol;year\n",
        "* Up to &dollar;20,000.00\n",
        "\n",
        "Основные проблемы, которые стоит учесть при обработке форматов:\n",
        "- В каждом из форматов может быть или не быть знака доллара.\n",
        "- Может отсутствовать информация о периоде, за который указывается зарплата (`/hour` или `/year` в примерах).\n",
        "- Зарплата может быть указана за месяц (`/month`) и за неделю (`/week`).\n",
        "- В начале, конце и середине некоторых строк есть лишние пробелы, которые не стоит учитывать.\n",
        "\n",
        "**Задание:**\n",
        "1. Определите весь перечень встречающихся форматов и напишите одно или несколько регулярных выражений для их поиска.\n",
        "2. Покажите на столбчатой диаграмме количество записей, содержащих каждый из форматов. Сделайте выводы."
      ],
      "metadata": {
        "id": "pODtqlog_v7l"
      }
    },
    {
      "cell_type": "code",
      "source": [
        "data['salary'] = data['salary'].astype(str)\n",
        "patterns_salary = {\n",
        "    'range': r'(\\d{1,3}(?:,\\d{3})*(?:\\.\\d{2})?)\\s*-\\s*(\\d{1,3}(?:,\\d{3})*(?:\\.\\d{2})?)\\s*\\$?\\s*/?(hour|year|month|week)?',\n",
        "    'min_only_plus': r'\\$?\\s*(\\d{1,3}(?:,\\d{3})*(?:\\.\\d{2})?)\\+\\s*/(hour|year|month|week)?',\n",
        "    'max_only_up_to': r'Up to\\s*\\$?(\\d{1,3}(?:,\\d{3})*(?:\\.\\d{2})?)\\s*/?(hour|year|month|week)?',\n",
        "    'min_only': r'\\$?\\s*(\\d{1,3}(?:,\\d{3})*(?:\\.\\d{2})?)'\n",
        "}\n",
        "\n",
        "data['format_salary'] = ''\n",
        "for index, row in data.iterrows():\n",
        "  if row['salary'] == 'nan':\n",
        "    data.at[index, 'format_salary'] = 'NaN_value'\n",
        "  else:\n",
        "    for pattern_name, pattern in patterns_salary.items():\n",
        "        if re.match(pattern, row['salary']):\n",
        "            data.at[index, 'format_salary'] = pattern_name\n",
        "            break\n",
        "    else:\n",
        "        data.at[index, 'format_salary'] = 'unknown'\n",
        "format_counts = data['format_salary'].value_counts()\n",
        "print(format_counts)"
      ],
      "metadata": {
        "id": "62JbulyKA7kS",
        "colab": {
          "base_uri": "https://localhost:8080/"
        },
        "outputId": "cc3b6860-03a0-4d04-bab3-23d0858fe770"
      },
      "execution_count": 53,
      "outputs": [
        {
          "output_type": "stream",
          "name": "stdout",
          "text": [
            "format_salary\n",
            "NaN_value         17698\n",
            "range              2627\n",
            "unknown             385\n",
            "min_only_plus       166\n",
            "max_only_up_to       91\n",
            "min_only             30\n",
            "Name: count, dtype: int64\n"
          ]
        }
      ]
    },
    {
      "cell_type": "code",
      "source": [
        "plt.figure(figsize=(10, 6))\n",
        "plt.bar(format_counts.index, format_counts.values)\n",
        "plt.title('Распределение форматов в столбце Salary')\n",
        "plt.xlabel('Форматы')\n",
        "plt.ylabel('Частота встречаемости')\n",
        "plt.show()"
      ],
      "metadata": {
        "colab": {
          "base_uri": "https://localhost:8080/",
          "height": 564
        },
        "id": "ubz0TW3mRYYR",
        "outputId": "c2d19d8c-5b8b-4627-e4ce-be14eb105a86"
      },
      "execution_count": 54,
      "outputs": [
        {
          "output_type": "display_data",
          "data": {
            "text/plain": [
              "<Figure size 1000x600 with 1 Axes>"
            ],
            "image/png": "[encoded data removed]"
          },
          "metadata": {}
        }
      ]
    },
    {
      "cell_type": "markdown",
      "source": [
        "#### Задание 2.2\n",
        "\n",
        "1. Разделите столбец `salary` зарплаты три: `минимальная граница зарплаты`, `максимальная граница зарплаты`, `период`. Если значение суммы указано только одно, считайте, что это минимальная зарплата. Значение суммы в обоих столбцах преобразуйте в формат `float`.\n",
        "2. Покажите на столбчатой диаграмме с группировкой среднюю и медианную минимальную зарплату в каждом периоде. Сделайте выводы."
      ],
      "metadata": {
        "id": "HcDjkOO2MZB2"
      }
    },
    {
      "cell_type": "code",
      "source": [
        "salary_data = pd.DataFrame(index=data.index, columns=['minimum_salary', 'max_salary', 'range_salary'])\n",
        "for index, row in data.iterrows():\n",
        "    salary = str(row['salary']).strip()\n",
        "    for pattern_name, pattern in patterns_salary.items():\n",
        "        match = re.search(pattern, salary)\n",
        "        if match:\n",
        "            groups = match.groups()\n",
        "            salary_data.loc[index, 'minimum_salary'] = float(groups[0].replace(',', '')) if len(groups) > 0 and groups[0] else None\n",
        "            if pattern_name == 'range' and len(groups) > 1:\n",
        "                salary_data.loc[index, 'max_salary'] = float(groups[1].replace(',', '')) if groups[1] else None\n",
        "            if pattern_name == 'range' and len(groups) > 2:\n",
        "                salary_data.loc[index, 'range_salary'] = groups[-1]\n",
        "            else:\n",
        "                salary_data.loc[index, 'range_salary'] = None\n",
        "\n",
        "            break\n",
        "\n",
        "salary_data['minimum_salary'] = pd.to_numeric(salary_data['minimum_salary'], errors='coerce')\n",
        "salary_data['max_salary'] = pd.to_numeric(salary_data['max_salary'], errors='coerce')\n",
        "data[['minimum_salary', 'max_salary', 'range_salary']] = salary_data\n",
        "print(data[['salary', 'minimum_salary', 'max_salary', 'range_salary']].head(20))"
      ],
      "metadata": {
        "id": "Sv7hqH6vBKXt",
        "outputId": "be8b1473-3de0-4b91-83d8-a68c1cb10243",
        "colab": {
          "base_uri": "https://localhost:8080/"
        }
      },
      "execution_count": 55,
      "outputs": [
        {
          "output_type": "stream",
          "name": "stdout",
          "text": [
            "                           salary  minimum_salary  max_salary range_salary\n",
            "0                             nan             NaN         NaN          NaN\n",
            "1                             nan             NaN         NaN          NaN\n",
            "2                             nan             NaN         NaN          NaN\n",
            "3                             nan             NaN         NaN          NaN\n",
            "4                             nan             NaN         NaN          NaN\n",
            "5                             nan             NaN         NaN          NaN\n",
            "6                             nan             NaN         NaN          NaN\n",
            "7                             nan             NaN         NaN          NaN\n",
            "8                             nan             NaN         NaN          NaN\n",
            "9                             nan             NaN         NaN          NaN\n",
            "10                            nan             NaN         NaN          NaN\n",
            "11                            nan             NaN         NaN          NaN\n",
            "12           9.00 - 13.00 $ /hour             9.0        13.0         hour\n",
            "13  80,000.00 - 95,000.00 $ /year         80000.0     95000.0         year\n",
            "14                            nan             NaN         NaN          NaN\n",
            "15                            nan             NaN         NaN          NaN\n",
            "16                            nan             NaN         NaN          NaN\n",
            "17                            nan             NaN         NaN          NaN\n",
            "18  60,000.00 - 72,000.00 $ /year         60000.0     72000.0         year\n",
            "19                            nan             NaN         NaN          NaN\n"
          ]
        }
      ]
    },
    {
      "cell_type": "code",
      "source": [
        "data.info()"
      ],
      "metadata": {
        "id": "Izkb6Y2ea2yT",
        "outputId": "c315ef81-a9e1-4e87-aafc-f5c122bac2e5",
        "colab": {
          "base_uri": "https://localhost:8080/"
        }
      },
      "execution_count": 56,
      "outputs": [
        {
          "output_type": "stream",
          "name": "stdout",
          "text": [
            "<class 'pandas.core.frame.DataFrame'>\n",
            "RangeIndex: 20997 entries, 0 to 20996\n",
            "Data columns (total 22 columns):\n",
            " #   Column           Non-Null Count  Dtype  \n",
            "---  ------           --------------  -----  \n",
            " 0   country          20832 non-null  object \n",
            " 1   country_code     20832 non-null  object \n",
            " 2   date_added       119 non-null    object \n",
            " 3   has_expired      20832 non-null  object \n",
            " 4   job_board        20832 non-null  object \n",
            " 5   job_description  20832 non-null  object \n",
            " 6   job_title        20832 non-null  object \n",
            " 7   job_type         19311 non-null  object \n",
            " 8   location         20832 non-null  object \n",
            " 9   organization     14227 non-null  object \n",
            " 10  page_url         20832 non-null  object \n",
            " 11  salary           20997 non-null  object \n",
            " 12  sector           15909 non-null  object \n",
            " 13  uniq_id          20832 non-null  object \n",
            " 14  format           20997 non-null  object \n",
            " 15  city             19186 non-null  object \n",
            " 16  state            17946 non-null  object \n",
            " 17  zip_code         10995 non-null  Int32  \n",
            " 18  format_salary    20997 non-null  object \n",
            " 19  minimum_salary   2946 non-null   float64\n",
            " 20  max_salary       2643 non-null   float64\n",
            " 21  range_salary     2628 non-null   object \n",
            "dtypes: Int32(1), float64(2), object(19)\n",
            "memory usage: 3.5+ MB\n"
          ]
        }
      ]
    },
    {
      "cell_type": "code",
      "source": [
        "salary_stats = salary_data.groupby('range_salary')['minimum_salary'].agg(['mean', 'median']).reset_index()\n",
        "periods = salary_stats['range_salary'].unique()\n",
        "fig, axes = plt.subplots(nrows=2, ncols=2, figsize=(14, 10))\n",
        "axes = axes.flatten()\n",
        "for i, period in enumerate(periods):\n",
        "    period_data = salary_stats[salary_stats['range_salary'] == period]\n",
        "    sns.barplot(x=['Средняя зарплата', 'Медианная зарплата'], y=period_data[['mean', 'median']].values.flatten(), ax=axes[i])\n",
        "    axes[i].set_title(f'Зарплата для периода: {period}')\n",
        "    axes[i].set_ylabel('Зарплата')\n",
        "    axes[i].set_xlabel('Тип зарплаты')\n",
        "plt.tight_layout()\n",
        "plt.show()"
      ],
      "metadata": {
        "id": "qSCxyqH2OdXR",
        "outputId": "efeb1323-d799-40b4-d983-648808bb2488",
        "colab": {
          "base_uri": "https://localhost:8080/",
          "height": 776
        }
      },
      "execution_count": 57,
      "outputs": [
        {
          "output_type": "display_data",
          "data": {
            "text/plain": [
              "<Figure size 1400x1000 with 4 Axes>"
            ],
            "image/png": "[encoded data removed]"
          },
          "metadata": {}
        }
      ]
    },
    {
      "cell_type": "code",
      "source": [
        "# Медианная зарплата обычно меньше, чем средняя. Это вполне ожидаемо, т.к. количество низкооплачиваемых специалистов обычно больше,\n",
        "# чем высокооплачиваемых. Но для графика зарплат в час разрыв между медианной зарплатой и средней.\n",
        "# Скорее всего это связано с тем, что много малооплачиваемых специалистов имеют почасовой оклад, из-за этого небольшая группа людей\n",
        "# с высоким доходом очень сильно влияет на среднее. Медианное значение оказалось более устойчевым"
      ],
      "metadata": {
        "id": "WQ2nHku4RjFN"
      },
      "execution_count": null,
      "outputs": []
    },
    {
      "cell_type": "markdown",
      "source": [
        "#### Задание 2.3\n",
        "\n",
        "Как было отмечено в задании 2.1, период, за который указывается зарплата, может отсутствовать. Восполните этот пробел в данных следующим образом:\n",
        "\n",
        "1. Определите диапазон изменения (разброс) значений денежной суммы за каждый из встречающихся в данных периодов. Постройте гистограмму для каждого периода.\n",
        "2. Определите, к среднему значению за какой период ближе всего сумма, у которой период не указан. Укажите для найденный период. В спорных случаях, где сумма одинаково близка к нескольким диапазонам, не выбирайте ничего."
      ],
      "metadata": {
        "id": "3qwRlgzGC-To"
      }
    },
    {
      "cell_type": "code",
      "source": [
        "range_data = data.groupby('range_salary')[['minimum_salary', 'max_salary']].agg(['min', 'max'])\n",
        "range_data['salary_range'] = range_data['max_salary']['max'] - range_data['minimum_salary']['min']\n",
        "print(range_data[['salary_range']])\n",
        "plt.figure(figsize=(12, 8))\n",
        "for i, period in enumerate(periods):\n",
        "    period_data = data[data['range_salary'] == period]\n",
        "    salary_range = period_data[['minimum_salary', 'max_salary']].dropna()\n",
        "    plt.subplot(2, 2, i+1)\n",
        "    plt.hist(salary_range['minimum_salary'], bins=20, alpha=0.6, label=f'{period} (min)')\n",
        "    plt.hist(salary_range['max_salary'], bins=20, alpha=0.6, label=f'{period} (max)')\n",
        "    plt.title(f'Гистограмма для периода: {period}')\n",
        "    plt.xlabel('Зарплата')\n",
        "    plt.ylabel('Частота')\n",
        "    plt.legend()\n",
        "\n",
        "plt.tight_layout()\n",
        "plt.show()"
      ],
      "metadata": {
        "id": "FnhxSKfkAgbS",
        "outputId": "3ea51102-7386-4913-e60e-3668c783436e",
        "colab": {
          "base_uri": "https://localhost:8080/",
          "height": 846
        }
      },
      "execution_count": 58,
      "outputs": [
        {
          "output_type": "stream",
          "name": "stdout",
          "text": [
            "             salary_range\n",
            "                         \n",
            "range_salary             \n",
            "hour             120000.0\n",
            "month             19171.0\n",
            "week               1488.0\n",
            "year            1000000.0\n"
          ]
        },
        {
          "output_type": "display_data",
          "data": {
            "text/plain": [
              "<Figure size 1200x800 with 4 Axes>"
            ],
            "image/png": "[encoded data removed]"
          },
          "metadata": {}
        }
      ]
    },
    {
      "cell_type": "code",
      "source": [
        "average_salaries = data.groupby('range_salary')['minimum_salary'].mean()\n",
        "missing_period_data = data[data['range_salary'].isna()]\n",
        "for idx, row in missing_period_data.iterrows():\n",
        "    if pd.notna(row['minimum_salary']):\n",
        "        min_diff = np.inf\n",
        "        closest_period = None\n",
        "        for period, avg_salary in average_salaries.items():\n",
        "            diff = abs(row['minimum_salary'] - avg_salary)\n",
        "            if diff < min_diff:\n",
        "                min_diff = diff\n",
        "                closest_period = period\n",
        "            elif diff == min_diff:\n",
        "                closest_period = None\n",
        "        data.loc[idx, 'range_salary'] = closest_period\n",
        "data.info()"
      ],
      "metadata": {
        "id": "T3BMuZ4bpSrs",
        "outputId": "95745ab2-1f10-44bf-cdac-f8c0cacf6863",
        "colab": {
          "base_uri": "https://localhost:8080/"
        }
      },
      "execution_count": 59,
      "outputs": [
        {
          "output_type": "stream",
          "name": "stdout",
          "text": [
            "<class 'pandas.core.frame.DataFrame'>\n",
            "RangeIndex: 20997 entries, 0 to 20996\n",
            "Data columns (total 22 columns):\n",
            " #   Column           Non-Null Count  Dtype  \n",
            "---  ------           --------------  -----  \n",
            " 0   country          20832 non-null  object \n",
            " 1   country_code     20832 non-null  object \n",
            " 2   date_added       119 non-null    object \n",
            " 3   has_expired      20832 non-null  object \n",
            " 4   job_board        20832 non-null  object \n",
            " 5   job_description  20832 non-null  object \n",
            " 6   job_title        20832 non-null  object \n",
            " 7   job_type         19311 non-null  object \n",
            " 8   location         20832 non-null  object \n",
            " 9   organization     14227 non-null  object \n",
            " 10  page_url         20832 non-null  object \n",
            " 11  salary           20997 non-null  object \n",
            " 12  sector           15909 non-null  object \n",
            " 13  uniq_id          20832 non-null  object \n",
            " 14  format           20997 non-null  object \n",
            " 15  city             19186 non-null  object \n",
            " 16  state            17946 non-null  object \n",
            " 17  zip_code         10995 non-null  Int32  \n",
            " 18  format_salary    20997 non-null  object \n",
            " 19  minimum_salary   2946 non-null   float64\n",
            " 20  max_salary       2643 non-null   float64\n",
            " 21  range_salary     2946 non-null   object \n",
            "dtypes: Int32(1), float64(2), object(19)\n",
            "memory usage: 3.5+ MB\n"
          ]
        }
      ]
    },
    {
      "cell_type": "markdown",
      "source": [
        "### Задание 3\n",
        "\n",
        "В задании 3 необходимо провести обработку столбца `job_type`. Выясните, какие форматы значений есть в столбце `job_type`. Сделайте выводы. При необходимости – стройте графики."
      ],
      "metadata": {
        "id": "cQZa1dUvXPZc"
      }
    },
    {
      "cell_type": "code",
      "source": [
        "data['job_type'].nunique()"
      ],
      "metadata": {
        "id": "5eso4sX3ts9e",
        "outputId": "fb52119e-c27b-4974-885d-6f8669aca6bb",
        "colab": {
          "base_uri": "https://localhost:8080/"
        }
      },
      "execution_count": 60,
      "outputs": [
        {
          "output_type": "execute_result",
          "data": {
            "text/plain": [
              "39"
            ]
          },
          "metadata": {},
          "execution_count": 60
        }
      ]
    },
    {
      "cell_type": "code",
      "source": [
        "data['job_type'].unique()"
      ],
      "metadata": {
        "id": "PbFXp8J6BN--",
        "outputId": "8bb81df0-c872-45d3-f557-78fad692a00b",
        "colab": {
          "base_uri": "https://localhost:8080/"
        }
      },
      "execution_count": 61,
      "outputs": [
        {
          "output_type": "execute_result",
          "data": {
            "text/plain": [
              "array(['Full Time Employee', 'Full Time', 'Full Time, Employee',\n",
              "       'Part Time Employee', nan, 'Full Time Temporary/Contract/Project',\n",
              "       'Full Time , Employee', 'Full Time, Temporary/Contract/Project',\n",
              "       'Employee', 'Part Time', 'Part Time, Employee', 'Full Time Intern',\n",
              "       'Temporary/Contract/Project', 'Full Time / Employee',\n",
              "       'Full Time , Temporary/Contract/Project', 'Per Diem, Employee',\n",
              "       'Job Type Full Time Employee', 'Per Diem',\n",
              "       'Part Time, Temporary/Contract/Project', 'Part Time Intern',\n",
              "       'Per Diem Employee', 'Part Time/ Temporary/Contract/Project',\n",
              "       'Part Time Temporary/Contract/Project',\n",
              "       'Part Time , Temporary/Contract/Project', 'Full Time\\xa0 Employee',\n",
              "       'Part Time Seasonal', 'Part Time , Employee', 'Job Type Employee',\n",
              "       'Job Type Full Time Temporary/Contract/Project',\n",
              "       'Part Time, Intern', 'Job Type Full Time', 'Part Time / Employee',\n",
              "       'Per Diem, Temporary/Contract/Project',\n",
              "       'Job Type Part Time Employee', 'Full Time/ Employee',\n",
              "       'Full Time\\xa0', 'Exempt', 'Full Time / > Employee',\n",
              "       'Part Time\\xa0', 'Full Time / Temporary/Contract/Project'],\n",
              "      dtype=object)"
            ]
          },
          "metadata": {},
          "execution_count": 61
        }
      ]
    },
    {
      "cell_type": "markdown",
      "source": [
        "Вы заметили, что многие значения фактически одинаковые, но немного по-разному отформатированы? Приведем их к единому формату."
      ],
      "metadata": {
        "id": "CpUXRxhoXsdy"
      }
    },
    {
      "cell_type": "code",
      "source": [
        "data['job_type'] = data['job_type'].str.strip()\n",
        "data['job_type'] = data['job_type'].str.replace(r'\\s+', ' ', regex=True)\n",
        "data['job_type'] = data['job_type'].str.replace(r'\\s*[>,/]\\s*', ' ', regex=True)\n",
        "data['job_type'] = data['job_type'].str.replace(r'Job Type\\s*', '', regex=True)\n",
        "data['job_type'] = data['job_type'].str.replace(r'\\s*Employee\\s*', ' Employee', regex=True)\n",
        "data['job_type'] = data['job_type'].str.replace(r'Intern\\s*', 'Intern', regex=True)"
      ],
      "metadata": {
        "id": "ejRYjjC7WIES"
      },
      "execution_count": 62,
      "outputs": []
    },
    {
      "cell_type": "code",
      "source": [
        "data['job_type'].nunique()"
      ],
      "metadata": {
        "id": "RBxwH9Eiw8Iz",
        "outputId": "4c629cb1-5989-4bf7-cc41-9c0e10a4e188",
        "colab": {
          "base_uri": "https://localhost:8080/"
        }
      },
      "execution_count": 63,
      "outputs": [
        {
          "output_type": "execute_result",
          "data": {
            "text/plain": [
              "15"
            ]
          },
          "metadata": {},
          "execution_count": 63
        }
      ]
    },
    {
      "cell_type": "code",
      "source": [
        "data['job_type'].unique()"
      ],
      "metadata": {
        "id": "DkF_KbXQw9eB",
        "outputId": "d1ceb6cf-94f6-4457-bacb-030786083058",
        "colab": {
          "base_uri": "https://localhost:8080/"
        }
      },
      "execution_count": 64,
      "outputs": [
        {
          "output_type": "execute_result",
          "data": {
            "text/plain": [
              "array(['Full Time Employee', 'Full Time', 'Part Time Employee', nan,\n",
              "       'Full Time Temporary Contract Project', ' Employee', 'Part Time',\n",
              "       'Full Time Intern', 'Temporary Contract Project',\n",
              "       'Per Diem Employee', 'Per Diem',\n",
              "       'Part Time Temporary Contract Project', 'Part Time Intern',\n",
              "       'Part Time Seasonal', 'Per Diem Temporary Contract Project',\n",
              "       'Exempt'], dtype=object)"
            ]
          },
          "metadata": {},
          "execution_count": 64
        }
      ]
    },
    {
      "cell_type": "markdown",
      "source": [
        "Столбец `job_type` состоит из двух частей: \"полнота\" занятости (`Full Time`, `Part Time`, `Per Diem`) и \"тип\" занятости (`Employee`, `Intern`). Кроме того, встречаются и неполные записи.\n",
        "\n",
        "Задание:\n",
        "1. Написать одно или несколько регулярных выражений для разделения столбца `job_type` на два: `полнота занятости`, `тип занятости`.\n",
        "2. Если данные о полноте отсутствуют, внесите значение `Full Time`.\n",
        "Если отсутствуют данные о типе – внесите `Employee`.\n",
        "3. Постройте столбчатую диаграмму со стековой группировкой для полноты и типа занятости. Сделайте выводы."
      ],
      "metadata": {
        "id": "3dTDSMR8dTI8"
      }
    },
    {
      "cell_type": "code",
      "source": [
        "job_type_pattern = r'^(Full Time|Part Time|Per Diem)?\\s*(.*)?$'\n",
        "job_full_time = []\n",
        "job_category = []\n",
        "for job in data['job_type']:\n",
        "    if pd.isnull(job):\n",
        "        job = \"\"\n",
        "    match = re.match(job_type_pattern, job.strip())\n",
        "\n",
        "    if match:\n",
        "        full_time = match.group(1)\n",
        "        job_category_value = match.group(2)\n",
        "        if not full_time:\n",
        "            full_time = \"Full Time\"\n",
        "        if not job_category_value:\n",
        "            job_category_value = \"Employee\"\n",
        "        job_full_time.append(full_time)\n",
        "        job_category.append(job_category_value)\n",
        "\n",
        "data['job_full_time'] = job_full_time\n",
        "data['job_category'] = job_category\n",
        "print(data[['job_type', 'job_full_time', 'job_category']].head(20))\n",
        "job_counts = data.groupby(['job_full_time', 'job_category']).size().unstack().fillna(0)\n",
        "job_counts_percent = job_counts.div(job_counts.sum(axis=1), axis=0) * 100\n",
        "\n",
        "job_counts_percent.plot(kind='bar', stacked=True, figsize=(10, 6))\n",
        "plt.title('Столбчатая диаграмма для полноты и типа занятости (в процентах)')\n",
        "plt.xlabel('Полнота занятости')\n",
        "plt.ylabel('Процент')\n",
        "plt.xticks(rotation=0)\n",
        "plt.legend(title='Тип занятости')\n",
        "plt.tight_layout()\n",
        "plt.show()"
      ],
      "metadata": {
        "id": "gW7GoMgkbtLx",
        "outputId": "96e6c7b8-bdd0-417b-e2b7-fcdba1507f6b",
        "colab": {
          "base_uri": "https://localhost:8080/",
          "height": 971
        }
      },
      "execution_count": 65,
      "outputs": [
        {
          "output_type": "stream",
          "name": "stdout",
          "text": [
            "              job_type job_full_time job_category\n",
            "0   Full Time Employee     Full Time     Employee\n",
            "1            Full Time     Full Time     Employee\n",
            "2            Full Time     Full Time     Employee\n",
            "3   Full Time Employee     Full Time     Employee\n",
            "4   Full Time Employee     Full Time     Employee\n",
            "5   Full Time Employee     Full Time     Employee\n",
            "6   Full Time Employee     Full Time     Employee\n",
            "7   Part Time Employee     Part Time     Employee\n",
            "8                  NaN     Full Time     Employee\n",
            "9            Full Time     Full Time     Employee\n",
            "10  Full Time Employee     Full Time     Employee\n",
            "11           Full Time     Full Time     Employee\n",
            "12           Full Time     Full Time     Employee\n",
            "13  Full Time Employee     Full Time     Employee\n",
            "14  Full Time Employee     Full Time     Employee\n",
            "15                 NaN     Full Time     Employee\n",
            "16  Full Time Employee     Full Time     Employee\n",
            "17           Full Time     Full Time     Employee\n",
            "18           Full Time     Full Time     Employee\n",
            "19  Full Time Employee     Full Time     Employee\n"
          ]
        },
        {
          "output_type": "display_data",
          "data": {
            "text/plain": [
              "<Figure size 1000x600 with 1 Axes>"
            ],
            "image/png": "[encoded data removed]"
          },
          "metadata": {}
        }
      ]
    },
    {
      "cell_type": "markdown",
      "source": [
        "# Порядок защиты работы"
      ],
      "metadata": {
        "id": "kNKi8fn1X0Qa"
      }
    },
    {
      "cell_type": "markdown",
      "source": [
        "**Для защиты работы необходимо:**\n",
        "1. Предоставить результаты выполнения всех заданий в виде ссылки на Google Colab.\n",
        "2. Выполнить дополнительное задание в процессе сдачи работы. Дополнительное задание представляет собой решение задачи на обработку данных лабораторной работы, меньшее по объему, но сопоставимое по сложности тем заданиям, которые требовалось выполнить в рамках работы.\n",
        "\n",
        "**Примеры дополнительных заданий:**\n",
        "1. В столбце `sector` часто представлены данные из столбца `organization` и наоборот. Устраните эту проблему.\n",
        "2. В столбце `job_title` часто можно частично или полностью встретить указание местоположения организации. Сравните, совпадают ли в таких случаях данные с тем, что указано в столбцах `город`, `код штата`, `почтовый индекс`. Если в этих трех столбцах данные отсутствуют, заполните их данными из столбца `job_title`.\n",
        "3. Практически во всех столбцах датасета вместо соответствующих названию данных иногда встречается текст из `job_description`. Найдите такие столбцы и записи с описанием вакансии в них. Покажите на столбчатой диаграмме, в каких столбцах и в каком количестве находится информация из столбца `job_description`."
      ],
      "metadata": {
        "id": "vNArFxJcX8uS"
      }
    },
    {
      "cell_type": "markdown",
      "source": [],
      "metadata": {
        "id": "zTRY6Khntd0u"
      }
    },
    {
      "cell_type": "markdown",
      "source": [
        "# Дополнительные материалы"
      ],
      "metadata": {
        "id": "o5oPWAt-Z_s_"
      }
    },
    {
      "cell_type": "markdown",
      "source": [
        "1. DAMA-DMBOK: Свод знаний по управлению данными: Второе издание / DAMA International; [пер. с англ.]. – Москва: ООО \"Олимп-Бизнес\", 2021. – 828 с.\n",
        "2. Макгрегор, С. Обработка данных на Python: Data Wrangling и Data Quality: [Текст] / С. Макгрегор. – Москва: БХВ, 2024. – 432 с."
      ],
      "metadata": {
        "id": "-MwwS_lTaSGM"
      }
    }
  ]
}