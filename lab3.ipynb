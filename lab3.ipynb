{
  "nbformat": 4,
  "nbformat_minor": 0,
  "metadata": {
    "colab": {
      "provenance": [],
      "name": "lab3.ipynb",
      "include_colab_link": true
    },
    "kernelspec": {
      "name": "python3",
      "display_name": "Python 3"
    },
    "language_info": {
      "name": "python"
    }
  },
  "cells": [
    {
      "cell_type": "markdown",
      "metadata": {
        "id": "view-in-github",
        "colab_type": "text"
      },
      "source": [
        "<a href=\"https://colab.research.google.com/github/Sap-Artem/visualization_lab3/blob/main/lab3.ipynb\" target=\"_parent\"><img src=\"https://colab.research.google.com/assets/colab-badge.svg\" alt=\"Open In Colab\"/></a>"
      ]
    },
    {
      "cell_type": "markdown",
      "source": [
        "# Постановка задачи\n"
      ],
      "metadata": {
        "id": "Mx1V6rkZLGNJ"
      }
    },
    {
      "cell_type": "markdown",
      "source": [
        "**Цель работы:** исследование и обработка данных для повышения их качества.\n",
        "\n",
        "**Краткое описание:** в лабораторной работе приводится поэтапный план изучения и обработки намеренно не предобработанных данных. Необходимо выполнить все этапы плана и оценить результаты преобразований."
      ],
      "metadata": {
        "id": "BPzgy4tKLP-x"
      }
    },
    {
      "cell_type": "markdown",
      "metadata": {
        "id": "xjvL0IIG8Jd0"
      },
      "source": [
        "# Данные\n"
      ]
    },
    {
      "cell_type": "markdown",
      "metadata": {
        "id": "oP3lX9xC8Jd8"
      },
      "source": [
        "\n",
        "В папке [Data/lab3](https://drive.google.com/drive/folders/1437z7m5Ut4WUJOhJg1oZz13dtBpxgFKs?usp=share_link) расположена таблица `monster_com_job_sample.com` с данными о вакансиях. Также эти данные с описанием и примерами обработки можно найти на [kaggle](https://www.kaggle.com/code/ankkur13/perfect-dataset-to-get-the-hands-dirty/data#).\n",
        "\n",
        "##### **Формат данных**\n",
        "\n",
        "```\n",
        "country,country_code,date_added,has_expired,job_board,job_description,job_title,job_type,location,organization,page_url,salary,sector,uniq_id\n",
        "United States of America,US,\"\",No,jobs.monster.com,\"TeamSoft is seeing an IT Support Specialist to join our client in Madison, WI. The ideal candidate must have at least 6 years of experience in the field. They need to be familiar with a variety of the field's concepts, practices, and procedures as this position relies on extensive experience and judgment to plan and accomplish goals. Required Skills:вАҐ Call tracking softwareвАҐ Phone based technical supportвАҐ Problem documentation and communicationвАҐ Remote Desktop Management ToolsвАҐ Respond to customer requestsвАҐ General understanding of LANDeskвАҐ Microsoft Office 2007 SuiteFind out why TeamSoft is the Madison area's technology leader with over 200 IT consultants. Owned, operated, and managed by IT consultants, TeamSoft is the clear choice for your career. Join the TeamSoft family today!Did you know?вАҐ TeamSoft offers salaried options for many positions that include 5 weeks PTO and great benefits!вАҐ TeamSoft has been in business since 1996вАҐ TeamSoft's owners are local IT professionals who possess a wealth of experience in application development, business analysis, and project managementвАҐ TeamSoft's Recruiters are knowledgeable, friendly, and ready to help you make your next great career moveвАҐ TeamSoft offers a full benefits suite to all of our W2 consultants, including a 401k plan with a 100% vested 4% dollar for dollar matchвАҐ Our targeted selection process is designed to get to know your strengths and career interests and provide you with the best chance for success in your new positionвАҐ Our longest running consultant has been with us for 16 yearsвАҐ Consultants can participate in our charitable giving committee. To date, TeamSoft's charitable giving committee has donated over $100,000!TeamSoft is owned by local IT professionals. Our team also has deep experience with IT staffing. Our clients understand this and rely on our expertise. That is why TeamSoft is the Madison Area's largest privately owned IT consulting firm, with more than 200 current consultants! With over 50 active clients, TeamSoft will give you the greatest exposure to the widest range of IT careers.Our owners possess a combined 60+ years of IT consulting experience. Our recruiting and Account Management staff are very well-versed in our client markets. We get you. We know you. We know what you do every day. And we know what you deal with on the job.You take your career seriously and so do we. At TeamSoft you are not just a resume or number. Our goal is to create long-term partnerships with each of our consultants, and according to feedback from many of them, we are very good at this. Click HERE to see what our consultants have to say about working with TeamSoft.TeamSoft -- Promote yourself!TeamSoft is an equal employment opportunity employer functioning under an Affirmative Action Plan.\",IT Support Technician Job in Madison,Full Time Employee,\"Madison, WI 53702\",\"\",http://jobview.monster.com/it-support-technician-job-madison-wi-us-167855963.aspx?mescoid=1500134001001&jobPosition=20,\"\",IT/Software Development,11d599f229a80023d2f40e7c52cd941e\n",
        "United States of America,US,\"\",No,jobs.monster.com,\"The Wisconsin State Journal is seeking a flexible and motivated reporter/editor to lead its three-person business desk. WeвАЩre looking for an experienced journalist able to spot trends, be a watchdog and reflect the Madison areaвАЩs vibrant entrepreneurial community. This is a hybrid reporting and editing position that calls for a fleet-footed, multimedia storyteller able to maximize the newspaperвАЩs online presentation while also editing two sections a week. Candidates must have strong news judgment, be well versed in business news and trends and be able to quickly prioritize coverage.At least five yearsвАЩ experience reporting or editing for digital and print platforms desired. To be considered for the position, applicants must apply online.¬†As part of your online application, please attach five samples of your work or links to five recent stories.Wisconsin State Journal, 1901 Fish Hatchery Road, Madison, WI 53713Affirmative Action/Equal Opportunity Employer/Pre-employment drug testing appliesPI94338362Apply Here\",Business Reporter/Editor Job in Madison,Full Time,\"Madison, WI 53708\",Printing and Publishing,http://jobview.monster.com/business-reporter-editor-job-madison-wi-us-167830105.aspx?mescoid=2700437001001&jobPosition=7,\"\",\"\",e4cbb126dabf22159aff90223243ff2a\n",
        "...\n",
        "```"
      ]
    },
    {
      "cell_type": "markdown",
      "source": [
        "##### **Описание полей**\n",
        " - ```country``` — наименование страны;\n",
        " - ```country_code``` — код страны;\n",
        " - ```date_added``` — дата размещения вакансии;\n",
        " - ```has_expired``` — актуальность вакансии;\n",
        " - ```job_board``` — агрегатор вакансий, с которого собраны данные;\n",
        " - ```job_description``` — описание вакансии;\n",
        " - ```job_title``` — наименование должности;\n",
        " - ```job_type``` — вид занятости;\n",
        " - ```location``` — метоположение организации;\n",
        " - ```organization``` — наименование организации;\n",
        " - ```page_url``` — ссылка на страницу с вакансией;\n",
        " - ```salary``` — заработная плата;\n",
        " - ```sector``` — сфера деятельности;\n",
        " - ```uniq_id``` — уникальный идентификатор записи о вакансии."
      ],
      "metadata": {
        "id": "6lEBcXdWuhD3"
      }
    },
    {
      "cell_type": "markdown",
      "source": [
        "# Понимание данных"
      ],
      "metadata": {
        "id": "SA63ZXNBkUde"
      }
    },
    {
      "cell_type": "code",
      "execution_count": 1,
      "metadata": {
        "id": "eZIcPcPutJ7k"
      },
      "outputs": [],
      "source": [
        "import re\n",
        "import numpy as np\n",
        "import pandas as pd\n",
        "import missingno as msno\n",
        "from matplotlib import pyplot as plt\n",
        "import seaborn as sns"
      ]
    },
    {
      "cell_type": "markdown",
      "source": [
        "В датасете есть несколько столбцов, в каждой ячейке которых записано одно и то же значение. Есть столбцы, в которых формат записи значений не стандартизирован. А есть такие, где указана информация, не соответствующая названию столбца.\n",
        "\n",
        "**Первый этап изучения данных** – понять, какие основные проблемы предстоит решить для каждого из столбцов. Для этого загрузите датасет и выведите случайные несколько строк из него. Постарайтесь понять, что из себя представляют данные в столбцах."
      ],
      "metadata": {
        "id": "Fy8Z7sNYyJdO"
      }
    },
    {
      "cell_type": "code",
      "source": [
        "data = pd.read_csv('monster_com_job_sample.csv')\n",
        "data.head()"
      ],
      "metadata": {
        "id": "Pg3YapMnEEDH",
        "colab": {
          "base_uri": "https://localhost:8080/",
          "height": 521
        },
        "outputId": "eb0a8bda-7481-41e2-e6b0-a8ff297c0f0e"
      },
      "execution_count": 2,
      "outputs": [
        {
          "output_type": "execute_result",
          "data": {
            "text/plain": [
              "                    country country_code date_added has_expired  \\\n",
              "0  United States of America           US        NaN          No   \n",
              "1  United States of America           US        NaN          No   \n",
              "2  United States of America           US        NaN          No   \n",
              "3  United States of America           US        NaN          No   \n",
              "4  United States of America           US        NaN          No   \n",
              "\n",
              "          job_board                                    job_description  \\\n",
              "0  jobs.monster.com  TeamSoft is seeing an IT Support Specialist to...   \n",
              "1  jobs.monster.com  The Wisconsin State Journal is seeking a flexi...   \n",
              "2  jobs.monster.com  Report this job About the Job DePuy Synthes Co...   \n",
              "3  jobs.monster.com  Why Join Altec? If you’re considering a career...   \n",
              "4  jobs.monster.com  Position ID#  76162 # Positions  1 State  CT C...   \n",
              "\n",
              "                                           job_title             job_type  \\\n",
              "0               IT Support Technician Job in Madison   Full Time Employee   \n",
              "1            Business Reporter/Editor Job in Madison            Full Time   \n",
              "2  Johnson & Johnson Family of Companies Job Appl...  Full Time, Employee   \n",
              "3                    Engineer - Quality Job in Dixon            Full Time   \n",
              "4       Shift Supervisor - Part-Time Job in Camphill   Full Time Employee   \n",
              "\n",
              "                                            location  \\\n",
              "0                                  Madison, WI 53702   \n",
              "1                                  Madison, WI 53708   \n",
              "2  DePuy Synthes Companies is a member of Johnson...   \n",
              "3                                          Dixon, CA   \n",
              "4                                       Camphill, PA   \n",
              "\n",
              "                      organization  \\\n",
              "0                              NaN   \n",
              "1          Printing and Publishing   \n",
              "2  Personal and Household Services   \n",
              "3                 Altec Industries   \n",
              "4                           Retail   \n",
              "\n",
              "                                            page_url salary  \\\n",
              "0  http://jobview.monster.com/it-support-technici...    NaN   \n",
              "1  http://jobview.monster.com/business-reporter-e...    NaN   \n",
              "2  http://jobview.monster.com/senior-training-lea...    NaN   \n",
              "3  http://jobview.monster.com/engineer-quality-jo...    NaN   \n",
              "4  http://jobview.monster.com/shift-supervisor-pa...    NaN   \n",
              "\n",
              "                       sector                           uniq_id  \n",
              "0     IT/Software Development  11d599f229a80023d2f40e7c52cd941e  \n",
              "1                         NaN  e4cbb126dabf22159aff90223243ff2a  \n",
              "2                         NaN  839106b353877fa3d896ffb9c1fe01c0  \n",
              "3   Experienced (Non-Manager)  58435fcab804439efdcaa7ecca0fd783  \n",
              "4  Project/Program Management  64d0272dc8496abfd9523a8df63c184c  "
            ],
            "text/html": [
              "\n",
              "  <div id=\"df-206190c3-db48-417f-9658-e59f0ac3b973\" class=\"colab-df-container\">\n",
              "    <div>\n",
              "<style scoped>\n",
              "    .dataframe tbody tr th:only-of-type {\n",
              "        vertical-align: middle;\n",
              "    }\n",
              "\n",
              "    .dataframe tbody tr th {\n",
              "        vertical-align: top;\n",
              "    }\n",
              "\n",
              "    .dataframe thead th {\n",
              "        text-align: right;\n",
              "    }\n",
              "</style>\n",
              "<table border=\"1\" class=\"dataframe\">\n",
              "  <thead>\n",
              "    <tr style=\"text-align: right;\">\n",
              "      <th></th>\n",
              "      <th>country</th>\n",
              "      <th>country_code</th>\n",
              "      <th>date_added</th>\n",
              "      <th>has_expired</th>\n",
              "      <th>job_board</th>\n",
              "      <th>job_description</th>\n",
              "      <th>job_title</th>\n",
              "      <th>job_type</th>\n",
              "      <th>location</th>\n",
              "      <th>organization</th>\n",
              "      <th>page_url</th>\n",
              "      <th>salary</th>\n",
              "      <th>sector</th>\n",
              "      <th>uniq_id</th>\n",
              "    </tr>\n",
              "  </thead>\n",
              "  <tbody>\n",
              "    <tr>\n",
              "      <th>0</th>\n",
              "      <td>United States of America</td>\n",
              "      <td>US</td>\n",
              "      <td>NaN</td>\n",
              "      <td>No</td>\n",
              "      <td>jobs.monster.com</td>\n",
              "      <td>TeamSoft is seeing an IT Support Specialist to...</td>\n",
              "      <td>IT Support Technician Job in Madison</td>\n",
              "      <td>Full Time Employee</td>\n",
              "      <td>Madison, WI 53702</td>\n",
              "      <td>NaN</td>\n",
              "      <td>http://jobview.monster.com/it-support-technici...</td>\n",
              "      <td>NaN</td>\n",
              "      <td>IT/Software Development</td>\n",
              "      <td>11d599f229a80023d2f40e7c52cd941e</td>\n",
              "    </tr>\n",
              "    <tr>\n",
              "      <th>1</th>\n",
              "      <td>United States of America</td>\n",
              "      <td>US</td>\n",
              "      <td>NaN</td>\n",
              "      <td>No</td>\n",
              "      <td>jobs.monster.com</td>\n",
              "      <td>The Wisconsin State Journal is seeking a flexi...</td>\n",
              "      <td>Business Reporter/Editor Job in Madison</td>\n",
              "      <td>Full Time</td>\n",
              "      <td>Madison, WI 53708</td>\n",
              "      <td>Printing and Publishing</td>\n",
              "      <td>http://jobview.monster.com/business-reporter-e...</td>\n",
              "      <td>NaN</td>\n",
              "      <td>NaN</td>\n",
              "      <td>e4cbb126dabf22159aff90223243ff2a</td>\n",
              "    </tr>\n",
              "    <tr>\n",
              "      <th>2</th>\n",
              "      <td>United States of America</td>\n",
              "      <td>US</td>\n",
              "      <td>NaN</td>\n",
              "      <td>No</td>\n",
              "      <td>jobs.monster.com</td>\n",
              "      <td>Report this job About the Job DePuy Synthes Co...</td>\n",
              "      <td>Johnson &amp; Johnson Family of Companies Job Appl...</td>\n",
              "      <td>Full Time, Employee</td>\n",
              "      <td>DePuy Synthes Companies is a member of Johnson...</td>\n",
              "      <td>Personal and Household Services</td>\n",
              "      <td>http://jobview.monster.com/senior-training-lea...</td>\n",
              "      <td>NaN</td>\n",
              "      <td>NaN</td>\n",
              "      <td>839106b353877fa3d896ffb9c1fe01c0</td>\n",
              "    </tr>\n",
              "    <tr>\n",
              "      <th>3</th>\n",
              "      <td>United States of America</td>\n",
              "      <td>US</td>\n",
              "      <td>NaN</td>\n",
              "      <td>No</td>\n",
              "      <td>jobs.monster.com</td>\n",
              "      <td>Why Join Altec? If you’re considering a career...</td>\n",
              "      <td>Engineer - Quality Job in Dixon</td>\n",
              "      <td>Full Time</td>\n",
              "      <td>Dixon, CA</td>\n",
              "      <td>Altec Industries</td>\n",
              "      <td>http://jobview.monster.com/engineer-quality-jo...</td>\n",
              "      <td>NaN</td>\n",
              "      <td>Experienced (Non-Manager)</td>\n",
              "      <td>58435fcab804439efdcaa7ecca0fd783</td>\n",
              "    </tr>\n",
              "    <tr>\n",
              "      <th>4</th>\n",
              "      <td>United States of America</td>\n",
              "      <td>US</td>\n",
              "      <td>NaN</td>\n",
              "      <td>No</td>\n",
              "      <td>jobs.monster.com</td>\n",
              "      <td>Position ID#  76162 # Positions  1 State  CT C...</td>\n",
              "      <td>Shift Supervisor - Part-Time Job in Camphill</td>\n",
              "      <td>Full Time Employee</td>\n",
              "      <td>Camphill, PA</td>\n",
              "      <td>Retail</td>\n",
              "      <td>http://jobview.monster.com/shift-supervisor-pa...</td>\n",
              "      <td>NaN</td>\n",
              "      <td>Project/Program Management</td>\n",
              "      <td>64d0272dc8496abfd9523a8df63c184c</td>\n",
              "    </tr>\n",
              "  </tbody>\n",
              "</table>\n",
              "</div>\n",
              "    <div class=\"colab-df-buttons\">\n",
              "\n",
              "  <div class=\"colab-df-container\">\n",
              "    <button class=\"colab-df-convert\" onclick=\"convertToInteractive('df-206190c3-db48-417f-9658-e59f0ac3b973')\"\n",
              "            title=\"Convert this dataframe to an interactive table.\"\n",
              "            style=\"display:none;\">\n",
              "\n",
              "  <svg xmlns=\"http://www.w3.org/2000/svg\" height=\"24px\" viewBox=\"0 -960 960 960\">\n",
              "    <path d=\"M120-120v-720h720v720H120Zm60-500h600v-160H180v160Zm220 220h160v-160H400v160Zm0 220h160v-160H400v160ZM180-400h160v-160H180v160Zm440 0h160v-160H620v160ZM180-180h160v-160H180v160Zm440 0h160v-160H620v160Z\"/>\n",
              "  </svg>\n",
              "    </button>\n",
              "\n",
              "  <style>\n",
              "    .colab-df-container {\n",
              "      display:flex;\n",
              "      gap: 12px;\n",
              "    }\n",
              "\n",
              "    .colab-df-convert {\n",
              "      background-color: #E8F0FE;\n",
              "      border: none;\n",
              "      border-radius: 50%;\n",
              "      cursor: pointer;\n",
              "      display: none;\n",
              "      fill: #1967D2;\n",
              "      height: 32px;\n",
              "      padding: 0 0 0 0;\n",
              "      width: 32px;\n",
              "    }\n",
              "\n",
              "    .colab-df-convert:hover {\n",
              "      background-color: #E2EBFA;\n",
              "      box-shadow: 0px 1px 2px rgba(60, 64, 67, 0.3), 0px 1px 3px 1px rgba(60, 64, 67, 0.15);\n",
              "      fill: #174EA6;\n",
              "    }\n",
              "\n",
              "    .colab-df-buttons div {\n",
              "      margin-bottom: 4px;\n",
              "    }\n",
              "\n",
              "    [theme=dark] .colab-df-convert {\n",
              "      background-color: #3B4455;\n",
              "      fill: #D2E3FC;\n",
              "    }\n",
              "\n",
              "    [theme=dark] .colab-df-convert:hover {\n",
              "      background-color: #434B5C;\n",
              "      box-shadow: 0px 1px 3px 1px rgba(0, 0, 0, 0.15);\n",
              "      filter: drop-shadow(0px 1px 2px rgba(0, 0, 0, 0.3));\n",
              "      fill: #FFFFFF;\n",
              "    }\n",
              "  </style>\n",
              "\n",
              "    <script>\n",
              "      const buttonEl =\n",
              "        document.querySelector('#df-206190c3-db48-417f-9658-e59f0ac3b973 button.colab-df-convert');\n",
              "      buttonEl.style.display =\n",
              "        google.colab.kernel.accessAllowed ? 'block' : 'none';\n",
              "\n",
              "      async function convertToInteractive(key) {\n",
              "        const element = document.querySelector('#df-206190c3-db48-417f-9658-e59f0ac3b973');\n",
              "        const dataTable =\n",
              "          await google.colab.kernel.invokeFunction('convertToInteractive',\n",
              "                                                    [key], {});\n",
              "        if (!dataTable) return;\n",
              "\n",
              "        const docLinkHtml = 'Like what you see? Visit the ' +\n",
              "          '<a target=\"_blank\" href=https://colab.research.google.com/notebooks/data_table.ipynb>data table notebook</a>'\n",
              "          + ' to learn more about interactive tables.';\n",
              "        element.innerHTML = '';\n",
              "        dataTable['output_type'] = 'display_data';\n",
              "        await google.colab.output.renderOutput(dataTable, element);\n",
              "        const docLink = document.createElement('div');\n",
              "        docLink.innerHTML = docLinkHtml;\n",
              "        element.appendChild(docLink);\n",
              "      }\n",
              "    </script>\n",
              "  </div>\n",
              "\n",
              "\n",
              "<div id=\"df-bb43cbce-0f18-449a-9580-a2e84d99609a\">\n",
              "  <button class=\"colab-df-quickchart\" onclick=\"quickchart('df-bb43cbce-0f18-449a-9580-a2e84d99609a')\"\n",
              "            title=\"Suggest charts\"\n",
              "            style=\"display:none;\">\n",
              "\n",
              "<svg xmlns=\"http://www.w3.org/2000/svg\" height=\"24px\"viewBox=\"0 0 24 24\"\n",
              "     width=\"24px\">\n",
              "    <g>\n",
              "        <path d=\"M19 3H5c-1.1 0-2 .9-2 2v14c0 1.1.9 2 2 2h14c1.1 0 2-.9 2-2V5c0-1.1-.9-2-2-2zM9 17H7v-7h2v7zm4 0h-2V7h2v10zm4 0h-2v-4h2v4z\"/>\n",
              "    </g>\n",
              "</svg>\n",
              "  </button>\n",
              "\n",
              "<style>\n",
              "  .colab-df-quickchart {\n",
              "      --bg-color: #E8F0FE;\n",
              "      --fill-color: #1967D2;\n",
              "      --hover-bg-color: #E2EBFA;\n",
              "      --hover-fill-color: #174EA6;\n",
              "      --disabled-fill-color: #AAA;\n",
              "      --disabled-bg-color: #DDD;\n",
              "  }\n",
              "\n",
              "  [theme=dark] .colab-df-quickchart {\n",
              "      --bg-color: #3B4455;\n",
              "      --fill-color: #D2E3FC;\n",
              "      --hover-bg-color: #434B5C;\n",
              "      --hover-fill-color: #FFFFFF;\n",
              "      --disabled-bg-color: #3B4455;\n",
              "      --disabled-fill-color: #666;\n",
              "  }\n",
              "\n",
              "  .colab-df-quickchart {\n",
              "    background-color: var(--bg-color);\n",
              "    border: none;\n",
              "    border-radius: 50%;\n",
              "    cursor: pointer;\n",
              "    display: none;\n",
              "    fill: var(--fill-color);\n",
              "    height: 32px;\n",
              "    padding: 0;\n",
              "    width: 32px;\n",
              "  }\n",
              "\n",
              "  .colab-df-quickchart:hover {\n",
              "    background-color: var(--hover-bg-color);\n",
              "    box-shadow: 0 1px 2px rgba(60, 64, 67, 0.3), 0 1px 3px 1px rgba(60, 64, 67, 0.15);\n",
              "    fill: var(--button-hover-fill-color);\n",
              "  }\n",
              "\n",
              "  .colab-df-quickchart-complete:disabled,\n",
              "  .colab-df-quickchart-complete:disabled:hover {\n",
              "    background-color: var(--disabled-bg-color);\n",
              "    fill: var(--disabled-fill-color);\n",
              "    box-shadow: none;\n",
              "  }\n",
              "\n",
              "  .colab-df-spinner {\n",
              "    border: 2px solid var(--fill-color);\n",
              "    border-color: transparent;\n",
              "    border-bottom-color: var(--fill-color);\n",
              "    animation:\n",
              "      spin 1s steps(1) infinite;\n",
              "  }\n",
              "\n",
              "  @keyframes spin {\n",
              "    0% {\n",
              "      border-color: transparent;\n",
              "      border-bottom-color: var(--fill-color);\n",
              "      border-left-color: var(--fill-color);\n",
              "    }\n",
              "    20% {\n",
              "      border-color: transparent;\n",
              "      border-left-color: var(--fill-color);\n",
              "      border-top-color: var(--fill-color);\n",
              "    }\n",
              "    30% {\n",
              "      border-color: transparent;\n",
              "      border-left-color: var(--fill-color);\n",
              "      border-top-color: var(--fill-color);\n",
              "      border-right-color: var(--fill-color);\n",
              "    }\n",
              "    40% {\n",
              "      border-color: transparent;\n",
              "      border-right-color: var(--fill-color);\n",
              "      border-top-color: var(--fill-color);\n",
              "    }\n",
              "    60% {\n",
              "      border-color: transparent;\n",
              "      border-right-color: var(--fill-color);\n",
              "    }\n",
              "    80% {\n",
              "      border-color: transparent;\n",
              "      border-right-color: var(--fill-color);\n",
              "      border-bottom-color: var(--fill-color);\n",
              "    }\n",
              "    90% {\n",
              "      border-color: transparent;\n",
              "      border-bottom-color: var(--fill-color);\n",
              "    }\n",
              "  }\n",
              "</style>\n",
              "\n",
              "  <script>\n",
              "    async function quickchart(key) {\n",
              "      const quickchartButtonEl =\n",
              "        document.querySelector('#' + key + ' button');\n",
              "      quickchartButtonEl.disabled = true;  // To prevent multiple clicks.\n",
              "      quickchartButtonEl.classList.add('colab-df-spinner');\n",
              "      try {\n",
              "        const charts = await google.colab.kernel.invokeFunction(\n",
              "            'suggestCharts', [key], {});\n",
              "      } catch (error) {\n",
              "        console.error('Error during call to suggestCharts:', error);\n",
              "      }\n",
              "      quickchartButtonEl.classList.remove('colab-df-spinner');\n",
              "      quickchartButtonEl.classList.add('colab-df-quickchart-complete');\n",
              "    }\n",
              "    (() => {\n",
              "      let quickchartButtonEl =\n",
              "        document.querySelector('#df-bb43cbce-0f18-449a-9580-a2e84d99609a button');\n",
              "      quickchartButtonEl.style.display =\n",
              "        google.colab.kernel.accessAllowed ? 'block' : 'none';\n",
              "    })();\n",
              "  </script>\n",
              "</div>\n",
              "    </div>\n",
              "  </div>\n"
            ],
            "application/vnd.google.colaboratory.intrinsic+json": {
              "type": "dataframe",
              "variable_name": "data",
              "summary": "{\n  \"name\": \"data\",\n  \"rows\": 22000,\n  \"fields\": [\n    {\n      \"column\": \"country\",\n      \"properties\": {\n        \"dtype\": \"category\",\n        \"num_unique_values\": 1,\n        \"samples\": [\n          \"United States of America\"\n        ],\n        \"semantic_type\": \"\",\n        \"description\": \"\"\n      }\n    },\n    {\n      \"column\": \"country_code\",\n      \"properties\": {\n        \"dtype\": \"category\",\n        \"num_unique_values\": 1,\n        \"samples\": [\n          \"US\"\n        ],\n        \"semantic_type\": \"\",\n        \"description\": \"\"\n      }\n    },\n    {\n      \"column\": \"date_added\",\n      \"properties\": {\n        \"dtype\": \"date\",\n        \"min\": \"2016-02-29 00:00:00\",\n        \"max\": \"2017-01-16 00:00:00\",\n        \"num_unique_values\": 78,\n        \"samples\": [\n          \"4/7/2016\"\n        ],\n        \"semantic_type\": \"\",\n        \"description\": \"\"\n      }\n    },\n    {\n      \"column\": \"has_expired\",\n      \"properties\": {\n        \"dtype\": \"category\",\n        \"num_unique_values\": 1,\n        \"samples\": [\n          \"No\"\n        ],\n        \"semantic_type\": \"\",\n        \"description\": \"\"\n      }\n    },\n    {\n      \"column\": \"job_board\",\n      \"properties\": {\n        \"dtype\": \"category\",\n        \"num_unique_values\": 1,\n        \"samples\": [\n          \"jobs.monster.com\"\n        ],\n        \"semantic_type\": \"\",\n        \"description\": \"\"\n      }\n    },\n    {\n      \"column\": \"job_description\",\n      \"properties\": {\n        \"dtype\": \"string\",\n        \"num_unique_values\": 18744,\n        \"samples\": [\n          \"A Direct Hire Debt Finance Associate Job is now available through Parker + Lynch in the Los Angeles, CA area! \\u00a0If you have one or more years of debt finance experience at a large firm, then this could be an ideal position for you. This is a fantastic opportunity to work for a notable law firm! \\u00a0Qualifications: At least one year of experience in either: structuring, documentation and negotiation of secured and unsecured financing transactions for both borrowers and lenders, including senior, mezzanine and subordinated debt transactions; acquisition financings; and loan workouts.Transferable M&A and leveraged finance skillsExcellent academics and a J.D. from a top-tier law school preferredCA bar preferred, but not required \\u00a0If you are interested in the Direct Hire Debt Finance Associate Job in the Los Angeles, California area offered through Parker + Lynch, please apply below. If you are interested in other legal positions in the Los Angeles area, you can go to our website to look at job opportunities.** Please ensure your resume includes the name and phone number of two professional references who we are authorized to call.\\u00a0\"\n        ],\n        \"semantic_type\": \"\",\n        \"description\": \"\"\n      }\n    },\n    {\n      \"column\": \"job_title\",\n      \"properties\": {\n        \"dtype\": \"string\",\n        \"num_unique_values\": 18759,\n        \"samples\": [\n          \"Financial Auditor II Job in Framingham\"\n        ],\n        \"semantic_type\": \"\",\n        \"description\": \"\"\n      }\n    },\n    {\n      \"column\": \"job_type\",\n      \"properties\": {\n        \"dtype\": \"category\",\n        \"num_unique_values\": 39,\n        \"samples\": [\n          \"Per Diem, Temporary/Contract/Project\"\n        ],\n        \"semantic_type\": \"\",\n        \"description\": \"\"\n      }\n    },\n    {\n      \"column\": \"location\",\n      \"properties\": {\n        \"dtype\": \"category\",\n        \"num_unique_values\": 8423,\n        \"samples\": [\n          \"Casper, WY 82602\"\n        ],\n        \"semantic_type\": \"\",\n        \"description\": \"\"\n      }\n    },\n    {\n      \"column\": \"organization\",\n      \"properties\": {\n        \"dtype\": \"category\",\n        \"num_unique_values\": 738,\n        \"samples\": [\n          \"Consumer Packaged Goods Manufacturing; Manufacturing - Other; Food and Beverage Production\"\n        ],\n        \"semantic_type\": \"\",\n        \"description\": \"\"\n      }\n    },\n    {\n      \"column\": \"page_url\",\n      \"properties\": {\n        \"dtype\": \"string\",\n        \"num_unique_values\": 22000,\n        \"samples\": [\n          \"http://jobview.monster.com/Quality-Control-Lead-Job-Santa-Cruz-CA-US-164370398.aspx?mescoid=1900306001001&jobPosition=19\"\n        ],\n        \"semantic_type\": \"\",\n        \"description\": \"\"\n      }\n    },\n    {\n      \"column\": \"salary\",\n      \"properties\": {\n        \"dtype\": \"category\",\n        \"num_unique_values\": 1737,\n        \"samples\": [\n          \"95,000.00 - 125,000.00 $ /year\"\n        ],\n        \"semantic_type\": \"\",\n        \"description\": \"\"\n      }\n    },\n    {\n      \"column\": \"sector\",\n      \"properties\": {\n        \"dtype\": \"category\",\n        \"num_unique_values\": 163,\n        \"samples\": [\n          \"Equipment Install/Maintain/RepairFacilities Management/MaintenanceGeneral/Other: Installation/Maintenance/Repair\"\n        ],\n        \"semantic_type\": \"\",\n        \"description\": \"\"\n      }\n    },\n    {\n      \"column\": \"uniq_id\",\n      \"properties\": {\n        \"dtype\": \"string\",\n        \"num_unique_values\": 22000,\n        \"samples\": [\n          \"c44af81ceb38d2b6fe00baf15d0dffe6\"\n        ],\n        \"semantic_type\": \"\",\n        \"description\": \"\"\n      }\n    }\n  ]\n}"
            }
          },
          "metadata": {},
          "execution_count": 2
        }
      ]
    },
    {
      "cell_type": "code",
      "source": [
        "data.info()"
      ],
      "metadata": {
        "id": "Jg2-YRnxOmwi",
        "outputId": "4ca496ea-0d0f-46ef-bf34-398019df7bb8",
        "colab": {
          "base_uri": "https://localhost:8080/"
        }
      },
      "execution_count": 3,
      "outputs": [
        {
          "output_type": "stream",
          "name": "stdout",
          "text": [
            "<class 'pandas.core.frame.DataFrame'>\n",
            "RangeIndex: 22000 entries, 0 to 21999\n",
            "Data columns (total 14 columns):\n",
            " #   Column           Non-Null Count  Dtype \n",
            "---  ------           --------------  ----- \n",
            " 0   country          22000 non-null  object\n",
            " 1   country_code     22000 non-null  object\n",
            " 2   date_added       122 non-null    object\n",
            " 3   has_expired      22000 non-null  object\n",
            " 4   job_board        22000 non-null  object\n",
            " 5   job_description  22000 non-null  object\n",
            " 6   job_title        22000 non-null  object\n",
            " 7   job_type         20372 non-null  object\n",
            " 8   location         22000 non-null  object\n",
            " 9   organization     15133 non-null  object\n",
            " 10  page_url         22000 non-null  object\n",
            " 11  salary           3446 non-null   object\n",
            " 12  sector           16806 non-null  object\n",
            " 13  uniq_id          22000 non-null  object\n",
            "dtypes: object(14)\n",
            "memory usage: 2.3+ MB\n"
          ]
        }
      ]
    },
    {
      "cell_type": "code",
      "source": [
        "data.nunique()"
      ],
      "metadata": {
        "id": "DreH-1FmPlWM",
        "outputId": "48f140ce-ff65-479d-8856-b58979d872e6",
        "colab": {
          "base_uri": "https://localhost:8080/",
          "height": 523
        }
      },
      "execution_count": 4,
      "outputs": [
        {
          "output_type": "execute_result",
          "data": {
            "text/plain": [
              "country                1\n",
              "country_code           1\n",
              "date_added            78\n",
              "has_expired            1\n",
              "job_board              1\n",
              "job_description    18744\n",
              "job_title          18759\n",
              "job_type              39\n",
              "location            8423\n",
              "organization         738\n",
              "page_url           22000\n",
              "salary              1737\n",
              "sector               163\n",
              "uniq_id            22000\n",
              "dtype: int64"
            ],
            "text/html": [
              "<div>\n",
              "<style scoped>\n",
              "    .dataframe tbody tr th:only-of-type {\n",
              "        vertical-align: middle;\n",
              "    }\n",
              "\n",
              "    .dataframe tbody tr th {\n",
              "        vertical-align: top;\n",
              "    }\n",
              "\n",
              "    .dataframe thead th {\n",
              "        text-align: right;\n",
              "    }\n",
              "</style>\n",
              "<table border=\"1\" class=\"dataframe\">\n",
              "  <thead>\n",
              "    <tr style=\"text-align: right;\">\n",
              "      <th></th>\n",
              "      <th>0</th>\n",
              "    </tr>\n",
              "  </thead>\n",
              "  <tbody>\n",
              "    <tr>\n",
              "      <th>country</th>\n",
              "      <td>1</td>\n",
              "    </tr>\n",
              "    <tr>\n",
              "      <th>country_code</th>\n",
              "      <td>1</td>\n",
              "    </tr>\n",
              "    <tr>\n",
              "      <th>date_added</th>\n",
              "      <td>78</td>\n",
              "    </tr>\n",
              "    <tr>\n",
              "      <th>has_expired</th>\n",
              "      <td>1</td>\n",
              "    </tr>\n",
              "    <tr>\n",
              "      <th>job_board</th>\n",
              "      <td>1</td>\n",
              "    </tr>\n",
              "    <tr>\n",
              "      <th>job_description</th>\n",
              "      <td>18744</td>\n",
              "    </tr>\n",
              "    <tr>\n",
              "      <th>job_title</th>\n",
              "      <td>18759</td>\n",
              "    </tr>\n",
              "    <tr>\n",
              "      <th>job_type</th>\n",
              "      <td>39</td>\n",
              "    </tr>\n",
              "    <tr>\n",
              "      <th>location</th>\n",
              "      <td>8423</td>\n",
              "    </tr>\n",
              "    <tr>\n",
              "      <th>organization</th>\n",
              "      <td>738</td>\n",
              "    </tr>\n",
              "    <tr>\n",
              "      <th>page_url</th>\n",
              "      <td>22000</td>\n",
              "    </tr>\n",
              "    <tr>\n",
              "      <th>salary</th>\n",
              "      <td>1737</td>\n",
              "    </tr>\n",
              "    <tr>\n",
              "      <th>sector</th>\n",
              "      <td>163</td>\n",
              "    </tr>\n",
              "    <tr>\n",
              "      <th>uniq_id</th>\n",
              "      <td>22000</td>\n",
              "    </tr>\n",
              "  </tbody>\n",
              "</table>\n",
              "</div><br><label><b>dtype:</b> int64</label>"
            ]
          },
          "metadata": {},
          "execution_count": 4
        }
      ]
    },
    {
      "cell_type": "markdown",
      "source": [
        "**Задание**\n",
        "\n",
        "Составьте таблицу, в которой будет содержаться название столбца, тип данных в нем и краткое описание проблем, которые вы заметили при первом взгляде на данные.\n",
        "\n",
        "\n",
        "Название столбца | Тип данных | Проблемы\n",
        "--- | --- | ---\n",
        "```country``` | ```object``` | Столбец бесполезен, так как его значение для всех строк одинаковое\n",
        "```country_code``` | ```object``` | Столбец бесполезен, так как его значение для всех строк одинаковое\n",
        "```date_added``` | ```object``` | Огромное количество NaN-значение, также неверный тип данных (должен быть datetime64)\n",
        "```has_expired``` | ```object``` | Столбец бесполезен, так как его значение для всех строк одинаковое, также неверный тип данных (должен быть bool)\n",
        "```job_board``` | ```object``` | Столбец бесполезен, так как его значение для всех строк одинаковое\n",
        "```job_description``` | ```object``` | Слишком длинное описание\n",
        "```job_title``` | ```object``` | С первого взгляда, всё нормально\n",
        "```job_type``` | ```object``` | Есть нулевые значения\n",
        "```location``` | ```object``` | С первого взгляда, всё нормально\n",
        "```organization``` | ```object``` | Есть нулевые значения\n",
        "```page_url``` | ```object``` | С первого взгляда, всё нормально\n",
        "```salary``` | ```object``` | Много нулевых значений, также неверный тип данных (должен быть int64)\n",
        "```sector``` | ```object``` | Есть нулевые значения\n",
        "```uniq_id``` | ```object``` | С первого взгляда, всё нормально"
      ],
      "metadata": {
        "id": "YLByumEvRyO2"
      }
    },
    {
      "cell_type": "markdown",
      "source": [
        "### Оценка пустых ячеек в датасете"
      ],
      "metadata": {
        "id": "iUV-fNE6Js4w"
      }
    },
    {
      "cell_type": "markdown",
      "source": [
        "Выясните, в каких столбцах, строках и в каком количестве отсутствуют данные:\n",
        "1. С помощью модуля `pandas` составьте таблицу, где каждому названию столбца будет сопоставлено общее количество ячеек и количество пустых ячеек.\n",
        "2. Подсчитайте количество строк датасета, в которых пустыми являются более 75% ячеек.\n",
        "3. Визуализируйте число пропусков в датасете с помощью модуля, построив столбчатую диаграмму. Для удобства можно воспользоваться модулем `missingno`.\n"
      ],
      "metadata": {
        "id": "qMPChGv8SO2a"
      }
    },
    {
      "cell_type": "code",
      "source": [
        "data_null = pd.DataFrame({'Columns': data.columns, 'Quantity': len(data), 'Quantity_null': data.isna().sum(), 'Percent': data.isna().sum()/len(data)})\n",
        "print(data_null)\n",
        "msno.matrix(data, figsize=(10, 6), color=(0.25, 0.25, 0.25))"
      ],
      "metadata": {
        "id": "D0dHrjUYHl9f",
        "outputId": "c0883ccb-87ea-41bb-8424-7e09851f6999",
        "colab": {
          "base_uri": "https://localhost:8080/",
          "height": 938
        }
      },
      "execution_count": 5,
      "outputs": [
        {
          "output_type": "stream",
          "name": "stdout",
          "text": [
            "                         Columns  Quantity  Quantity_null   Percent\n",
            "country                  country     22000              0  0.000000\n",
            "country_code        country_code     22000              0  0.000000\n",
            "date_added            date_added     22000          21878  0.994455\n",
            "has_expired          has_expired     22000              0  0.000000\n",
            "job_board              job_board     22000              0  0.000000\n",
            "job_description  job_description     22000              0  0.000000\n",
            "job_title              job_title     22000              0  0.000000\n",
            "job_type                job_type     22000           1628  0.074000\n",
            "location                location     22000              0  0.000000\n",
            "organization        organization     22000           6867  0.312136\n",
            "page_url                page_url     22000              0  0.000000\n",
            "salary                    salary     22000          18554  0.843364\n",
            "sector                    sector     22000           5194  0.236091\n",
            "uniq_id                  uniq_id     22000              0  0.000000\n"
          ]
        },
        {
          "output_type": "execute_result",
          "data": {
            "text/plain": [
              "<Axes: >"
            ]
          },
          "metadata": {},
          "execution_count": 5
        },
        {
          "output_type": "display_data",
          "data": {
            "text/plain": [
              "<Figure size 1000x600 with 2 Axes>"
            ],
            "image/png": "[encoded data removed]"
          },
          "metadata": {}
        }
      ]
    },
    {
      "cell_type": "markdown",
      "source": [
        "Проверьте, как изменится размер датасета, если принять решение удалить все строки, где есть пустые значения. Сделайте выводы."
      ],
      "metadata": {
        "id": "7_wex_yPS2t_"
      }
    },
    {
      "cell_type": "code",
      "source": [
        "clear_data = data.dropna()\n",
        "len(clear_data)"
      ],
      "metadata": {
        "id": "H2anBRV8NezM",
        "outputId": "0540b3d7-585a-4a10-8fd2-1d4871b28583",
        "colab": {
          "base_uri": "https://localhost:8080/"
        }
      },
      "execution_count": 6,
      "outputs": [
        {
          "output_type": "execute_result",
          "data": {
            "text/plain": [
              "5"
            ]
          },
          "metadata": {},
          "execution_count": 6
        }
      ]
    },
    {
      "cell_type": "markdown",
      "source": [
        "### Первичная оценка данных в столбцах"
      ],
      "metadata": {
        "id": "msyy7idiKbax"
      }
    },
    {
      "cell_type": "markdown",
      "source": [
        "Изучите данные в столбцах датасета, ответив на следующие вопросы:\n",
        "1. Есть ли столбцы, в которых встречается всего одно значение? Как их можно использовать в анализе?\n",
        "2. Есть ли такие значения, которые встречаются более чем в одном столбце?\n",
        "3. Есть ли столбцы, данные в которых не соответствуют названию столбца?"
      ],
      "metadata": {
        "id": "1Vx9OuX_TcVy"
      }
    },
    {
      "cell_type": "code",
      "source": [
        "for col in data.columns:\n",
        "    print(f\"Столбец: {col}\")\n",
        "    print(data[col].dropna().apply(type).value_counts(), \"\\n\")"
      ],
      "metadata": {
        "id": "GJiwpAMNodOP",
        "outputId": "29adf321-1d3e-49db-f7ec-673ce0005639",
        "colab": {
          "base_uri": "https://localhost:8080/"
        }
      },
      "execution_count": 7,
      "outputs": [
        {
          "output_type": "stream",
          "name": "stdout",
          "text": [
            "Столбец: country\n",
            "country\n",
            "<class 'str'>    22000\n",
            "Name: count, dtype: int64 \n",
            "\n",
            "Столбец: country_code\n",
            "country_code\n",
            "<class 'str'>    22000\n",
            "Name: count, dtype: int64 \n",
            "\n",
            "Столбец: date_added\n",
            "date_added\n",
            "<class 'str'>    122\n",
            "Name: count, dtype: int64 \n",
            "\n",
            "Столбец: has_expired\n",
            "has_expired\n",
            "<class 'str'>    22000\n",
            "Name: count, dtype: int64 \n",
            "\n",
            "Столбец: job_board\n",
            "job_board\n",
            "<class 'str'>    22000\n",
            "Name: count, dtype: int64 \n",
            "\n",
            "Столбец: job_description\n",
            "job_description\n",
            "<class 'str'>    22000\n",
            "Name: count, dtype: int64 \n",
            "\n",
            "Столбец: job_title\n",
            "job_title\n",
            "<class 'str'>    22000\n",
            "Name: count, dtype: int64 \n",
            "\n",
            "Столбец: job_type\n",
            "job_type\n",
            "<class 'str'>    20372\n",
            "Name: count, dtype: int64 \n",
            "\n",
            "Столбец: location\n",
            "location\n",
            "<class 'str'>    22000\n",
            "Name: count, dtype: int64 \n",
            "\n",
            "Столбец: organization\n",
            "organization\n",
            "<class 'str'>    15133\n",
            "Name: count, dtype: int64 \n",
            "\n",
            "Столбец: page_url\n",
            "page_url\n",
            "<class 'str'>    22000\n",
            "Name: count, dtype: int64 \n",
            "\n",
            "Столбец: salary\n",
            "salary\n",
            "<class 'str'>    3446\n",
            "Name: count, dtype: int64 \n",
            "\n",
            "Столбец: sector\n",
            "sector\n",
            "<class 'str'>    16806\n",
            "Name: count, dtype: int64 \n",
            "\n",
            "Столбец: uniq_id\n",
            "uniq_id\n",
            "<class 'str'>    22000\n",
            "Name: count, dtype: int64 \n",
            "\n"
          ]
        }
      ]
    },
    {
      "cell_type": "code",
      "source": [
        "#В date_added тип данных str вместо date\n",
        "#В has_expired тип данных str вместо bool\n",
        "#В salary тип данных str вместо int (float)"
      ],
      "metadata": {
        "id": "xjooS9ecqUV_"
      },
      "execution_count": null,
      "outputs": []
    },
    {
      "cell_type": "markdown",
      "source": [
        "### Дублирование данных"
      ],
      "metadata": {
        "id": "AnlzCkfNL9Zp"
      }
    },
    {
      "cell_type": "markdown",
      "source": [
        "Для поиска дублирующихся строк выполните следующие действия:\n",
        "1. В таблице есть столбец `uniq_id`, значения которого, как сказано в описании данных, являются уникальными идентификаторами записей. Проверьте, действительно ли в этом столбце все значения различны.\n",
        "2. Проверьте, есть ли в таблице другие столбцы, значения которых в каждой строке различны.\n",
        "3. Если игнорировать столбцы, где все значения различны, найдутся ли такие строки, для которых значения по всем остальным столбцам будут совпадать?\n",
        "\n",
        "Оцените результаты поиска дубликатов."
      ],
      "metadata": {
        "id": "o5ee6oWjUPrt"
      }
    },
    {
      "cell_type": "code",
      "source": [
        "data.nunique()"
      ],
      "metadata": {
        "id": "xdOZaPBXNO-4",
        "outputId": "3a9c74bd-a00a-435b-ba59-6f16f55b17fe",
        "colab": {
          "base_uri": "https://localhost:8080/",
          "height": 523
        }
      },
      "execution_count": 8,
      "outputs": [
        {
          "output_type": "execute_result",
          "data": {
            "text/plain": [
              "country                1\n",
              "country_code           1\n",
              "date_added            78\n",
              "has_expired            1\n",
              "job_board              1\n",
              "job_description    18744\n",
              "job_title          18759\n",
              "job_type              39\n",
              "location            8423\n",
              "organization         738\n",
              "page_url           22000\n",
              "salary              1737\n",
              "sector               163\n",
              "uniq_id            22000\n",
              "dtype: int64"
            ],
            "text/html": [
              "<div>\n",
              "<style scoped>\n",
              "    .dataframe tbody tr th:only-of-type {\n",
              "        vertical-align: middle;\n",
              "    }\n",
              "\n",
              "    .dataframe tbody tr th {\n",
              "        vertical-align: top;\n",
              "    }\n",
              "\n",
              "    .dataframe thead th {\n",
              "        text-align: right;\n",
              "    }\n",
              "</style>\n",
              "<table border=\"1\" class=\"dataframe\">\n",
              "  <thead>\n",
              "    <tr style=\"text-align: right;\">\n",
              "      <th></th>\n",
              "      <th>0</th>\n",
              "    </tr>\n",
              "  </thead>\n",
              "  <tbody>\n",
              "    <tr>\n",
              "      <th>country</th>\n",
              "      <td>1</td>\n",
              "    </tr>\n",
              "    <tr>\n",
              "      <th>country_code</th>\n",
              "      <td>1</td>\n",
              "    </tr>\n",
              "    <tr>\n",
              "      <th>date_added</th>\n",
              "      <td>78</td>\n",
              "    </tr>\n",
              "    <tr>\n",
              "      <th>has_expired</th>\n",
              "      <td>1</td>\n",
              "    </tr>\n",
              "    <tr>\n",
              "      <th>job_board</th>\n",
              "      <td>1</td>\n",
              "    </tr>\n",
              "    <tr>\n",
              "      <th>job_description</th>\n",
              "      <td>18744</td>\n",
              "    </tr>\n",
              "    <tr>\n",
              "      <th>job_title</th>\n",
              "      <td>18759</td>\n",
              "    </tr>\n",
              "    <tr>\n",
              "      <th>job_type</th>\n",
              "      <td>39</td>\n",
              "    </tr>\n",
              "    <tr>\n",
              "      <th>location</th>\n",
              "      <td>8423</td>\n",
              "    </tr>\n",
              "    <tr>\n",
              "      <th>organization</th>\n",
              "      <td>738</td>\n",
              "    </tr>\n",
              "    <tr>\n",
              "      <th>page_url</th>\n",
              "      <td>22000</td>\n",
              "    </tr>\n",
              "    <tr>\n",
              "      <th>salary</th>\n",
              "      <td>1737</td>\n",
              "    </tr>\n",
              "    <tr>\n",
              "      <th>sector</th>\n",
              "      <td>163</td>\n",
              "    </tr>\n",
              "    <tr>\n",
              "      <th>uniq_id</th>\n",
              "      <td>22000</td>\n",
              "    </tr>\n",
              "  </tbody>\n",
              "</table>\n",
              "</div><br><label><b>dtype:</b> int64</label>"
            ]
          },
          "metadata": {},
          "execution_count": 8
        }
      ]
    },
    {
      "cell_type": "code",
      "source": [
        "data = data.drop(columns=['page_url', 'uniq_id']).drop_duplicates()\n",
        "data.info()"
      ],
      "metadata": {
        "id": "vWra6z2ZtsiH",
        "outputId": "69ced206-dcfd-4243-8bc4-127defbb3f51",
        "colab": {
          "base_uri": "https://localhost:8080/"
        }
      },
      "execution_count": 9,
      "outputs": [
        {
          "output_type": "stream",
          "name": "stdout",
          "text": [
            "<class 'pandas.core.frame.DataFrame'>\n",
            "Index: 20832 entries, 0 to 21999\n",
            "Data columns (total 12 columns):\n",
            " #   Column           Non-Null Count  Dtype \n",
            "---  ------           --------------  ----- \n",
            " 0   country          20832 non-null  object\n",
            " 1   country_code     20832 non-null  object\n",
            " 2   date_added       119 non-null    object\n",
            " 3   has_expired      20832 non-null  object\n",
            " 4   job_board        20832 non-null  object\n",
            " 5   job_description  20832 non-null  object\n",
            " 6   job_title        20832 non-null  object\n",
            " 7   job_type         19311 non-null  object\n",
            " 8   location         20832 non-null  object\n",
            " 9   organization     14227 non-null  object\n",
            " 10  salary           3299 non-null   object\n",
            " 11  sector           15909 non-null  object\n",
            "dtypes: object(12)\n",
            "memory usage: 2.1+ MB\n"
          ]
        }
      ]
    },
    {
      "cell_type": "markdown",
      "source": [
        "# Практические задания"
      ],
      "metadata": {
        "id": "KfnT9b7KkbGV"
      }
    },
    {
      "cell_type": "markdown",
      "source": [
        "В этом разделе необходимо обработать значения в трех столбцах датасета: `location`, `salary` и `job_type`. Цель обработки – стандартизировать данные в каждом из столбцов так, чтобы их можно было анализировать."
      ],
      "metadata": {
        "id": "mLi_dNBw7vYH"
      }
    },
    {
      "cell_type": "markdown",
      "source": [
        "### Задание 1\n",
        "\n",
        "В задании 1 необходимо провести обработку столбца `location`."
      ],
      "metadata": {
        "id": "bysSIV-E6Qo2"
      }
    },
    {
      "cell_type": "markdown",
      "source": [
        "#### Задание 1.1\n",
        "\n",
        "В столбце `location` представлена информация о местоположении организации, в которой открыта вакансия. Каждое значение столбца `location` содержит информацию о городе, коде штата и почтовом индексе.\n",
        "\n",
        "Однако не в каждой строке есть все три характеристики местоположения, а также могут встречаться разные комбинации из них, записанные в виде строки в произвольном порядке и с разными разделителями.\n",
        "\n",
        "Например, может быть указан только код штата, только название города или только индекс. Могут быть указаны любые две характеристики из трех.\n",
        "\n",
        "**Формулировка задания:**\n",
        "1. Определите, какие форматы встречаются.\n",
        "2. Напишите одно или несколько регулярных выражений для поиска выявленных форматов.\n",
        "3. Визуализируйте количество найденных форматов на столбчатой или круговой диаграмме. Также покажите на ней количество строк, в которых формат определить не удалось. Какие форматы встречаются чаще всего?\n",
        "\n",
        "Ознакомиться с теоретическим материалом по работе с регулярными выражениями можно [по ссылке](https://colab.research.google.com/drive/1eFHdmt9OROLEDJRNc2wNmz0gpE1O3sKU?usp=sharing)."
      ],
      "metadata": {
        "id": "XFGxe_V0-RJH"
      }
    },
    {
      "cell_type": "code",
      "source": [
        "patterns = {\n",
        "    'city_state_zip': r'^([\\w\\s]+),\\s*(\\w{2})\\s*(\\d{5})$',\n",
        "    'city_state': r'^([\\w\\s]+),\\s*(\\w{2})$',\n",
        "    'city_zip': r'^([\\w\\s]+)\\s*(\\d{5})$',\n",
        "    'state_zip': r'^(\\w{2})\\s*(\\d{5})$',\n",
        "    'only_city': r'^([\\w\\s]+)$',\n",
        "    'only_state': r'^(\\w{2})$',\n",
        "    'only_zip': r'^(\\d{5})$'\n",
        "}\n",
        "\n",
        "data['format'] = ''\n",
        "\n",
        "for index, row in data.iterrows():\n",
        "    for format_name, pattern in patterns.items():\n",
        "        match = re.match(pattern, row['location'])\n",
        "        if match:\n",
        "            data.at[index, 'format'] = format_name\n",
        "            break\n",
        "    else:\n",
        "        data.at[index, 'format'] = 'unknown'\n",
        "format_counts = data['format'].value_counts()\n",
        "print(format_counts)"
      ],
      "metadata": {
        "id": "cn1chn2Y7MFK",
        "colab": {
          "base_uri": "https://localhost:8080/"
        },
        "outputId": "58e0be7a-480a-453d-963b-708c94fb3b55"
      },
      "execution_count": 10,
      "outputs": [
        {
          "output_type": "stream",
          "name": "stdout",
          "text": [
            "format\n",
            "city_state_zip    10941\n",
            "city_state         6590\n",
            "unknown            1811\n",
            "only_city          1145\n",
            "city_zip            345\n",
            "Name: count, dtype: int64\n"
          ]
        }
      ]
    },
    {
      "cell_type": "code",
      "source": [
        "unknown_rows = data[data['format'] == 'unknown']\n",
        "print(unknown_rows.head())"
      ],
      "metadata": {
        "colab": {
          "base_uri": "https://localhost:8080/"
        },
        "id": "9Ky8W6FzxpXI",
        "outputId": "94c321db-c5ef-4f0a-9205-1021cc7cffdc"
      },
      "execution_count": 11,
      "outputs": [
        {
          "output_type": "stream",
          "name": "stdout",
          "text": [
            "                     country country_code date_added has_expired  \\\n",
            "2   United States of America           US        NaN          No   \n",
            "29  United States of America           US        NaN          No   \n",
            "36  United States of America           US        NaN          No   \n",
            "38  United States of America           US        NaN          No   \n",
            "45  United States of America           US        NaN          No   \n",
            "\n",
            "           job_board                                    job_description  \\\n",
            "2   jobs.monster.com  Report this job About the Job DePuy Synthes Co...   \n",
            "29  jobs.monster.com  Experis is working with a Pharmaceutical start...   \n",
            "36  jobs.monster.com  POSITION TITLE: RF System Technician, Field Se...   \n",
            "38  jobs.monster.com  **MUST be able to work as a W2 employee for AN...   \n",
            "45  jobs.monster.com  Respiratory Therapist PRN Nights - Kindred Hos...   \n",
            "\n",
            "                                            job_title  \\\n",
            "2   Johnson & Johnson Family of Companies Job Appl...   \n",
            "29                               Sr. Process Engineer   \n",
            "36                               RF System Technician   \n",
            "38  Bi-Lingual Editorial Strategist Job in San Fra...   \n",
            "45  Respiratory Therapist PRN Nights - Kindred Hos...   \n",
            "\n",
            "                                job_type  \\\n",
            "2                    Full Time, Employee   \n",
            "29                    Full Time Employee   \n",
            "36  Full Time Temporary/Contract/Project   \n",
            "38  Full Time Temporary/Contract/Project   \n",
            "45                   Full Time, Employee   \n",
            "\n",
            "                                             location  \\\n",
            "2   DePuy Synthes Companies is a member of Johnson...   \n",
            "29                Sr. Process Engineer, Manufacturing   \n",
            "36                RF System Technician, Field Service   \n",
            "38                    Bi-Lingual Editorial Strategist   \n",
            "45  Respiratory Therapist PRN Nights - Kindred Hos...   \n",
            "\n",
            "                       organization                          salary  \\\n",
            "2   Personal and Household Services                             NaN   \n",
            "29                      Chicago, IL  70,000.00 - 100,000.00 $ /year   \n",
            "36                Oklahoma City, OK   68,000.00 - 72,000.00 $ /year   \n",
            "38                San Francisco, CA                             NaN   \n",
            "45              Healthcare Services                             NaN   \n",
            "\n",
            "               sector   format  \n",
            "2                 NaN  unknown  \n",
            "29        Engineering  unknown  \n",
            "36        Engineering  unknown  \n",
            "38  Editorial/Writing  unknown  \n",
            "45     Medical/Health  unknown  \n"
          ]
        }
      ]
    },
    {
      "cell_type": "code",
      "source": [
        "plt.figure(figsize=(10, 6))\n",
        "plt.bar(format_counts.index, format_counts.values)\n",
        "plt.title('Распределение форматов в столбце Location')\n",
        "plt.xlabel('Форматы')\n",
        "plt.ylabel('Частота встречаемости')\n",
        "plt.show()"
      ],
      "metadata": {
        "colab": {
          "base_uri": "https://localhost:8080/",
          "height": 564
        },
        "id": "z7z6TkR0zEkq",
        "outputId": "90872c08-e3f0-4011-f85a-f58a0141541e"
      },
      "execution_count": 12,
      "outputs": [
        {
          "output_type": "display_data",
          "data": {
            "text/plain": [
              "<Figure size 1000x600 with 1 Axes>"
            ],
            "image/png": "[encoded data removed]"
          },
          "metadata": {}
        }
      ]
    },
    {
      "cell_type": "markdown",
      "source": [
        "#### Задание 1.2\n",
        "\n",
        "В большей части строк удалось извлечь данные из ячейки столбца `location`, но остались и такие, где это не получилось. Вынесите в отдельный датасет записи, в которых не удалось определить формат записи информации о местоположении.\n",
        "\n",
        "Над оставшимися строками проведите следующие преобразования:\n",
        "1. Данные о местоположении разделите на 3 столбца: город, код штата, почтовый индекс.\n",
        "2. Так как значения в столбце `почтовый индекс` являются пятизначными числами, преобразуйте их в целочисленный формат."
      ],
      "metadata": {
        "id": "F3U7JkFM_OvP"
      }
    },
    {
      "cell_type": "code",
      "source": [
        "extracted_data = pd.DataFrame(index=data.index, columns=['city', 'state', 'zip_code'])\n",
        "for index, row in data.iterrows():\n",
        "    for pattern_name, pattern in patterns.items():\n",
        "        match = re.match(pattern, row['location'])\n",
        "        if match:\n",
        "            groups = match.groups()\n",
        "            extracted_data.loc[index, 'city'] = groups[0] if len(groups) > 0 else None\n",
        "            extracted_data.loc[index, 'state'] = groups[1] if len(groups) > 1 else None\n",
        "            extracted_data.loc[index, 'zip_code'] = groups[2] if len(groups) > 2 else None\n",
        "            break\n",
        "extracted_data['zip_code'] = pd.to_numeric(extracted_data['zip_code'], errors='coerce').astype('Int32')\n",
        "data[['city', 'state', 'zip_code']] = extracted_data\n",
        "data.head()"
      ],
      "metadata": {
        "id": "Jhfk2VbV86Wi",
        "colab": {
          "base_uri": "https://localhost:8080/",
          "height": 521
        },
        "outputId": "93ea2169-3493-498e-9d34-c325cdad61e7"
      },
      "execution_count": 13,
      "outputs": [
        {
          "output_type": "execute_result",
          "data": {
            "text/plain": [
              "                    country country_code date_added has_expired  \\\n",
              "0  United States of America           US        NaN          No   \n",
              "1  United States of America           US        NaN          No   \n",
              "2  United States of America           US        NaN          No   \n",
              "3  United States of America           US        NaN          No   \n",
              "4  United States of America           US        NaN          No   \n",
              "\n",
              "          job_board                                    job_description  \\\n",
              "0  jobs.monster.com  TeamSoft is seeing an IT Support Specialist to...   \n",
              "1  jobs.monster.com  The Wisconsin State Journal is seeking a flexi...   \n",
              "2  jobs.monster.com  Report this job About the Job DePuy Synthes Co...   \n",
              "3  jobs.monster.com  Why Join Altec? If you’re considering a career...   \n",
              "4  jobs.monster.com  Position ID#  76162 # Positions  1 State  CT C...   \n",
              "\n",
              "                                           job_title             job_type  \\\n",
              "0               IT Support Technician Job in Madison   Full Time Employee   \n",
              "1            Business Reporter/Editor Job in Madison            Full Time   \n",
              "2  Johnson & Johnson Family of Companies Job Appl...  Full Time, Employee   \n",
              "3                    Engineer - Quality Job in Dixon            Full Time   \n",
              "4       Shift Supervisor - Part-Time Job in Camphill   Full Time Employee   \n",
              "\n",
              "                                            location  \\\n",
              "0                                  Madison, WI 53702   \n",
              "1                                  Madison, WI 53708   \n",
              "2  DePuy Synthes Companies is a member of Johnson...   \n",
              "3                                          Dixon, CA   \n",
              "4                                       Camphill, PA   \n",
              "\n",
              "                      organization salary                      sector  \\\n",
              "0                              NaN    NaN     IT/Software Development   \n",
              "1          Printing and Publishing    NaN                         NaN   \n",
              "2  Personal and Household Services    NaN                         NaN   \n",
              "3                 Altec Industries    NaN   Experienced (Non-Manager)   \n",
              "4                           Retail    NaN  Project/Program Management   \n",
              "\n",
              "           format      city state  zip_code  \n",
              "0  city_state_zip   Madison    WI     53702  \n",
              "1  city_state_zip   Madison    WI     53708  \n",
              "2         unknown       NaN   NaN      <NA>  \n",
              "3      city_state     Dixon    CA      <NA>  \n",
              "4      city_state  Camphill    PA      <NA>  "
            ],
            "text/html": [
              "\n",
              "  <div id=\"df-ba998fd1-64d4-44bb-81f7-9e44e169e266\" class=\"colab-df-container\">\n",
              "    <div>\n",
              "<style scoped>\n",
              "    .dataframe tbody tr th:only-of-type {\n",
              "        vertical-align: middle;\n",
              "    }\n",
              "\n",
              "    .dataframe tbody tr th {\n",
              "        vertical-align: top;\n",
              "    }\n",
              "\n",
              "    .dataframe thead th {\n",
              "        text-align: right;\n",
              "    }\n",
              "</style>\n",
              "<table border=\"1\" class=\"dataframe\">\n",
              "  <thead>\n",
              "    <tr style=\"text-align: right;\">\n",
              "      <th></th>\n",
              "      <th>country</th>\n",
              "      <th>country_code</th>\n",
              "      <th>date_added</th>\n",
              "      <th>has_expired</th>\n",
              "      <th>job_board</th>\n",
              "      <th>job_description</th>\n",
              "      <th>job_title</th>\n",
              "      <th>job_type</th>\n",
              "      <th>location</th>\n",
              "      <th>organization</th>\n",
              "      <th>salary</th>\n",
              "      <th>sector</th>\n",
              "      <th>format</th>\n",
              "      <th>city</th>\n",
              "      <th>state</th>\n",
              "      <th>zip_code</th>\n",
              "    </tr>\n",
              "  </thead>\n",
              "  <tbody>\n",
              "    <tr>\n",
              "      <th>0</th>\n",
              "      <td>United States of America</td>\n",
              "      <td>US</td>\n",
              "      <td>NaN</td>\n",
              "      <td>No</td>\n",
              "      <td>jobs.monster.com</td>\n",
              "      <td>TeamSoft is seeing an IT Support Specialist to...</td>\n",
              "      <td>IT Support Technician Job in Madison</td>\n",
              "      <td>Full Time Employee</td>\n",
              "      <td>Madison, WI 53702</td>\n",
              "      <td>NaN</td>\n",
              "      <td>NaN</td>\n",
              "      <td>IT/Software Development</td>\n",
              "      <td>city_state_zip</td>\n",
              "      <td>Madison</td>\n",
              "      <td>WI</td>\n",
              "      <td>53702</td>\n",
              "    </tr>\n",
              "    <tr>\n",
              "      <th>1</th>\n",
              "      <td>United States of America</td>\n",
              "      <td>US</td>\n",
              "      <td>NaN</td>\n",
              "      <td>No</td>\n",
              "      <td>jobs.monster.com</td>\n",
              "      <td>The Wisconsin State Journal is seeking a flexi...</td>\n",
              "      <td>Business Reporter/Editor Job in Madison</td>\n",
              "      <td>Full Time</td>\n",
              "      <td>Madison, WI 53708</td>\n",
              "      <td>Printing and Publishing</td>\n",
              "      <td>NaN</td>\n",
              "      <td>NaN</td>\n",
              "      <td>city_state_zip</td>\n",
              "      <td>Madison</td>\n",
              "      <td>WI</td>\n",
              "      <td>53708</td>\n",
              "    </tr>\n",
              "    <tr>\n",
              "      <th>2</th>\n",
              "      <td>United States of America</td>\n",
              "      <td>US</td>\n",
              "      <td>NaN</td>\n",
              "      <td>No</td>\n",
              "      <td>jobs.monster.com</td>\n",
              "      <td>Report this job About the Job DePuy Synthes Co...</td>\n",
              "      <td>Johnson &amp; Johnson Family of Companies Job Appl...</td>\n",
              "      <td>Full Time, Employee</td>\n",
              "      <td>DePuy Synthes Companies is a member of Johnson...</td>\n",
              "      <td>Personal and Household Services</td>\n",
              "      <td>NaN</td>\n",
              "      <td>NaN</td>\n",
              "      <td>unknown</td>\n",
              "      <td>NaN</td>\n",
              "      <td>NaN</td>\n",
              "      <td>&lt;NA&gt;</td>\n",
              "    </tr>\n",
              "    <tr>\n",
              "      <th>3</th>\n",
              "      <td>United States of America</td>\n",
              "      <td>US</td>\n",
              "      <td>NaN</td>\n",
              "      <td>No</td>\n",
              "      <td>jobs.monster.com</td>\n",
              "      <td>Why Join Altec? If you’re considering a career...</td>\n",
              "      <td>Engineer - Quality Job in Dixon</td>\n",
              "      <td>Full Time</td>\n",
              "      <td>Dixon, CA</td>\n",
              "      <td>Altec Industries</td>\n",
              "      <td>NaN</td>\n",
              "      <td>Experienced (Non-Manager)</td>\n",
              "      <td>city_state</td>\n",
              "      <td>Dixon</td>\n",
              "      <td>CA</td>\n",
              "      <td>&lt;NA&gt;</td>\n",
              "    </tr>\n",
              "    <tr>\n",
              "      <th>4</th>\n",
              "      <td>United States of America</td>\n",
              "      <td>US</td>\n",
              "      <td>NaN</td>\n",
              "      <td>No</td>\n",
              "      <td>jobs.monster.com</td>\n",
              "      <td>Position ID#  76162 # Positions  1 State  CT C...</td>\n",
              "      <td>Shift Supervisor - Part-Time Job in Camphill</td>\n",
              "      <td>Full Time Employee</td>\n",
              "      <td>Camphill, PA</td>\n",
              "      <td>Retail</td>\n",
              "      <td>NaN</td>\n",
              "      <td>Project/Program Management</td>\n",
              "      <td>city_state</td>\n",
              "      <td>Camphill</td>\n",
              "      <td>PA</td>\n",
              "      <td>&lt;NA&gt;</td>\n",
              "    </tr>\n",
              "  </tbody>\n",
              "</table>\n",
              "</div>\n",
              "    <div class=\"colab-df-buttons\">\n",
              "\n",
              "  <div class=\"colab-df-container\">\n",
              "    <button class=\"colab-df-convert\" onclick=\"convertToInteractive('df-ba998fd1-64d4-44bb-81f7-9e44e169e266')\"\n",
              "            title=\"Convert this dataframe to an interactive table.\"\n",
              "            style=\"display:none;\">\n",
              "\n",
              "  <svg xmlns=\"http://www.w3.org/2000/svg\" height=\"24px\" viewBox=\"0 -960 960 960\">\n",
              "    <path d=\"M120-120v-720h720v720H120Zm60-500h600v-160H180v160Zm220 220h160v-160H400v160Zm0 220h160v-160H400v160ZM180-400h160v-160H180v160Zm440 0h160v-160H620v160ZM180-180h160v-160H180v160Zm440 0h160v-160H620v160Z\"/>\n",
              "  </svg>\n",
              "    </button>\n",
              "\n",
              "  <style>\n",
              "    .colab-df-container {\n",
              "      display:flex;\n",
              "      gap: 12px;\n",
              "    }\n",
              "\n",
              "    .colab-df-convert {\n",
              "      background-color: #E8F0FE;\n",
              "      border: none;\n",
              "      border-radius: 50%;\n",
              "      cursor: pointer;\n",
              "      display: none;\n",
              "      fill: #1967D2;\n",
              "      height: 32px;\n",
              "      padding: 0 0 0 0;\n",
              "      width: 32px;\n",
              "    }\n",
              "\n",
              "    .colab-df-convert:hover {\n",
              "      background-color: #E2EBFA;\n",
              "      box-shadow: 0px 1px 2px rgba(60, 64, 67, 0.3), 0px 1px 3px 1px rgba(60, 64, 67, 0.15);\n",
              "      fill: #174EA6;\n",
              "    }\n",
              "\n",
              "    .colab-df-buttons div {\n",
              "      margin-bottom: 4px;\n",
              "    }\n",
              "\n",
              "    [theme=dark] .colab-df-convert {\n",
              "      background-color: #3B4455;\n",
              "      fill: #D2E3FC;\n",
              "    }\n",
              "\n",
              "    [theme=dark] .colab-df-convert:hover {\n",
              "      background-color: #434B5C;\n",
              "      box-shadow: 0px 1px 3px 1px rgba(0, 0, 0, 0.15);\n",
              "      filter: drop-shadow(0px 1px 2px rgba(0, 0, 0, 0.3));\n",
              "      fill: #FFFFFF;\n",
              "    }\n",
              "  </style>\n",
              "\n",
              "    <script>\n",
              "      const buttonEl =\n",
              "        document.querySelector('#df-ba998fd1-64d4-44bb-81f7-9e44e169e266 button.colab-df-convert');\n",
              "      buttonEl.style.display =\n",
              "        google.colab.kernel.accessAllowed ? 'block' : 'none';\n",
              "\n",
              "      async function convertToInteractive(key) {\n",
              "        const element = document.querySelector('#df-ba998fd1-64d4-44bb-81f7-9e44e169e266');\n",
              "        const dataTable =\n",
              "          await google.colab.kernel.invokeFunction('convertToInteractive',\n",
              "                                                    [key], {});\n",
              "        if (!dataTable) return;\n",
              "\n",
              "        const docLinkHtml = 'Like what you see? Visit the ' +\n",
              "          '<a target=\"_blank\" href=https://colab.research.google.com/notebooks/data_table.ipynb>data table notebook</a>'\n",
              "          + ' to learn more about interactive tables.';\n",
              "        element.innerHTML = '';\n",
              "        dataTable['output_type'] = 'display_data';\n",
              "        await google.colab.output.renderOutput(dataTable, element);\n",
              "        const docLink = document.createElement('div');\n",
              "        docLink.innerHTML = docLinkHtml;\n",
              "        element.appendChild(docLink);\n",
              "      }\n",
              "    </script>\n",
              "  </div>\n",
              "\n",
              "\n",
              "<div id=\"df-852eed1b-c159-45c2-b725-3399a6d32efe\">\n",
              "  <button class=\"colab-df-quickchart\" onclick=\"quickchart('df-852eed1b-c159-45c2-b725-3399a6d32efe')\"\n",
              "            title=\"Suggest charts\"\n",
              "            style=\"display:none;\">\n",
              "\n",
              "<svg xmlns=\"http://www.w3.org/2000/svg\" height=\"24px\"viewBox=\"0 0 24 24\"\n",
              "     width=\"24px\">\n",
              "    <g>\n",
              "        <path d=\"M19 3H5c-1.1 0-2 .9-2 2v14c0 1.1.9 2 2 2h14c1.1 0 2-.9 2-2V5c0-1.1-.9-2-2-2zM9 17H7v-7h2v7zm4 0h-2V7h2v10zm4 0h-2v-4h2v4z\"/>\n",
              "    </g>\n",
              "</svg>\n",
              "  </button>\n",
              "\n",
              "<style>\n",
              "  .colab-df-quickchart {\n",
              "      --bg-color: #E8F0FE;\n",
              "      --fill-color: #1967D2;\n",
              "      --hover-bg-color: #E2EBFA;\n",
              "      --hover-fill-color: #174EA6;\n",
              "      --disabled-fill-color: #AAA;\n",
              "      --disabled-bg-color: #DDD;\n",
              "  }\n",
              "\n",
              "  [theme=dark] .colab-df-quickchart {\n",
              "      --bg-color: #3B4455;\n",
              "      --fill-color: #D2E3FC;\n",
              "      --hover-bg-color: #434B5C;\n",
              "      --hover-fill-color: #FFFFFF;\n",
              "      --disabled-bg-color: #3B4455;\n",
              "      --disabled-fill-color: #666;\n",
              "  }\n",
              "\n",
              "  .colab-df-quickchart {\n",
              "    background-color: var(--bg-color);\n",
              "    border: none;\n",
              "    border-radius: 50%;\n",
              "    cursor: pointer;\n",
              "    display: none;\n",
              "    fill: var(--fill-color);\n",
              "    height: 32px;\n",
              "    padding: 0;\n",
              "    width: 32px;\n",
              "  }\n",
              "\n",
              "  .colab-df-quickchart:hover {\n",
              "    background-color: var(--hover-bg-color);\n",
              "    box-shadow: 0 1px 2px rgba(60, 64, 67, 0.3), 0 1px 3px 1px rgba(60, 64, 67, 0.15);\n",
              "    fill: var(--button-hover-fill-color);\n",
              "  }\n",
              "\n",
              "  .colab-df-quickchart-complete:disabled,\n",
              "  .colab-df-quickchart-complete:disabled:hover {\n",
              "    background-color: var(--disabled-bg-color);\n",
              "    fill: var(--disabled-fill-color);\n",
              "    box-shadow: none;\n",
              "  }\n",
              "\n",
              "  .colab-df-spinner {\n",
              "    border: 2px solid var(--fill-color);\n",
              "    border-color: transparent;\n",
              "    border-bottom-color: var(--fill-color);\n",
              "    animation:\n",
              "      spin 1s steps(1) infinite;\n",
              "  }\n",
              "\n",
              "  @keyframes spin {\n",
              "    0% {\n",
              "      border-color: transparent;\n",
              "      border-bottom-color: var(--fill-color);\n",
              "      border-left-color: var(--fill-color);\n",
              "    }\n",
              "    20% {\n",
              "      border-color: transparent;\n",
              "      border-left-color: var(--fill-color);\n",
              "      border-top-color: var(--fill-color);\n",
              "    }\n",
              "    30% {\n",
              "      border-color: transparent;\n",
              "      border-left-color: var(--fill-color);\n",
              "      border-top-color: var(--fill-color);\n",
              "      border-right-color: var(--fill-color);\n",
              "    }\n",
              "    40% {\n",
              "      border-color: transparent;\n",
              "      border-right-color: var(--fill-color);\n",
              "      border-top-color: var(--fill-color);\n",
              "    }\n",
              "    60% {\n",
              "      border-color: transparent;\n",
              "      border-right-color: var(--fill-color);\n",
              "    }\n",
              "    80% {\n",
              "      border-color: transparent;\n",
              "      border-right-color: var(--fill-color);\n",
              "      border-bottom-color: var(--fill-color);\n",
              "    }\n",
              "    90% {\n",
              "      border-color: transparent;\n",
              "      border-bottom-color: var(--fill-color);\n",
              "    }\n",
              "  }\n",
              "</style>\n",
              "\n",
              "  <script>\n",
              "    async function quickchart(key) {\n",
              "      const quickchartButtonEl =\n",
              "        document.querySelector('#' + key + ' button');\n",
              "      quickchartButtonEl.disabled = true;  // To prevent multiple clicks.\n",
              "      quickchartButtonEl.classList.add('colab-df-spinner');\n",
              "      try {\n",
              "        const charts = await google.colab.kernel.invokeFunction(\n",
              "            'suggestCharts', [key], {});\n",
              "      } catch (error) {\n",
              "        console.error('Error during call to suggestCharts:', error);\n",
              "      }\n",
              "      quickchartButtonEl.classList.remove('colab-df-spinner');\n",
              "      quickchartButtonEl.classList.add('colab-df-quickchart-complete');\n",
              "    }\n",
              "    (() => {\n",
              "      let quickchartButtonEl =\n",
              "        document.querySelector('#df-852eed1b-c159-45c2-b725-3399a6d32efe button');\n",
              "      quickchartButtonEl.style.display =\n",
              "        google.colab.kernel.accessAllowed ? 'block' : 'none';\n",
              "    })();\n",
              "  </script>\n",
              "</div>\n",
              "    </div>\n",
              "  </div>\n"
            ],
            "application/vnd.google.colaboratory.intrinsic+json": {
              "type": "dataframe",
              "variable_name": "data",
              "summary": "{\n  \"name\": \"data\",\n  \"rows\": 20832,\n  \"fields\": [\n    {\n      \"column\": \"country\",\n      \"properties\": {\n        \"dtype\": \"category\",\n        \"num_unique_values\": 1,\n        \"samples\": [\n          \"United States of America\"\n        ],\n        \"semantic_type\": \"\",\n        \"description\": \"\"\n      }\n    },\n    {\n      \"column\": \"country_code\",\n      \"properties\": {\n        \"dtype\": \"category\",\n        \"num_unique_values\": 1,\n        \"samples\": [\n          \"US\"\n        ],\n        \"semantic_type\": \"\",\n        \"description\": \"\"\n      }\n    },\n    {\n      \"column\": \"date_added\",\n      \"properties\": {\n        \"dtype\": \"date\",\n        \"min\": \"2016-02-29 00:00:00\",\n        \"max\": \"2017-01-16 00:00:00\",\n        \"num_unique_values\": 78,\n        \"samples\": [\n          \"4/7/2016\"\n        ],\n        \"semantic_type\": \"\",\n        \"description\": \"\"\n      }\n    },\n    {\n      \"column\": \"has_expired\",\n      \"properties\": {\n        \"dtype\": \"category\",\n        \"num_unique_values\": 1,\n        \"samples\": [\n          \"No\"\n        ],\n        \"semantic_type\": \"\",\n        \"description\": \"\"\n      }\n    },\n    {\n      \"column\": \"job_board\",\n      \"properties\": {\n        \"dtype\": \"category\",\n        \"num_unique_values\": 1,\n        \"samples\": [\n          \"jobs.monster.com\"\n        ],\n        \"semantic_type\": \"\",\n        \"description\": \"\"\n      }\n    },\n    {\n      \"column\": \"job_description\",\n      \"properties\": {\n        \"dtype\": \"string\",\n        \"num_unique_values\": 18744,\n        \"samples\": [\n          \"A Direct Hire Debt Finance Associate Job is now available through Parker + Lynch in the Los Angeles, CA area! \\u00a0If you have one or more years of debt finance experience at a large firm, then this could be an ideal position for you. This is a fantastic opportunity to work for a notable law firm! \\u00a0Qualifications: At least one year of experience in either: structuring, documentation and negotiation of secured and unsecured financing transactions for both borrowers and lenders, including senior, mezzanine and subordinated debt transactions; acquisition financings; and loan workouts.Transferable M&A and leveraged finance skillsExcellent academics and a J.D. from a top-tier law school preferredCA bar preferred, but not required \\u00a0If you are interested in the Direct Hire Debt Finance Associate Job in the Los Angeles, California area offered through Parker + Lynch, please apply below. If you are interested in other legal positions in the Los Angeles area, you can go to our website to look at job opportunities.** Please ensure your resume includes the name and phone number of two professional references who we are authorized to call.\\u00a0\"\n        ],\n        \"semantic_type\": \"\",\n        \"description\": \"\"\n      }\n    },\n    {\n      \"column\": \"job_title\",\n      \"properties\": {\n        \"dtype\": \"string\",\n        \"num_unique_values\": 18759,\n        \"samples\": [\n          \"Financial Auditor II Job in Framingham\"\n        ],\n        \"semantic_type\": \"\",\n        \"description\": \"\"\n      }\n    },\n    {\n      \"column\": \"job_type\",\n      \"properties\": {\n        \"dtype\": \"category\",\n        \"num_unique_values\": 39,\n        \"samples\": [\n          \"Per Diem, Temporary/Contract/Project\"\n        ],\n        \"semantic_type\": \"\",\n        \"description\": \"\"\n      }\n    },\n    {\n      \"column\": \"location\",\n      \"properties\": {\n        \"dtype\": \"category\",\n        \"num_unique_values\": 8423,\n        \"samples\": [\n          \"Casper, WY 82602\"\n        ],\n        \"semantic_type\": \"\",\n        \"description\": \"\"\n      }\n    },\n    {\n      \"column\": \"organization\",\n      \"properties\": {\n        \"dtype\": \"category\",\n        \"num_unique_values\": 738,\n        \"samples\": [\n          \"Consumer Packaged Goods Manufacturing; Manufacturing - Other; Food and Beverage Production\"\n        ],\n        \"semantic_type\": \"\",\n        \"description\": \"\"\n      }\n    },\n    {\n      \"column\": \"salary\",\n      \"properties\": {\n        \"dtype\": \"category\",\n        \"num_unique_values\": 1737,\n        \"samples\": [\n          \"95,000.00 - 125,000.00 $ /year\"\n        ],\n        \"semantic_type\": \"\",\n        \"description\": \"\"\n      }\n    },\n    {\n      \"column\": \"sector\",\n      \"properties\": {\n        \"dtype\": \"category\",\n        \"num_unique_values\": 163,\n        \"samples\": [\n          \"Equipment Install/Maintain/RepairFacilities Management/MaintenanceGeneral/Other: Installation/Maintenance/Repair\"\n        ],\n        \"semantic_type\": \"\",\n        \"description\": \"\"\n      }\n    },\n    {\n      \"column\": \"format\",\n      \"properties\": {\n        \"dtype\": \"category\",\n        \"num_unique_values\": 5,\n        \"samples\": [\n          \"unknown\"\n        ],\n        \"semantic_type\": \"\",\n        \"description\": \"\"\n      }\n    },\n    {\n      \"column\": \"city\",\n      \"properties\": {\n        \"dtype\": \"category\",\n        \"num_unique_values\": 3517,\n        \"samples\": [\n          \"Tullahoma\"\n        ],\n        \"semantic_type\": \"\",\n        \"description\": \"\"\n      }\n    },\n    {\n      \"column\": \"state\",\n      \"properties\": {\n        \"dtype\": \"category\",\n        \"num_unique_values\": 327,\n        \"samples\": [\n          \"43123\"\n        ],\n        \"semantic_type\": \"\",\n        \"description\": \"\"\n      }\n    },\n    {\n      \"column\": \"zip_code\",\n      \"properties\": {\n        \"dtype\": \"Int32\",\n        \"num_unique_values\": 4152,\n        \"samples\": [\n          75215\n        ],\n        \"semantic_type\": \"\",\n        \"description\": \"\"\n      }\n    }\n  ]\n}"
            }
          },
          "metadata": {},
          "execution_count": 13
        }
      ]
    },
    {
      "cell_type": "markdown",
      "source": [
        "Рассмотрите отложенную часть выборки (ту, где не удалось данные из столбца `location` разделить на три поля) и сделайте выводы о возможности извлечь из данных город, код штата и почтовый индекс. Извлеките все, что возможно. Что невозможно – оставьте пустым."
      ],
      "metadata": {
        "id": "aXtr78WJ_cyH"
      }
    },
    {
      "cell_type": "code",
      "source": [
        "data[data['format'] == 'unknown'].sample()"
      ],
      "metadata": {
        "id": "q4S6RjAR_rk-",
        "colab": {
          "base_uri": "https://localhost:8080/",
          "height": 170
        },
        "outputId": "a18df9ef-8da7-4236-9e24-228e2ede6987"
      },
      "execution_count": 14,
      "outputs": [
        {
          "output_type": "execute_result",
          "data": {
            "text/plain": [
              "                        country country_code date_added has_expired  \\\n",
              "16959  United States of America           US        NaN          No   \n",
              "\n",
              "              job_board                                    job_description  \\\n",
              "16959  jobs.monster.com  The Bosch Group operates in most countries in ...   \n",
              "\n",
              "                                               job_title job_type  \\\n",
              "16959  Development Engineer - Automotive Air Moving S...      NaN   \n",
              "\n",
              "                    location organization salary sector   format city state  \\\n",
              "16959  Waltham, Ma, MA 02451          NaN    NaN    NaN  unknown  NaN   NaN   \n",
              "\n",
              "       zip_code  \n",
              "16959      <NA>  "
            ],
            "text/html": [
              "\n",
              "  <div id=\"df-2cef79ee-8e0d-4524-b980-532890cb6de4\" class=\"colab-df-container\">\n",
              "    <div>\n",
              "<style scoped>\n",
              "    .dataframe tbody tr th:only-of-type {\n",
              "        vertical-align: middle;\n",
              "    }\n",
              "\n",
              "    .dataframe tbody tr th {\n",
              "        vertical-align: top;\n",
              "    }\n",
              "\n",
              "    .dataframe thead th {\n",
              "        text-align: right;\n",
              "    }\n",
              "</style>\n",
              "<table border=\"1\" class=\"dataframe\">\n",
              "  <thead>\n",
              "    <tr style=\"text-align: right;\">\n",
              "      <th></th>\n",
              "      <th>country</th>\n",
              "      <th>country_code</th>\n",
              "      <th>date_added</th>\n",
              "      <th>has_expired</th>\n",
              "      <th>job_board</th>\n",
              "      <th>job_description</th>\n",
              "      <th>job_title</th>\n",
              "      <th>job_type</th>\n",
              "      <th>location</th>\n",
              "      <th>organization</th>\n",
              "      <th>salary</th>\n",
              "      <th>sector</th>\n",
              "      <th>format</th>\n",
              "      <th>city</th>\n",
              "      <th>state</th>\n",
              "      <th>zip_code</th>\n",
              "    </tr>\n",
              "  </thead>\n",
              "  <tbody>\n",
              "    <tr>\n",
              "      <th>16959</th>\n",
              "      <td>United States of America</td>\n",
              "      <td>US</td>\n",
              "      <td>NaN</td>\n",
              "      <td>No</td>\n",
              "      <td>jobs.monster.com</td>\n",
              "      <td>The Bosch Group operates in most countries in ...</td>\n",
              "      <td>Development Engineer - Automotive Air Moving S...</td>\n",
              "      <td>NaN</td>\n",
              "      <td>Waltham, Ma, MA 02451</td>\n",
              "      <td>NaN</td>\n",
              "      <td>NaN</td>\n",
              "      <td>NaN</td>\n",
              "      <td>unknown</td>\n",
              "      <td>NaN</td>\n",
              "      <td>NaN</td>\n",
              "      <td>&lt;NA&gt;</td>\n",
              "    </tr>\n",
              "  </tbody>\n",
              "</table>\n",
              "</div>\n",
              "    <div class=\"colab-df-buttons\">\n",
              "\n",
              "  <div class=\"colab-df-container\">\n",
              "    <button class=\"colab-df-convert\" onclick=\"convertToInteractive('df-2cef79ee-8e0d-4524-b980-532890cb6de4')\"\n",
              "            title=\"Convert this dataframe to an interactive table.\"\n",
              "            style=\"display:none;\">\n",
              "\n",
              "  <svg xmlns=\"http://www.w3.org/2000/svg\" height=\"24px\" viewBox=\"0 -960 960 960\">\n",
              "    <path d=\"M120-120v-720h720v720H120Zm60-500h600v-160H180v160Zm220 220h160v-160H400v160Zm0 220h160v-160H400v160ZM180-400h160v-160H180v160Zm440 0h160v-160H620v160ZM180-180h160v-160H180v160Zm440 0h160v-160H620v160Z\"/>\n",
              "  </svg>\n",
              "    </button>\n",
              "\n",
              "  <style>\n",
              "    .colab-df-container {\n",
              "      display:flex;\n",
              "      gap: 12px;\n",
              "    }\n",
              "\n",
              "    .colab-df-convert {\n",
              "      background-color: #E8F0FE;\n",
              "      border: none;\n",
              "      border-radius: 50%;\n",
              "      cursor: pointer;\n",
              "      display: none;\n",
              "      fill: #1967D2;\n",
              "      height: 32px;\n",
              "      padding: 0 0 0 0;\n",
              "      width: 32px;\n",
              "    }\n",
              "\n",
              "    .colab-df-convert:hover {\n",
              "      background-color: #E2EBFA;\n",
              "      box-shadow: 0px 1px 2px rgba(60, 64, 67, 0.3), 0px 1px 3px 1px rgba(60, 64, 67, 0.15);\n",
              "      fill: #174EA6;\n",
              "    }\n",
              "\n",
              "    .colab-df-buttons div {\n",
              "      margin-bottom: 4px;\n",
              "    }\n",
              "\n",
              "    [theme=dark] .colab-df-convert {\n",
              "      background-color: #3B4455;\n",
              "      fill: #D2E3FC;\n",
              "    }\n",
              "\n",
              "    [theme=dark] .colab-df-convert:hover {\n",
              "      background-color: #434B5C;\n",
              "      box-shadow: 0px 1px 3px 1px rgba(0, 0, 0, 0.15);\n",
              "      filter: drop-shadow(0px 1px 2px rgba(0, 0, 0, 0.3));\n",
              "      fill: #FFFFFF;\n",
              "    }\n",
              "  </style>\n",
              "\n",
              "    <script>\n",
              "      const buttonEl =\n",
              "        document.querySelector('#df-2cef79ee-8e0d-4524-b980-532890cb6de4 button.colab-df-convert');\n",
              "      buttonEl.style.display =\n",
              "        google.colab.kernel.accessAllowed ? 'block' : 'none';\n",
              "\n",
              "      async function convertToInteractive(key) {\n",
              "        const element = document.querySelector('#df-2cef79ee-8e0d-4524-b980-532890cb6de4');\n",
              "        const dataTable =\n",
              "          await google.colab.kernel.invokeFunction('convertToInteractive',\n",
              "                                                    [key], {});\n",
              "        if (!dataTable) return;\n",
              "\n",
              "        const docLinkHtml = 'Like what you see? Visit the ' +\n",
              "          '<a target=\"_blank\" href=https://colab.research.google.com/notebooks/data_table.ipynb>data table notebook</a>'\n",
              "          + ' to learn more about interactive tables.';\n",
              "        element.innerHTML = '';\n",
              "        dataTable['output_type'] = 'display_data';\n",
              "        await google.colab.output.renderOutput(dataTable, element);\n",
              "        const docLink = document.createElement('div');\n",
              "        docLink.innerHTML = docLinkHtml;\n",
              "        element.appendChild(docLink);\n",
              "      }\n",
              "    </script>\n",
              "  </div>\n",
              "\n",
              "    </div>\n",
              "  </div>\n"
            ],
            "application/vnd.google.colaboratory.intrinsic+json": {
              "type": "dataframe",
              "repr_error": "0"
            }
          },
          "metadata": {},
          "execution_count": 14
        }
      ]
    },
    {
      "cell_type": "code",
      "source": [
        "# Можем заменить, что много строчек почти стандартные, но имеют приписку \"Address\" в самом начале"
      ],
      "metadata": {
        "id": "7aA-Rp_s45K0"
      },
      "execution_count": null,
      "outputs": []
    },
    {
      "cell_type": "code",
      "source": [
        "patterns_bonus = {\n",
        "    'city_state_zip': r'^(?:Address\\s+:?\\s*)?([\\w\\s\\-]+),\\s*(\\w\\w)\\s*(\\d{5}(?:-\\d{4})?)$',\n",
        "    'city_state': r'^(?:Address\\s+:?\\s*)?([\\w\\s\\-]+),\\s*(\\w\\w)$',\n",
        "    'city_zip': r'^(?:Address\\s+:?\\s*)?([\\w\\s\\-]+)\\s*(\\d{5}(?:-\\d{4})?)$',\n",
        "    'state_zip': r'^(?:Address\\s+:?\\s*)?(\\w\\w)\\s*(\\d{5}(?:-\\d{4})?)$',\n",
        "    'only_city': r'^(?:Address\\s+:?\\s*)?([\\w\\s\\-]+)$',\n",
        "    'only_state': r'^(?:Address\\s+:?\\s*)?(\\w\\w)$',\n",
        "    'only_zip': r'^(?:Address\\s+:?\\s*)?(\\d{5}(?:-\\d{4})?)$'\n",
        "}\n",
        "k = 0\n",
        "extracted_data = pd.DataFrame(index=data.index, columns=['city', 'state', 'zip_code'])\n",
        "for index, row in data.iterrows():\n",
        "    for pattern_name, pattern in patterns_bonus.items():\n",
        "        match = re.match(pattern, row['location'])\n",
        "        if match:\n",
        "            groups = match.groups()\n",
        "            extracted_data.loc[index, 'city'] = groups[0].strip() if len(groups) > 0 else None\n",
        "            extracted_data.loc[index, 'state'] = groups[1].strip() if len(groups) > 1 else None\n",
        "            extracted_data.loc[index, 'zip_code'] = groups[2] if len(groups) > 2 else None\n",
        "            data.at[index, 'format'] = pattern_name\n",
        "            k += 1\n",
        "            break\n",
        "\n",
        "extracted_data['zip_code'] = pd.to_numeric(extracted_data['zip_code'], errors='coerce').astype('Int32')\n",
        "\n",
        "data[['city', 'state', 'zip_code']] = extracted_data\n",
        "print(k)"
      ],
      "metadata": {
        "colab": {
          "base_uri": "https://localhost:8080/"
        },
        "id": "ZTh5VLizG5jy",
        "outputId": "0d52b199-4ed4-4bbc-a7c1-a4556956fc85"
      },
      "execution_count": 15,
      "outputs": [
        {
          "output_type": "stream",
          "name": "stdout",
          "text": [
            "19186\n"
          ]
        }
      ]
    },
    {
      "cell_type": "code",
      "source": [
        "format_counts = data['format'].value_counts()\n",
        "print(format_counts)"
      ],
      "metadata": {
        "colab": {
          "base_uri": "https://localhost:8080/"
        },
        "id": "bx_xUYpNH53F",
        "outputId": "4db492b9-ccbc-42cc-bcbe-83e8a8540f81"
      },
      "execution_count": 16,
      "outputs": [
        {
          "output_type": "stream",
          "name": "stdout",
          "text": [
            "format\n",
            "city_state_zip    10995\n",
            "city_state         6603\n",
            "unknown            1646\n",
            "only_city          1240\n",
            "city_zip            348\n",
            "Name: count, dtype: int64\n"
          ]
        }
      ]
    },
    {
      "cell_type": "markdown",
      "source": [
        "### Задание 2\n",
        "\n",
        "В задании 2 необходимо провести обработку столбца `salary`."
      ],
      "metadata": {
        "id": "jnaCe7umCrCM"
      }
    },
    {
      "cell_type": "markdown",
      "source": [
        "#### Задание 2.1\n",
        "\n",
        "В столбце `salary`, как и в `location`, данные не стандатизированы. В нем в основном можно встретить записи в следующих форматах:\n",
        "\n",
        "* 10.00 - 20.00 &dollar; &sol;hour\n",
        "* 10,000.00 - 20,000.00 &dollar; &sol;year\n",
        "* &dollar;10.00 &sol;hour\n",
        "* &dollar;10,000.00+ &sol;year\n",
        "* Up to &dollar;20,000.00\n",
        "\n",
        "Основные проблемы, которые стоит учесть при обработке форматов:\n",
        "- В каждом из форматов может быть или не быть знака доллара.\n",
        "- Может отсутствовать информация о периоде, за который указывается зарплата (`/hour` или `/year` в примерах).\n",
        "- Зарплата может быть указана за месяц (`/month`) и за неделю (`/week`).\n",
        "- В начале, конце и середине некоторых строк есть лишние пробелы, которые не стоит учитывать.\n",
        "\n",
        "**Задание:**\n",
        "1. Определите весь перечень встречающихся форматов и напишите одно или несколько регулярных выражений для их поиска.\n",
        "2. Покажите на столбчатой диаграмме количество записей, содержащих каждый из форматов. Сделайте выводы."
      ],
      "metadata": {
        "id": "pODtqlog_v7l"
      }
    },
    {
      "cell_type": "code",
      "source": [
        "data['salary'] = data['salary'].astype(str)\n",
        "patterns_salary = {\n",
        "    'range': r'(\\d{1,3}(?:,\\d{3})*(?:\\.\\d{2})?)\\s*-\\s*(\\d{1,3}(?:,\\d{3})*(?:\\.\\d{2})?)\\s*\\$?\\s*/?(hour|year|month|week)?',\n",
        "    'min_only_plus': r'\\$?\\s*(\\d{1,3}(?:,\\d{3})*(?:\\.\\d{2})?)\\+\\s*/(hour|year|month|week)?',\n",
        "    'max_only_up_to': r'Up to\\s*\\$?(\\d{1,3}(?:,\\d{3})*(?:\\.\\d{2})?)\\s*/?(hour|year|month|week)?',\n",
        "    'min_only': r'\\$?\\s*(\\d{1,3}(?:,\\d{3})*(?:\\.\\d{2})?)'\n",
        "}\n",
        "\n",
        "data['format_salary'] = ''\n",
        "for index, row in data.iterrows():\n",
        "  if row['salary'] == 'nan':\n",
        "    data.at[index, 'format_salary'] = 'NaN_value'\n",
        "  else:\n",
        "    for pattern_name, pattern in patterns_salary.items():\n",
        "        if re.match(pattern, row['salary']):\n",
        "            data.at[index, 'format_salary'] = pattern_name\n",
        "            break\n",
        "    else:\n",
        "        data.at[index, 'format_salary'] = 'unknown'\n",
        "format_counts = data['format_salary'].value_counts()\n",
        "print(format_counts)"
      ],
      "metadata": {
        "id": "62JbulyKA7kS",
        "colab": {
          "base_uri": "https://localhost:8080/"
        },
        "outputId": "21997c3a-2b03-4544-8bdf-1801ed623d03"
      },
      "execution_count": 90,
      "outputs": [
        {
          "output_type": "stream",
          "name": "stdout",
          "text": [
            "format_salary\n",
            "NaN_value         17533\n",
            "range              2627\n",
            "unknown             385\n",
            "min_only_plus       166\n",
            "max_only_up_to       91\n",
            "min_only             30\n",
            "Name: count, dtype: int64\n"
          ]
        }
      ]
    },
    {
      "cell_type": "code",
      "source": [
        "plt.figure(figsize=(10, 6))\n",
        "plt.bar(format_counts.index, format_counts.values)\n",
        "plt.title('Распределение форматов в столбце Salary')\n",
        "plt.xlabel('Форматы')\n",
        "plt.ylabel('Частота встречаемости')\n",
        "plt.show()"
      ],
      "metadata": {
        "colab": {
          "base_uri": "https://localhost:8080/",
          "height": 564
        },
        "id": "ubz0TW3mRYYR",
        "outputId": "cc1cab73-f957-4b11-853f-7b931d2aee41"
      },
      "execution_count": 91,
      "outputs": [
        {
          "output_type": "display_data",
          "data": {
            "text/plain": [
              "<Figure size 1000x600 with 1 Axes>"
            ],
            "image/png": "[encoded data removed]"
          },
          "metadata": {}
        }
      ]
    },
    {
      "cell_type": "markdown",
      "source": [
        "#### Задание 2.2\n",
        "\n",
        "1. Разделите столбец `salary` зарплаты три: `минимальная граница зарплаты`, `максимальная граница зарплаты`, `период`. Если значение суммы указано только одно, считайте, что это минимальная зарплата. Значение суммы в обоих столбцах преобразуйте в формат `float`.\n",
        "2. Покажите на столбчатой диаграмме с группировкой среднюю и медианную минимальную зарплату в каждом периоде. Сделайте выводы."
      ],
      "metadata": {
        "id": "HcDjkOO2MZB2"
      }
    },
    {
      "cell_type": "code",
      "source": [
        "salary_data = pd.DataFrame(index=data.index, columns=['minimum_salary', 'max_salary', 'range_salary'])\n",
        "for index, row in data.iterrows():\n",
        "    salary = str(row['salary']).strip()\n",
        "    for pattern_name, pattern in patterns_salary.items():\n",
        "        match = re.search(pattern, salary)\n",
        "        if match:\n",
        "            groups = match.groups()\n",
        "            salary_data.loc[index, 'minimum_salary'] = float(groups[0].replace(',', '')) if len(groups) > 0 and groups[0] else None\n",
        "            if pattern_name == 'range' and len(groups) > 1:\n",
        "                salary_data.loc[index, 'max_salary'] = float(groups[1].replace(',', '')) if groups[1] else None\n",
        "            if pattern_name == 'range' and len(groups) > 2:\n",
        "                salary_data.loc[index, 'range_salary'] = groups[-1]\n",
        "            else:\n",
        "                salary_data.loc[index, 'range_salary'] = None\n",
        "\n",
        "            break\n",
        "\n",
        "salary_data['minimum_salary'] = pd.to_numeric(salary_data['minimum_salary'], errors='coerce')\n",
        "salary_data['max_salary'] = pd.to_numeric(salary_data['max_salary'], errors='coerce')\n",
        "data[['minimum_salary', 'max_salary', 'range_salary']] = salary_data\n",
        "print(data[['salary', 'minimum_salary', 'max_salary', 'range_salary']].head(20))"
      ],
      "metadata": {
        "id": "Sv7hqH6vBKXt",
        "outputId": "dcce2e4b-e286-413e-a363-2e81ce192192",
        "colab": {
          "base_uri": "https://localhost:8080/"
        }
      },
      "execution_count": 92,
      "outputs": [
        {
          "output_type": "stream",
          "name": "stdout",
          "text": [
            "                           salary  minimum_salary  max_salary range_salary\n",
            "0                             nan             NaN         NaN          NaN\n",
            "1                             nan             NaN         NaN          NaN\n",
            "2                             nan             NaN         NaN          NaN\n",
            "3                             nan             NaN         NaN          NaN\n",
            "4                             nan             NaN         NaN          NaN\n",
            "5                             nan             NaN         NaN          NaN\n",
            "6                             nan             NaN         NaN          NaN\n",
            "7                             nan             NaN         NaN          NaN\n",
            "8                             nan             NaN         NaN          NaN\n",
            "9                             nan             NaN         NaN          NaN\n",
            "10                            nan             NaN         NaN          NaN\n",
            "11                            nan             NaN         NaN          NaN\n",
            "12                            nan             NaN         NaN          NaN\n",
            "13           9.00 - 13.00 $ /hour             9.0        13.0         hour\n",
            "14  80,000.00 - 95,000.00 $ /year         80000.0     95000.0         year\n",
            "15                            nan             NaN         NaN          NaN\n",
            "16                            nan             NaN         NaN          NaN\n",
            "17                            nan             NaN         NaN          NaN\n",
            "18                            nan             NaN         NaN          NaN\n",
            "19  60,000.00 - 72,000.00 $ /year         60000.0     72000.0         year\n"
          ]
        }
      ]
    },
    {
      "cell_type": "code",
      "source": [
        "data.info()"
      ],
      "metadata": {
        "id": "Izkb6Y2ea2yT",
        "outputId": "935fc976-39f9-4733-e0b4-b88f637f5b1c",
        "colab": {
          "base_uri": "https://localhost:8080/"
        }
      },
      "execution_count": 94,
      "outputs": [
        {
          "output_type": "stream",
          "name": "stdout",
          "text": [
            "<class 'pandas.core.frame.DataFrame'>\n",
            "Index: 20832 entries, 0 to 21999\n",
            "Data columns (total 20 columns):\n",
            " #   Column           Non-Null Count  Dtype  \n",
            "---  ------           --------------  -----  \n",
            " 0   country          20832 non-null  object \n",
            " 1   country_code     20832 non-null  object \n",
            " 2   date_added       119 non-null    object \n",
            " 3   has_expired      20832 non-null  object \n",
            " 4   job_board        20832 non-null  object \n",
            " 5   job_description  20832 non-null  object \n",
            " 6   job_title        20832 non-null  object \n",
            " 7   job_type         19311 non-null  object \n",
            " 8   location         20832 non-null  object \n",
            " 9   organization     14227 non-null  object \n",
            " 10  salary           20832 non-null  object \n",
            " 11  sector           15909 non-null  object \n",
            " 12  format           20832 non-null  object \n",
            " 13  city             19186 non-null  object \n",
            " 14  state            17946 non-null  object \n",
            " 15  zip_code         10995 non-null  Int32  \n",
            " 16  format_salary    20832 non-null  object \n",
            " 17  minimum_salary   2946 non-null   float64\n",
            " 18  max_salary       2643 non-null   float64\n",
            " 19  range_salary     2628 non-null   object \n",
            "dtypes: Int32(1), float64(2), object(17)\n",
            "memory usage: 3.8+ MB\n"
          ]
        }
      ]
    },
    {
      "cell_type": "code",
      "source": [
        "salary_stats = salary_data.groupby('range_salary')['minimum_salary'].agg(['mean', 'median']).reset_index()\n",
        "periods = salary_stats['range_salary'].unique()\n",
        "fig, axes = plt.subplots(nrows=2, ncols=2, figsize=(14, 10))\n",
        "axes = axes.flatten()\n",
        "for i, period in enumerate(periods):\n",
        "    period_data = salary_stats[salary_stats['range_salary'] == period]\n",
        "    sns.barplot(x=['Средняя зарплата', 'Медианная зарплата'], y=period_data[['mean', 'median']].values.flatten(), ax=axes[i])\n",
        "    axes[i].set_title(f'Зарплата для периода: {period}')\n",
        "    axes[i].set_ylabel('Зарплата')\n",
        "    axes[i].set_xlabel('Тип зарплаты')\n",
        "plt.tight_layout()\n",
        "plt.show()"
      ],
      "metadata": {
        "id": "qSCxyqH2OdXR",
        "outputId": "ae9b0aa6-c1f5-4f88-b3e6-519b199f22c1",
        "colab": {
          "base_uri": "https://localhost:8080/",
          "height": 776
        }
      },
      "execution_count": 95,
      "outputs": [
        {
          "output_type": "display_data",
          "data": {
            "text/plain": [
              "<Figure size 1400x1000 with 4 Axes>"
            ],
            "image/png": "[encoded data removed]"
          },
          "metadata": {}
        }
      ]
    },
    {
      "cell_type": "code",
      "source": [
        "# Медианная зарплата обычно меньше, чем средняя. Это вполне ожидаемо, т.к. количество низкооплачиваемых специалистов обычно больше,\n",
        "# чем высокооплачиваемых. Но для графика зарплат в час разрыв между медианной зарплатой и средней.\n",
        "# Скорее всего это связано с тем, что много малооплачиваемых специалистов имеют почасовой оклад, из-за этого небольшая группа людей\n",
        "# с высоким доходом очень сильно влияет на среднее. Медианное значение оказалось более устойчевым"
      ],
      "metadata": {
        "id": "WQ2nHku4RjFN"
      },
      "execution_count": 48,
      "outputs": []
    },
    {
      "cell_type": "markdown",
      "source": [
        "#### Задание 2.3\n",
        "\n",
        "Как было отмечено в задании 2.1, период, за который указывается зарплата, может отсутствовать. Восполните этот пробел в данных следующим образом:\n",
        "\n",
        "1. Определите диапазон изменения (разброс) значений денежной суммы за каждый из встречающихся в данных периодов. Постройте гистограмму для каждого периода.\n",
        "2. Определите, к среднему значению за какой период ближе всего сумма, у которой период не указан. Укажите для найденный период. В спорных случаях, где сумма одинаково близка к нескольким диапазонам, не выбирайте ничего."
      ],
      "metadata": {
        "id": "3qwRlgzGC-To"
      }
    },
    {
      "cell_type": "code",
      "source": [
        "# PUT YOUR CODE HERE"
      ],
      "metadata": {
        "id": "FnhxSKfkAgbS"
      },
      "execution_count": null,
      "outputs": []
    },
    {
      "cell_type": "markdown",
      "source": [
        "### Задание 3\n",
        "\n",
        "В задании 3 необходимо провести обработку столбца `job_type`. Выясните, какие форматы значений есть в столбце `job_type`. Сделайте выводы. При необходимости – стройте графики."
      ],
      "metadata": {
        "id": "cQZa1dUvXPZc"
      }
    },
    {
      "cell_type": "code",
      "source": [
        "# PUT YOUR CODE HERE"
      ],
      "metadata": {
        "id": "PbFXp8J6BN--"
      },
      "execution_count": null,
      "outputs": []
    },
    {
      "cell_type": "markdown",
      "source": [
        "Вы заметили, что многие значения фактически одинаковые, но немного по-разному отформатированы? Приведем их к единому формату."
      ],
      "metadata": {
        "id": "CpUXRxhoXsdy"
      }
    },
    {
      "cell_type": "code",
      "source": [
        "# PUT YOUR CODE HERE"
      ],
      "metadata": {
        "id": "ejRYjjC7WIES"
      },
      "execution_count": null,
      "outputs": []
    },
    {
      "cell_type": "markdown",
      "source": [
        "Столбец `job_type` состоит из двух частей: \"полнота\" занятости (`Full Time`, `Part Time`, `Per Diem`) и \"тип\" занятости (`Employee`, `Intern`). Кроме того, встречаются и неполные записи.\n",
        "\n",
        "Задание:\n",
        "1. Написать одно или несколько регулярных выражений для разделения столбца `job_type` на два: `полнота занятости`, `тип занятости`.\n",
        "2. Если данные о полноте отсутствуют, внесите значение `Full Time`.\n",
        "Если отсутствуют данные о типе – внесите `Employee`.\n",
        "3. Постройте столбчатую диаграмму со стековой группировкой для полноты и типа занятости. Сделайте выводы."
      ],
      "metadata": {
        "id": "3dTDSMR8dTI8"
      }
    },
    {
      "cell_type": "code",
      "source": [
        "# PUT YOUR CODE HERE"
      ],
      "metadata": {
        "id": "gW7GoMgkbtLx"
      },
      "execution_count": null,
      "outputs": []
    },
    {
      "cell_type": "markdown",
      "source": [
        "# Порядок защиты работы"
      ],
      "metadata": {
        "id": "kNKi8fn1X0Qa"
      }
    },
    {
      "cell_type": "markdown",
      "source": [
        "**Для защиты работы необходимо:**\n",
        "1. Предоставить результаты выполнения всех заданий в виде ссылки на Google Colab.\n",
        "2. Выполнить дополнительное задание в процессе сдачи работы. Дополнительное задание представляет собой решение задачи на обработку данных лабораторной работы, меньшее по объему, но сопоставимое по сложности тем заданиям, которые требовалось выполнить в рамках работы.\n",
        "\n",
        "**Примеры дополнительных заданий:**\n",
        "1. В столбце `sector` часто представлены данные из столбца `organization` и наоборот. Устраните эту проблему.\n",
        "2. В столбце `job_title` часто можно частично или полностью встретить указание местоположения организации. Сравните, совпадают ли в таких случаях данные с тем, что указано в столбцах `город`, `код штата`, `почтовый индекс`. Если в этих трех столбцах данные отсутствуют, заполните их данными из столбца `job_title`.\n",
        "3. Практически во всех столбцах датасета вместо соответствующих названию данных иногда встречается текст из `job_description`. Найдите такие столбцы и записи с описанием вакансии в них. Покажите на столбчатой диаграмме, в каких столбцах и в каком количестве находится информация из столбца `job_description`."
      ],
      "metadata": {
        "id": "vNArFxJcX8uS"
      }
    },
    {
      "cell_type": "markdown",
      "source": [
        "# Дополнительные материалы"
      ],
      "metadata": {
        "id": "o5oPWAt-Z_s_"
      }
    },
    {
      "cell_type": "markdown",
      "source": [
        "1. DAMA-DMBOK: Свод знаний по управлению данными: Второе издание / DAMA International; [пер. с англ.]. – Москва: ООО \"Олимп-Бизнес\", 2021. – 828 с.\n",
        "2. Макгрегор, С. Обработка данных на Python: Data Wrangling и Data Quality: [Текст] / С. Макгрегор. – Москва: БХВ, 2024. – 432 с."
      ],
      "metadata": {
        "id": "-MwwS_lTaSGM"
      }
    }
  ]
}